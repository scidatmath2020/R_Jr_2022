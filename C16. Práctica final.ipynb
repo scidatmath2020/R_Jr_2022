{
 "cells": [
  {
   "cell_type": "markdown",
   "metadata": {},
   "source": [
    "<img src=\"logo.png\">"
   ]
  },
  {
   "cell_type": "markdown",
   "metadata": {},
   "source": [
    "# Práctica final. \n",
    "\n",
    "Realiza cada uno de los siguientes ejercicios."
   ]
  },
  {
   "cell_type": "markdown",
   "metadata": {},
   "source": [
    "## Nivel: fácil\n",
    "\n",
    "- Carga los archivos TMod_Vic.csv, descriptor_entidad.csv, descriptor_meses.csv y descriptor_delitos.csv que están en la sección de tareas. Guardalos como tmod_vic, descriptor_ent, descriptor_mes y descriptor_del.\n",
    "\n",
    "- Muestra los nombres de tmod_vic.\n",
    "\n",
    "- Añade a tmod_vic tres columnas para describir el nombre de la entidad de ocurrencia del delito, el nombre del delito y el mes del año en que ocurrió el delito.\n",
    "\n",
    "- Cuenta el número de filas por cada entidad de ocurrencia utilizando la función ``table``.  Convierte el resultado a dataframe: filas_por_entidad.\n",
    "\n",
    "- Añade a filas_por_entidad una columna que indique el nombre explícito de cada entidad.\n",
    "\n",
    "- ¿Cuál entidad reportó mas delitos en términos de encuestados?"
   ]
  },
  {
   "cell_type": "markdown",
   "metadata": {},
   "source": [
    "## Nivel: medio\n",
    "\n",
    "- Crea un dataframe llamado delitos_entidad donde se tenga una columna con los nombres de cada entidad y otra columna con el total de delitos cometidos en esa entidad.\n",
    "\n",
    "- Construye un gráfico de barras a partir de delitos_entidad donde las barras se ordenen de mayor a menor. Dale un nombre al gráfico e ilumina cada barra de color \"darkgreen\"."
   ]
  },
  {
   "cell_type": "markdown",
   "metadata": {},
   "source": [
    "## Nivel: avanzado\n",
    "\n",
    "Realizar el siguiente tabulado. En él se muestra, para cada Entidad de la República Mexicana, el total de delitos que se cometieron, los cinco delitos mas comunes ordenados de mayor a menor por ocurrencia, el total de cada uno de esos delitos, la suma de los delitos más comunes y los valores relativos respecto del total de delitos cometidos.\n",
    "\n",
    "<img src=\"im12.png\">\n",
    "\n"
   ]
  }
 ],
 "metadata": {
  "kernelspec": {
   "display_name": "R",
   "language": "R",
   "name": "ir"
  },
  "language_info": {
   "codemirror_mode": "r",
   "file_extension": ".r",
   "mimetype": "text/x-r-source",
   "name": "R",
   "pygments_lexer": "r",
   "version": "3.6.1"
  }
 },
 "nbformat": 4,
 "nbformat_minor": 4
}
