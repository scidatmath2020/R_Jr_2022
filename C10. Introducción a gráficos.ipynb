{
 "cells": [
  {
   "cell_type": "markdown",
   "metadata": {},
   "source": [
    "<img src=\"logo.png\">"
   ]
  },
  {
   "cell_type": "markdown",
   "metadata": {},
   "source": [
    "# Introducción a gráficos\n",
    "\n",
    "Uno de los usos fundamentales de **R** es la visualización para análisis exploratorio. Es decir, graficación de datos.\n",
    "\n",
    "**R** por su propia cuenta dispone de varios tipos de gráficos; en este capítulo veremos nubes de puntos, gráficos de barras e histogramas."
   ]
  },
  {
   "cell_type": "code",
   "execution_count": null,
   "metadata": {},
   "outputs": [],
   "source": [
    "data(mtcars)"
   ]
  },
  {
   "cell_type": "markdown",
   "metadata": {},
   "source": [
    "## Nubes de puntos (scatter plots).\n",
    "\n",
    "Una nube de puntos se refiere a graficar dos columnas numéricas en un plano XY, donde las coordenadas en X corresponden a una columna y las coordenadas en Y corresponden a otra."
   ]
  },
  {
   "cell_type": "code",
   "execution_count": null,
   "metadata": {},
   "outputs": [],
   "source": [
    "plot(x=mtcars$hp, y=mtcars$wt, main = \"Título de la gráfica\",\n",
    "    xlab=\"caballos de fuerza\",\n",
    "    ylab=\"peso\",col=\"orange\") #pch = 19\n"
   ]
  },
  {
   "cell_type": "markdown",
   "metadata": {},
   "source": [
    "## Gráfico de barras\n",
    "\n",
    "Los gráficos de barras sirven para hacer conteos sobre las diferentes clases que tiene una variable de clasificación. \n",
    "\n",
    "Previo a ver un ejemplo, comentamos que **R** tiene una función, ``tabla()``, que nos devuelve este conteo."
   ]
  },
  {
   "cell_type": "code",
   "execution_count": null,
   "metadata": {},
   "outputs": [],
   "source": [
    "table(mtcars$cyl)"
   ]
  },
  {
   "cell_type": "code",
   "execution_count": null,
   "metadata": {},
   "outputs": [],
   "source": [
    "count_cyl  <- table(mtcars$cyl)"
   ]
  },
  {
   "cell_type": "code",
   "execution_count": null,
   "metadata": {},
   "outputs": [],
   "source": [
    "barplot(count_cyl,main=\"Gráfico de barras\")"
   ]
  },
  {
   "cell_type": "code",
   "execution_count": null,
   "metadata": {},
   "outputs": [],
   "source": [
    "barplot(count_cyl,main=\"Gráfico de barras\",\n",
    "       xlab=\"cilindros\",ylab = \"total\",\n",
    "       col = c(\"darkred\",\"green\",\"orange\"))"
   ]
  },
  {
   "cell_type": "markdown",
   "metadata": {},
   "source": [
    "## Histogramas\n",
    "\n",
    "Los histogramas sirven para ver la distribución total o de frecuencias de una variable numérica."
   ]
  },
  {
   "cell_type": "code",
   "execution_count": null,
   "metadata": {},
   "outputs": [],
   "source": [
    "hist(mtcars$hp,col=\"darkgreen\",breaks=5)"
   ]
  },
  {
   "cell_type": "markdown",
   "metadata": {},
   "source": [
    "## ggplot2\n",
    "\n",
    "Como pudo verse, cada tipo de gráfico maneja algunas sintaxis en particular. **R** tiene una paquetería para realizar gráficos de manera más cómoda y genérica, la cual además presenta resultados más estéticos. Esta paquetería se conoce como ``ggplot2``."
   ]
  },
  {
   "cell_type": "code",
   "execution_count": null,
   "metadata": {},
   "outputs": [],
   "source": [
    "ggplot(data = mtcars, aes(x=hp)) + geom_histogram(fill=\"salmon\",col=\"black\",binwidth=50)"
   ]
  },
  {
   "cell_type": "code",
   "execution_count": null,
   "metadata": {},
   "outputs": [],
   "source": [
    "ggplot(data = mtcars, aes(x=hp,y=wt)) + geom_point(aes(col=\"salmon\",size = factor(cyl)),alpha=0.5)"
   ]
  },
  {
   "cell_type": "markdown",
   "metadata": {},
   "source": [
    "En https://github.com/scidatmath2020/RStudio-para-Ciencia-de-datos/blob/master/ggplot2-cheatsheet-2.1-Spanish.pdf puedes ver un resumen de cómo hacer gráficos con ``ggplot``"
   ]
  }
 ],
 "metadata": {
  "kernelspec": {
   "display_name": "R",
   "language": "R",
   "name": "ir"
  },
  "language_info": {
   "codemirror_mode": "r",
   "file_extension": ".r",
   "mimetype": "text/x-r-source",
   "name": "R",
   "pygments_lexer": "r",
   "version": "3.6.1"
  }
 },
 "nbformat": 4,
 "nbformat_minor": 4
}
