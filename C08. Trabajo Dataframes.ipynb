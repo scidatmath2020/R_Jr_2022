{
 "cells": [
  {
   "cell_type": "markdown",
   "metadata": {},
   "source": [
    "<img src=\"logo.png\">"
   ]
  },
  {
   "cell_type": "markdown",
   "metadata": {},
   "source": [
    "# Trabajando con dataframes"
   ]
  },
  {
   "cell_type": "markdown",
   "metadata": {},
   "source": [
    "Utilizando el comando ``data()``, carguemos la tabla llamada ``mtcars``.\n",
    "\n",
    "En este capítulo practicaremos lo aprendido durante las clases anteriores."
   ]
  },
  {
   "cell_type": "code",
   "execution_count": 1,
   "metadata": {},
   "outputs": [],
   "source": [
    "data(mtcars)"
   ]
  },
  {
   "cell_type": "markdown",
   "metadata": {},
   "source": [
    "- Visualiza el dataframe mtcars con ``View()``.\n",
    "\n",
    "- Analiza qué signfica cada una de sus columnas y filas: ``?mtcars``.\n",
    "\n",
    "- ¿Qué dimensiones tiene ``mtcars``? Obtén la respuesta de dos formas diferentes.\n",
    "\n",
    "- A veces, los dataframes pueden ser muy grandes como para poder visualizarse, ya que consumen mucha memoria. En este caso, es recomendable ver solo una parte para darse una idea de qué estructura tienen. Para esto, utiliza las funciones ``head()`` o ``tail()``.\n",
    "\n",
    "- Revisa la estructura completa de ``mtcars``.\n",
    "\n",
    "- ¿Cómo se llaman los registros de ``mtcars``? ¿Cómo se llaman los campos?\n",
    "\n",
    "- Muestra un resumen de cada una de las columnas.\n",
    "\n",
    "- Muestra la tabla formada por los elementos con 4 cilindros.\n",
    "\n",
    "- Muestra la tabla formada por los elementos con 4 o 6 cilindros.\n",
    "\n",
    "- Muestra la tabla formada por los elementos con 4 o con tres engranes (los engranes es la columna gear).\n",
    "\n",
    "- Muestra la tabla formada por los elementos con 4 y con tres engranes (los engranes es la columna gear). ¿Cuántos registros cumplen esta condición?\n",
    "\n",
    "- Muestra la tabla formada por los elementos que no tienen 4 cilindros.\n",
    "\n",
    "- Muestra nuevamente la tabla formada por 4 o 6 cilindros utilizando ``%in%``.\n",
    "\n",
    "- Muestra los registros de los elementos que tienen mas de 100 caballos de fuerza pero y a lo más 105.\n",
    "\n",
    "- Añade una columna donde esté el cociente de los cilindros con el peso.\n",
    "\n",
    "- Ordenar ``mtcars`` respeceto al número de cilindros de forma creciente y luego decreciente.\n",
    "\n",
    "- Ordener ``mtcars`` respecto al número de cilindros y, en caso de empate, respecto de la cilindrada. Ambos en forma creciente (la cilindrada es ``Displacement``).\n",
    "\n",
    "- Ordener ``mtcars`` respecto al número de cilindros y, en caso de empate, respecto de la cilindrada. El número de cilindros en forma decreciente y la cilindrada de forma creciente.\n",
    "\n",
    "\n",
    "\n"
   ]
  }
 ],
 "metadata": {
  "kernelspec": {
   "display_name": "R",
   "language": "R",
   "name": "ir"
  },
  "language_info": {
   "codemirror_mode": "r",
   "file_extension": ".r",
   "mimetype": "text/x-r-source",
   "name": "R",
   "pygments_lexer": "r",
   "version": "3.6.1"
  }
 },
 "nbformat": 4,
 "nbformat_minor": 4
}
