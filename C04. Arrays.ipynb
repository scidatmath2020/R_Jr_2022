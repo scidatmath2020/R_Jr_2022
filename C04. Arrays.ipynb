{
 "cells": [
  {
   "cell_type": "markdown",
   "metadata": {},
   "source": [
    "<img src=\"logo.png\">"
   ]
  },
  {
   "cell_type": "markdown",
   "metadata": {},
   "source": [
    "# Arrays\n",
    "\n",
    "Hasta ahora hemos estudiado vectores y algunos tipos de datos en **R**. Los vectores, como en su momento dijimos, son objetos unidimensionales, ya que únicamente poseen longitud, pero no *ancho* ni *profundidad*.\n",
    "\n",
    "Otra manera de decir que los vectores son objetos unidimensionales es que para mandar a llamar a uno de sus elementos basta con utilizar un índice.\n",
    "\n",
    "Los arrays (arreglos) en **R** son objetos multidimensionales. Es decir, tienen además de longitud otras dimensiones, por lo que se utilizan varios índices para mandar a llamar a sus elementos.\n",
    "\n",
    "Un ejemplo de un array de dos dimensiones es una matriz: \n",
    "\n",
    "$$\\begin{array}{ccccc}\\mbox{dato 1,1}&\\mbox{dato 1,2}&\\mbox{dato 1,3}&\\cdots&\\mbox{dato 1,n}\\\\\\mbox{dato 2,1}&\\mbox{dato 2,2}&\\mbox{dato 2,3}&\\cdots&\\mbox{dato 2,n}\\\\\\vdots&\\vdots&\\vdots&\\vdots&\\vdots\\\\\\mbox{dato m,1}&\\mbox{dato m,2}&\\mbox{dato m,3}&\\cdots&\\mbox{dato m,n}\\end{array}$$\n",
    "\n",
    "Un ejemplo de un array de tres dimensiones es un *cubo* formado por matrices:\n",
    "\n",
    "<img src=\"im01.jpg\">\n"
   ]
  },
  {
   "cell_type": "markdown",
   "metadata": {},
   "source": [
    "## Creación de arrays\n",
    "\n",
    "Los arrays se pueden crear a través de vectores con la función ``array()``, que tiene como argumento ``data``, que es un vector, y ``dim``, que sirve para controlar la forma. El número de entradas de ``dim`` es el número de dimensiones.\n",
    "\n",
    "En general, si ``dim = c(x,y,z,...)``, donde ``x``, ``y``, ``z``, etc., son números, entonces ``x`` es el número de filas; ``y`` es el número de columnas; ``z`` es el número de capas."
   ]
  },
  {
   "cell_type": "code",
   "execution_count": null,
   "metadata": {},
   "outputs": [],
   "source": [
    "mi_vector  <- c(24, 31, 35, 42, 49, 50, 51,58)"
   ]
  },
  {
   "cell_type": "code",
   "execution_count": null,
   "metadata": {},
   "outputs": [],
   "source": [
    "# array de dos filas, 4 columnas y una sola capa\n",
    "array(data = mi_vector, dim=c(2,4))"
   ]
  },
  {
   "cell_type": "code",
   "execution_count": null,
   "metadata": {},
   "outputs": [],
   "source": [
    "# array de dos filas, 3 columnas y cuatro capas\n",
    "mi_array <- array(data = mi_vector, dim = c(2,3,5))"
   ]
  },
  {
   "cell_type": "code",
   "execution_count": null,
   "metadata": {},
   "outputs": [],
   "source": [
    " class(mi_array)"
   ]
  },
  {
   "cell_type": "markdown",
   "metadata": {},
   "source": [
    "Nota que, como los arrays se forman a partir de un vector, **todos** sus elementos deben ser del mismo tipo."
   ]
  },
  {
   "cell_type": "code",
   "execution_count": null,
   "metadata": {},
   "outputs": [],
   "source": [
    "array(data = c(1,2,\"3\",4,5,6),dim=c(2,2,3))"
   ]
  },
  {
   "cell_type": "markdown",
   "metadata": {},
   "source": [
    "Para conocer las dimensiones de un array, utilizamos la función ``dim()``, que nos devuelve un vector."
   ]
  },
  {
   "cell_type": "code",
   "execution_count": null,
   "metadata": {},
   "outputs": [],
   "source": [
    "dim(mi_array)"
   ]
  },
  {
   "cell_type": "markdown",
   "metadata": {},
   "source": [
    "Cuando tienes un array con mas de dos dimensiones, las funciones ``ncol()`` y ``nrow()`` te dicen cuántas columnas y cuántas filas tiene cada una de sus capas."
   ]
  },
  {
   "cell_type": "code",
   "execution_count": null,
   "metadata": {},
   "outputs": [],
   "source": [
    "ncol(mi_array)"
   ]
  },
  {
   "cell_type": "code",
   "execution_count": null,
   "metadata": {},
   "outputs": [],
   "source": [
    "nrow(mi_array)"
   ]
  },
  {
   "cell_type": "markdown",
   "metadata": {},
   "source": [
    "Como ``dim()`` nos devuelve un vector, lo anterior equivale a:"
   ]
  },
  {
   "cell_type": "code",
   "execution_count": null,
   "metadata": {},
   "outputs": [],
   "source": [
    "# Filas utilizando dim()\n",
    "dim(mi_array)[1]"
   ]
  },
  {
   "cell_type": "code",
   "execution_count": null,
   "metadata": {},
   "outputs": [],
   "source": [
    "# columnas utilizando dim()\n",
    "dim(mi_array)[2]"
   ]
  },
  {
   "cell_type": "code",
   "execution_count": null,
   "metadata": {},
   "outputs": [],
   "source": [
    "# capas utilizando dim()\n",
    "dim(mi_array)[3]"
   ]
  },
  {
   "cell_type": "markdown",
   "metadata": {},
   "source": [
    "## Indexado y modificado de arrays\n",
    "\n",
    "Ya hemos hecho notar que para llamar un elemento de un vector utilizamos un solo índice. Si tenemos un array de $n$ dimensiones, requerimos $n$ índices separados por comas."
   ]
  },
  {
   "cell_type": "code",
   "execution_count": null,
   "metadata": {},
   "outputs": [],
   "source": [
    "# mi_array tiene tres dimeniones\n",
    "\n",
    "# Mandar a llamar toda la segunda capa\n",
    "mi_array[,,2]"
   ]
  },
  {
   "cell_type": "code",
   "execution_count": null,
   "metadata": {},
   "outputs": [],
   "source": [
    "# Mandar a llamar la primer columna de la tercerca capa\n",
    "mi_array[,1,3]"
   ]
  },
  {
   "cell_type": "code",
   "execution_count": null,
   "metadata": {},
   "outputs": [],
   "source": [
    "# Mandar a llamar las columnas 1 y 3 de la cuarta capa\n",
    "mi_array[,c(1,3),4]"
   ]
  },
  {
   "cell_type": "code",
   "execution_count": null,
   "metadata": {},
   "outputs": [],
   "source": [
    "# Mandar a llamar la segunda fila, tercera columna de la quinta capa\n",
    "mi_array[2,3,5]"
   ]
  },
  {
   "cell_type": "code",
   "execution_count": null,
   "metadata": {},
   "outputs": [],
   "source": [
    "# Mandar a llamar la tercera columna de todas las capas\n",
    "mi_array[,3,]"
   ]
  },
  {
   "cell_type": "code",
   "execution_count": null,
   "metadata": {},
   "outputs": [],
   "source": [
    "# Mandar a llamar las columnas 2 y 3 de las capas 1, 3 y 5\n",
    "mi_array[,c(2,3),c(1,3,5)]"
   ]
  },
  {
   "cell_type": "markdown",
   "metadata": {},
   "source": [
    "Para modificar los elementos de un array, seguimos la misma idea que con vectores. Solo que aquí **no se cumple la propiedad de ciclado**"
   ]
  },
  {
   "cell_type": "code",
   "execution_count": null,
   "metadata": {},
   "outputs": [],
   "source": [
    "mi_array[1,,]"
   ]
  },
  {
   "cell_type": "code",
   "execution_count": null,
   "metadata": {},
   "outputs": [],
   "source": [
    "mi_array[1,,] <- 1"
   ]
  },
  {
   "cell_type": "code",
   "execution_count": null,
   "metadata": {},
   "outputs": [],
   "source": [
    "mi_array[,,5]"
   ]
  },
  {
   "cell_type": "code",
   "execution_count": null,
   "metadata": {},
   "outputs": [],
   "source": [
    "mi_array[1,,] <- c(1,2)"
   ]
  },
  {
   "cell_type": "code",
   "execution_count": null,
   "metadata": {},
   "outputs": [],
   "source": [
    "mi_array[1,,] <- c(-1,0,1)"
   ]
  },
  {
   "cell_type": "code",
   "execution_count": null,
   "metadata": {},
   "outputs": [],
   "source": [
    "mi_array[,,5]"
   ]
  },
  {
   "cell_type": "code",
   "execution_count": null,
   "metadata": {},
   "outputs": [],
   "source": [
    "mi_array[1:2,1:2,3]  <- array(c(1,2),dim=c(2,2))"
   ]
  },
  {
   "cell_type": "code",
   "execution_count": null,
   "metadata": {},
   "outputs": [],
   "source": [
    "mi_array[,,3]"
   ]
  },
  {
   "cell_type": "markdown",
   "metadata": {},
   "source": [
    "## Operaciones con arrays\n",
    "\n",
    "Regresemos a nuestro array orginal: ``mi_array <- array(data = mi_vector, dim = c(2,3,5))``"
   ]
  },
  {
   "cell_type": "code",
   "execution_count": null,
   "metadata": {},
   "outputs": [],
   "source": [
    "mi_array <- array(data = mi_vector, dim = c(2,3,5))"
   ]
  },
  {
   "cell_type": "code",
   "execution_count": null,
   "metadata": {},
   "outputs": [],
   "source": [
    "# Aplicar raíz cuadrada solo a la primera capa\n",
    "\n",
    "sqrt(mi_array[,,1])"
   ]
  },
  {
   "cell_type": "code",
   "execution_count": null,
   "metadata": {},
   "outputs": [],
   "source": [
    "# cambiar la primera capa por las raíces cuadradas de sus elementos\n",
    "mi_array[,,1] <- sqrt(mi_array[,,1])"
   ]
  },
  {
   "cell_type": "code",
   "execution_count": null,
   "metadata": {},
   "outputs": [],
   "source": [
    "mi_array[,,4]"
   ]
  },
  {
   "cell_type": "code",
   "execution_count": null,
   "metadata": {},
   "outputs": [],
   "source": [
    "# Cambiar la segunda columna de la tercera capa por sus cuadrados\n",
    "\n",
    "mi_array[,2,3] <- mi_array[,2,3]^2\n",
    "mi_array[,,3]"
   ]
  },
  {
   "cell_type": "code",
   "execution_count": null,
   "metadata": {},
   "outputs": [],
   "source": [
    "# Cambiar el elemento situado en la segunda fila de la tercer columna de la quinta capa por 2022\n",
    "\n",
    "mi_array[2,3,5]  <- 2022\n",
    "mi_array[,,5]"
   ]
  },
  {
   "cell_type": "markdown",
   "metadata": {},
   "source": [
    "## Parámetro dimnames de los arrays\n",
    "\n",
    "El parámetro ``dimnames`` de los arrays es muy similar a la propiedad de nombres de los vectores.\n",
    "\n",
    "Volvamos a nuestro array original: ``mi_array <- array(data = mi_vector, dim = c(2,3,5))``"
   ]
  },
  {
   "cell_type": "code",
   "execution_count": null,
   "metadata": {},
   "outputs": [],
   "source": [
    "mi_array <- array(data = mi_vector, dim = c(2,3,5))"
   ]
  },
  {
   "cell_type": "markdown",
   "metadata": {},
   "source": [
    "Digamos que cada capa corresponde a valores de algunos de países. Para esto, utilizamos ``dimnames``. La idea es la siguiente:\n",
    "\n",
    "``dimnames`` será una **lista** (mas adelante veremos los objetos de clase lista) de vectores. La longitud de esta lista es el número de dimensiones del array. Es decir, es una lista formada por tantos vectores como dimensiones.\n",
    "\n",
    "El primer vector corresponde a los nombres de las filas; el segundo vector corresponde a los nombres de las columnas; el tercer vector corresponde a los nombres de las capas; etcétera."
   ]
  },
  {
   "cell_type": "code",
   "execution_count": null,
   "metadata": {},
   "outputs": [],
   "source": [
    "mi_array <- array(data = mi_vector,\n",
    "                  dim = c(2,3,5),\n",
    "                  dimnames = list(c(\"hombre\",\"mujer\"),\n",
    "                                  c(\"edad\",\"peso\",\"altura\"),\n",
    "                                  c(\"México\",\"Argentina\",\"Perú\",\"Chile\",\"Colombia\"))\n",
    "                 )"
   ]
  },
  {
   "cell_type": "code",
   "execution_count": null,
   "metadata": {},
   "outputs": [],
   "source": [
    "mi_array[,1,]"
   ]
  },
  {
   "cell_type": "code",
   "execution_count": null,
   "metadata": {},
   "outputs": [],
   "source": [
    "mi_array[,\"edad\",]"
   ]
  },
  {
   "cell_type": "code",
   "execution_count": null,
   "metadata": {},
   "outputs": [],
   "source": [
    "mi_array[,c(\"edad\",\"altura\"),\"México\"]"
   ]
  },
  {
   "cell_type": "markdown",
   "metadata": {},
   "source": [
    "Para conocer los nombres de un array utilizamos la función ``dimnames()``, la cual nos devuelve los nombres en un objeto tipo lista. Cada elemento de esa lista es un vector, así que podemos hacerle todo lo que sabemos hacer."
   ]
  },
  {
   "cell_type": "code",
   "execution_count": null,
   "metadata": {},
   "outputs": [],
   "source": [
    "dimnames(mi_array)"
   ]
  },
  {
   "cell_type": "markdown",
   "metadata": {},
   "source": [
    "Más adelante veremos cómo se hace el indexado de las listas. Por el momento, basta con saber que utilizaremos doble corchete"
   ]
  },
  {
   "cell_type": "code",
   "execution_count": null,
   "metadata": {},
   "outputs": [],
   "source": [
    "dimnames(mi_array)[[3]]"
   ]
  },
  {
   "cell_type": "code",
   "execution_count": null,
   "metadata": {},
   "outputs": [],
   "source": [
    "# Cambiar el nombre de la cuarta capa por Ecuador\n",
    "dimnames(mi_array)[[3]][4]  <- \"Ecuador\""
   ]
  },
  {
   "cell_type": "code",
   "execution_count": null,
   "metadata": {},
   "outputs": [],
   "source": [
    "mi_array"
   ]
  },
  {
   "cell_type": "markdown",
   "metadata": {},
   "source": [
    "## Combinación de arrays\n",
    "\n",
    "Muchas veces es necesario combinar arrays ya sea verticalmente u horizontalmente. Para ello, contamos con las funciones ``rbind()`` y ``cbind()``"
   ]
  },
  {
   "cell_type": "code",
   "execution_count": null,
   "metadata": {},
   "outputs": [],
   "source": [
    "mi_array1  <- array(data=c(1:4), dim = c(2,3))\n",
    "mi_array2  <- array(data=c(5:9), dim = c(4,3))\n",
    "mi_array3  <- array(data=c(10:15), dim = c(2,5))"
   ]
  },
  {
   "cell_type": "code",
   "execution_count": null,
   "metadata": {},
   "outputs": [],
   "source": [
    "mi_array1"
   ]
  },
  {
   "cell_type": "code",
   "execution_count": null,
   "metadata": {},
   "outputs": [],
   "source": [
    "mi_array2"
   ]
  },
  {
   "cell_type": "code",
   "execution_count": null,
   "metadata": {},
   "outputs": [],
   "source": [
    "mi_array3"
   ]
  },
  {
   "cell_type": "code",
   "execution_count": null,
   "metadata": {},
   "outputs": [],
   "source": [
    "rbind(mi_array1,mi_array2)"
   ]
  },
  {
   "cell_type": "code",
   "execution_count": null,
   "metadata": {},
   "outputs": [],
   "source": [
    "cbind(mi_array1,mi_array3)"
   ]
  }
 ],
 "metadata": {
  "kernelspec": {
   "display_name": "R",
   "language": "R",
   "name": "ir"
  },
  "language_info": {
   "codemirror_mode": "r",
   "file_extension": ".r",
   "mimetype": "text/x-r-source",
   "name": "R",
   "pygments_lexer": "r",
   "version": "3.6.1"
  }
 },
 "nbformat": 4,
 "nbformat_minor": 4
}
