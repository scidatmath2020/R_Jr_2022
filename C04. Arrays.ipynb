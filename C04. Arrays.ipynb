{
 "cells": [
  {
   "cell_type": "markdown",
   "metadata": {},
   "source": [
    "<img src=\"logo.png\">"
   ]
  },
  {
   "cell_type": "markdown",
   "metadata": {},
   "source": [
    "# Arrays\n",
    "\n",
    "Hasta ahora hemos estudiado vectores y algunos tipos de datos en **R**. Los vectores, como en su momento dijimos, son objetos unidimensionales, ya que únicamente poseen longitud, pero no *ancho* ni *profundidad*.\n",
    "\n",
    "Otra manera de decir que los vectores son objetos unidimensionales es que para mandar a llamar a uno de sus elementos basta con utilizar un índice.\n",
    "\n",
    "Los arrays (arreglos) en **R** son objetos multidimensionales. Es decir, tienen además de longitud otras dimensiones, por lo que se utilizan varios índices para mandar a llamar a sus elementos.\n",
    "\n",
    "Un ejemplo de un array de dos dimensiones es una matriz: \n",
    "\n",
    "$$\\begin{array}{ccccc}\\mbox{dato 1,1}&\\mbox{dato 1,2}&\\mbox{dato 1,3}&\\cdots&\\mbox{dato 1,n}\\\\\\mbox{dato 2,1}&\\mbox{dato 2,2}&\\mbox{dato 2,3}&\\cdots&\\mbox{dato 2,n}\\\\\\vdots&\\vdots&\\vdots&\\vdots&\\vdots\\\\\\mbox{dato m,1}&\\mbox{dato m,2}&\\mbox{dato m,3}&\\cdots&\\mbox{dato m,n}\\end{array}$$\n",
    "\n",
    "Un ejemplo de un array de tres dimensiones es un *cubo* formado por matrices:\n",
    "\n",
    "<img src=\"im01.jpg\">\n"
   ]
  },
  {
   "cell_type": "markdown",
   "metadata": {},
   "source": [
    "## Creación de arrays\n",
    "\n",
    "Los arrays se pueden crear a través de vectores con la función ``array()``, que tiene como argumento ``data``, que es un vector, y ``dim``, que sirve para controlar la forma. El número de entradas de ``dim`` es el número de dimensiones.\n",
    "\n",
    "En general, si ``dim = c(x,y,z,...)``, donde ``x``, ``y``, ``z``, etc., son números, entonces ``x`` es el número de filas; ``y`` es el número de columnas; ``z`` es el número de capas."
   ]
  },
  {
   "cell_type": "code",
   "execution_count": null,
   "metadata": {},
   "outputs": [],
   "source": [
    "mi_vector  <- c(24, 31, 35, 42, 49, 50, 51,58)"
   ]
  },
  {
   "cell_type": "code",
   "execution_count": null,
   "metadata": {},
   "outputs": [],
   "source": [
    "# array de dos filas, 4 columnas y una sola capa\n",
    "array(data = mi_vector, dim=c(2,4))"
   ]
  },
  {
   "cell_type": "code",
   "execution_count": null,
   "metadata": {},
   "outputs": [],
   "source": [
    "# array de dos filas, 3 columnas y cuatro capas\n",
    "mi_array <- array(data = mi_vector, dim = c(2,3,5))"
   ]
  },
  {
   "cell_type": "code",
   "execution_count": null,
   "metadata": {},
   "outputs": [],
   "source": [
    " class(mi_array)"
   ]
  },
  {
   "cell_type": "markdown",
   "metadata": {},
   "source": [
    "Nota que, como los arrays se forman a partir de un vector, **todos** sus elementos deben ser del mismo tipo."
   ]
  },
  {
   "cell_type": "code",
   "execution_count": null,
   "metadata": {},
   "outputs": [],
   "source": [
    "array(data = c(1,2,\"3\",4,5,6),dim=c(2,2,3))"
   ]
  },
  {
   "cell_type": "markdown",
   "metadata": {},
   "source": [
    "Para conocer las dimensiones de un array, utilizamos la función ``dim()``, que nos devuelve un vector."
   ]
  },
  {
   "cell_type": "code",
   "execution_count": null,
   "metadata": {},
   "outputs": [],
   "source": [
    "dim(mi_array)"
   ]
  },
  {
   "cell_type": "markdown",
   "metadata": {},
   "source": [
    "Cuando tienes un array con mas de dos dimensiones, las funciones ``ncol()`` y ``nrow()`` te dicen cuántas columnas y cuántas filas tiene cada una de sus capas."
   ]
  },
  {
   "cell_type": "code",
   "execution_count": null,
   "metadata": {},
   "outputs": [],
   "source": [
    "ncol(mi_array)"
   ]
  },
  {
   "cell_type": "code",
   "execution_count": null,
   "metadata": {},
   "outputs": [],
   "source": [
    "nrow(mi_array)"
   ]
  },
  {
   "cell_type": "markdown",
   "metadata": {},
   "source": [
    "Como ``dim()`` nos devuelve un vector, lo anterior equivale a:"
   ]
  },
  {
   "cell_type": "code",
   "execution_count": null,
   "metadata": {},
   "outputs": [],
   "source": [
    "# Filas utilizando dim()\n",
    "dim(mi_array)[1]"
   ]
  },
  {
   "cell_type": "code",
   "execution_count": null,
   "metadata": {},
   "outputs": [],
   "source": [
    "# columnas utilizando dim()\n",
    "dim(mi_array)[2]"
   ]
  },
  {
   "cell_type": "code",
   "execution_count": null,
   "metadata": {},
   "outputs": [],
   "source": [
    "# capas utilizando dim()\n",
    "dim(mi_array)[3]"
   ]
  },
  {
   "cell_type": "markdown",
   "metadata": {},
   "source": [
    "## Indexado y modificado de arrays\n",
    "\n",
    "Ya hemos hecho notar que para llamar un elemento de un vector utilizamos un solo índice. Si tenemos un array de $n$ dimensiones, requerimos $n$ índices separados por comas."
   ]
  },
  {
   "cell_type": "code",
   "execution_count": null,
   "metadata": {},
   "outputs": [],
   "source": [
    "# mi_array tiene tres dimeniones\n",
    "\n",
    "# Mandar a llamar toda la segunda capa\n",
    "mi_array[,,2]"
   ]
  },
  {
   "cell_type": "code",
   "execution_count": null,
   "metadata": {},
   "outputs": [],
   "source": [
    "# Mandar a llamar la primer columna de la tercerca capa\n",
    "mi_array[,1,3]"
   ]
  },
  {
   "cell_type": "code",
   "execution_count": null,
   "metadata": {},
   "outputs": [],
   "source": [
    "# Mandar a llamar las columnas 1 y 3 de la cuarta capa\n",
    "mi_array[,c(1,3),4]"
   ]
  },
  {
   "cell_type": "code",
   "execution_count": null,
   "metadata": {},
   "outputs": [],
   "source": [
    "# Mandar a llamar la segunda fila, tercera columna de la quinta capa\n",
    "mi_array[2,3,5]"
   ]
  },
  {
   "cell_type": "code",
   "execution_count": null,
   "metadata": {},
   "outputs": [],
   "source": [
    "# Mandar a llamar la tercera columna de todas las capas\n",
    "mi_array[,3,]"
   ]
  },
  {
   "cell_type": "code",
   "execution_count": null,
   "metadata": {},
   "outputs": [],
   "source": [
    "# Mandar a llamar las columnas 2 y 3 de las capas 1, 3 y 5\n",
    "mi_array[,c(2,3),c(1,3,5)]"
   ]
  },
  {
   "cell_type": "markdown",
   "metadata": {},
   "source": [
    "Para modificar los elementos de un array, seguimos la misma idea que con vectores. Solo que aquí **no se cumple la propiedad de ciclado**"
   ]
  },
  {
   "cell_type": "code",
   "execution_count": null,
   "metadata": {},
   "outputs": [],
   "source": [
    "mi_array[1,,]"
   ]
  },
  {
   "cell_type": "code",
   "execution_count": null,
   "metadata": {},
   "outputs": [],
   "source": [
    "mi_array[1,,] <- 1"
   ]
  },
  {
   "cell_type": "code",
   "execution_count": null,
   "metadata": {},
   "outputs": [],
   "source": [
    "mi_array[,,5]"
   ]
  },
  {
   "cell_type": "code",
   "execution_count": null,
   "metadata": {},
   "outputs": [],
   "source": [
    "mi_array[1,,] <- c(1,2)"
   ]
  },
  {
   "cell_type": "code",
   "execution_count": null,
   "metadata": {},
   "outputs": [],
   "source": [
    "mi_array[1,,] <- c(-1,0,1)"
   ]
  },
  {
   "cell_type": "code",
   "execution_count": null,
   "metadata": {},
   "outputs": [],
   "source": [
    "mi_array[,,5]"
   ]
  },
  {
   "cell_type": "code",
   "execution_count": null,
   "metadata": {},
   "outputs": [],
   "source": [
    "mi_array[1:2,1:2,3]  <- array(c(1,2),dim=c(2,2))"
   ]
  },
  {
   "cell_type": "code",
   "execution_count": null,
   "metadata": {},
   "outputs": [],
   "source": [
    "mi_array[,,3]"
   ]
  },
  {
   "cell_type": "markdown",
   "metadata": {},
   "source": [
    "## Operaciones con arrays\n",
    "\n",
    "Regresemos a nuestro array orginal: ``mi_array <- array(data = mi_vector, dim = c(2,3,5))``"
   ]
  },
  {
   "cell_type": "code",
   "execution_count": null,
   "metadata": {},
   "outputs": [],
   "source": [
    "mi_array <- array(data = mi_vector, dim = c(2,3,5))"
   ]
  },
  {
   "cell_type": "code",
   "execution_count": null,
   "metadata": {},
   "outputs": [],
   "source": [
    "# Aplicar raíz cuadrada solo a la primera capa\n",
    "\n",
    "sqrt(mi_array[,,1])"
   ]
  },
  {
   "cell_type": "code",
   "execution_count": null,
   "metadata": {},
   "outputs": [],
   "source": [
    "# cambiar la primera capa por las raíces cuadradas de sus elementos\n",
    "mi_array[,,1] <- sqrt(mi_array[,,1])"
   ]
  },
  {
   "cell_type": "code",
   "execution_count": null,
   "metadata": {},
   "outputs": [],
   "source": [
    "mi_array[,,4]"
   ]
  },
  {
   "cell_type": "code",
   "execution_count": null,
   "metadata": {},
   "outputs": [],
   "source": [
    "# Cambiar la segunda columna de la tercera capa por sus cuadrados\n",
    "\n",
    "mi_array[,2,3] <- mi_array[,2,3]^2\n",
    "mi_array[,,3]"
   ]
  },
  {
   "cell_type": "code",
   "execution_count": null,
   "metadata": {},
   "outputs": [],
   "source": [
    "# Cambiar el elemento situado en la segunda fila de la tercer columna de la quinta capa por 2022\n",
    "\n",
    "mi_array[2,3,5]  <- 2022\n",
    "mi_array[,,5]"
   ]
  },
  {
   "cell_type": "markdown",
   "metadata": {},
   "source": [
    "# Matrices\n",
    "\n",
    "Las matrices en **R** son un tipo especial de arrays; se trata de arreglos de filas y columnas, por lo cual solo tienen 2 dimensiones. \n",
    "\n",
    "De esta manera, heredan todas las propiedades de los arrays, pero además tienen sus propios métodos."
   ]
  },
  {
   "cell_type": "markdown",
   "metadata": {},
   "source": [
    "## Creación de matrices\n",
    "\n",
    "Para crear una matriz podemos utilizar la función ``array()`` de la siguiente manera: ``array(data,dim = c(a,b))`` donde ``data`` es el vector del cual se toman los datos y ``a`` y ``b`` son el número de filas y columnas, respectivamente.\n",
    "\n",
    "No obstante, también contamos con una función especial para creación de matrices: ``matrix(data, otros parámetros)``, donde ``otros parámetros`` se refiere a número de filas, número de columnas y *orden de llenado*."
   ]
  },
  {
   "cell_type": "code",
   "execution_count": null,
   "metadata": {},
   "outputs": [],
   "source": [
    "matrix(data = c(1,4,2,7,9,10), nrow = 4, ncol = 5)"
   ]
  },
  {
   "cell_type": "code",
   "execution_count": null,
   "metadata": {},
   "outputs": [],
   "source": [
    "matrix(data = c(1,4,2,7,9,10), nrow = 4, ncol = 5, byrow = TRUE)"
   ]
  },
  {
   "cell_type": "markdown",
   "metadata": {},
   "source": [
    "## Operaciones de matrices\n",
    "\n",
    "Dado que las matrices son arrays especiales con dos dimensiones, todo lo aprendido en el sobre arrays sigue siendo válido: modificación de elementos, indexado, etcétera.\n",
    "\n",
    "Sin embargo, tienen operaciones especiales extra."
   ]
  },
  {
   "cell_type": "code",
   "execution_count": null,
   "metadata": {},
   "outputs": [],
   "source": [
    "matriz_1  <- matrix(1:4,nrow=2,ncol=3)\n",
    "matriz_2  <- matrix(200:203,nrow=2,ncol=3)"
   ]
  },
  {
   "cell_type": "markdown",
   "metadata": {},
   "source": [
    "### Multiplicación puntual (producto de Hadamard)\n",
    "\n",
    "Se refiere a multiplicar dos matrices elemento por elemento en la misma posición. Solo se puede realizar si ambas matrices tienen el mismo número de filas y el mismo número de columnas"
   ]
  },
  {
   "cell_type": "code",
   "execution_count": null,
   "metadata": {},
   "outputs": [],
   "source": [
    "matriz_1 * matriz_2"
   ]
  },
  {
   "cell_type": "markdown",
   "metadata": {},
   "source": [
    "### Suma y resta de matrices\n",
    "\n",
    "Se refiere a sumar o restar dos matrices elemento por elemento en la misma posición. Solo se puede realizar si ambas matrices tienen el mismo número de filas y el mismo número de columnas."
   ]
  },
  {
   "cell_type": "code",
   "execution_count": null,
   "metadata": {},
   "outputs": [],
   "source": [
    "matriz_1 - matriz_2"
   ]
  },
  {
   "cell_type": "code",
   "execution_count": null,
   "metadata": {},
   "outputs": [],
   "source": [
    "matriz_1 + matriz_2"
   ]
  },
  {
   "cell_type": "markdown",
   "metadata": {},
   "source": [
    "### Multiplicación algebraica de matrices\n",
    "\n",
    "Es la multiplicación usual de matrices. Solo se puede realizar si el número de columnas de la primera es igual al número de filas de la segunda, y se obtiene como resultado otra matriz con la misma cantidad de filas de la primera y la cantidad de columnas de la segunda."
   ]
  },
  {
   "cell_type": "code",
   "execution_count": null,
   "metadata": {},
   "outputs": [],
   "source": [
    "matriz_1 %*% matriz_2"
   ]
  },
  {
   "cell_type": "code",
   "execution_count": null,
   "metadata": {},
   "outputs": [],
   "source": [
    "matriz_3  <- matrix(c(10:13),nrow = 3, ncol =20)"
   ]
  },
  {
   "cell_type": "code",
   "execution_count": null,
   "metadata": {},
   "outputs": [],
   "source": [
    "matriz_3"
   ]
  },
  {
   "cell_type": "code",
   "execution_count": null,
   "metadata": {},
   "outputs": [],
   "source": [
    "matriz_1 %*% matriz_3"
   ]
  },
  {
   "cell_type": "markdown",
   "metadata": {},
   "source": [
    "### Trasposición de matrices\n",
    "\n",
    "Es la operación usual de trasponer una matriz; es decir, convertir las filas en columnas y las columnas en filas."
   ]
  },
  {
   "cell_type": "code",
   "execution_count": null,
   "metadata": {},
   "outputs": [],
   "source": [
    "matriz_1"
   ]
  },
  {
   "cell_type": "code",
   "execution_count": null,
   "metadata": {},
   "outputs": [],
   "source": [
    "t(matriz_1)"
   ]
  },
  {
   "cell_type": "markdown",
   "metadata": {},
   "source": [
    "### Otras operaciones\n",
    "\n",
    "Las matrices numéricas son objetos matemáticos muy ricos debido a que se puede realizar una basta cantidad de operaciones con ellas. Si estás interesado en conocer todo lo que se les puede hacer (desde el punto de vista del Álgebra Lineal), puedes revisar por aquí [https://r-coder.com/matrix-operations-r/#:~:text=There%20are%20multiple%20matrix%20operations,the%20matrix%20by%20different%20methods.]"
   ]
  },
  {
   "cell_type": "markdown",
   "metadata": {},
   "source": [
    "## Combinación de  matrices\n",
    "\n",
    "Muchas veces es necesario combinar matrices ya sea verticalmente u horizontalmente. Para ello, contamos con las funciones ``rbind()`` y ``cbind()``"
   ]
  },
  {
   "cell_type": "code",
   "execution_count": null,
   "metadata": {},
   "outputs": [],
   "source": [
    "mi_matriz1  <- matrix(c(1:4), nrow=2, ncol=3)\n",
    "mi_matriz2  <- matrix(c(5:9), nrow=4,ncol=3)\n",
    "mi_matriz3  <- matrix(c(10:15), nrow=2,ncol=5)"
   ]
  },
  {
   "cell_type": "code",
   "execution_count": null,
   "metadata": {},
   "outputs": [],
   "source": [
    "mi_matriz1"
   ]
  },
  {
   "cell_type": "code",
   "execution_count": null,
   "metadata": {},
   "outputs": [],
   "source": [
    "mi_matriz2"
   ]
  },
  {
   "cell_type": "code",
   "execution_count": null,
   "metadata": {},
   "outputs": [],
   "source": [
    "mi_matriz3"
   ]
  },
  {
   "cell_type": "code",
   "execution_count": null,
   "metadata": {},
   "outputs": [],
   "source": [
    "rbind(mi_matriz1,mi_matriz2)"
   ]
  },
  {
   "cell_type": "code",
   "execution_count": null,
   "metadata": {},
   "outputs": [],
   "source": [
    "cbind(mi_matriz1,mi_matriz3)"
   ]
  }
 ],
 "metadata": {
  "kernelspec": {
   "display_name": "R",
   "language": "R",
   "name": "ir"
  },
  "language_info": {
   "codemirror_mode": "r",
   "file_extension": ".r",
   "mimetype": "text/x-r-source",
   "name": "R",
   "pygments_lexer": "r",
   "version": "3.6.1"
  }
 },
 "nbformat": 4,
 "nbformat_minor": 4
}
