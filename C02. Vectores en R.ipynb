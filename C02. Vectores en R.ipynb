{
 "cells": [
  {
   "cell_type": "markdown",
   "metadata": {},
   "source": [
    "<img src=\"logo.png\">"
   ]
  },
  {
   "cell_type": "markdown",
   "metadata": {},
   "source": [
    "# Vectores\n",
    "\n",
    "Ya en el capítulo anterior hemos visto cómo se crean los vectores.\n",
    "\n",
    "Recordemos que una propiedad importante que tienen los vectores es que sus elementos son todos del mismo tipo. Si uno de los elementos del vector es un texto, en automático tomará los otros elementos también como textos. "
   ]
  },
  {
   "cell_type": "markdown",
   "metadata": {},
   "source": [
    "La función para crear vectores en **R** es la función ``c()``. "
   ]
  },
  {
   "cell_type": "code",
   "execution_count": null,
   "metadata": {},
   "outputs": [],
   "source": [
    "c(10000,20000,4000,3000) #crea un vector pero no lo guarda en la memoria"
   ]
  },
  {
   "cell_type": "markdown",
   "metadata": {},
   "source": [
    "Como todo objeto, a los vectores les podemos asociar nombres:"
   ]
  },
  {
   "cell_type": "code",
   "execution_count": null,
   "metadata": {},
   "outputs": [],
   "source": [
    "poblacion <- c(10000,20000,4000,3000) "
   ]
  },
  {
   "cell_type": "markdown",
   "metadata": {},
   "source": [
    "Al momento de crearlo, se puede ver en la ventana de *environment* (ambiente) que se crea un objeto en la memoria de **R**. Si corremos la sentencia ``poblacion_nacional``, veremos que se nos produce un error, ya que no hay ningún objeto llamado así."
   ]
  },
  {
   "cell_type": "code",
   "execution_count": null,
   "metadata": {},
   "outputs": [],
   "source": [
    "poblacion_nacional"
   ]
  },
  {
   "cell_type": "markdown",
   "metadata": {},
   "source": [
    "Para eliminar objetos que ya existen (no importa si son vectores o cualquier otro tipo), utilizamos la función ``rm()`` (remove)."
   ]
  },
  {
   "cell_type": "code",
   "execution_count": null,
   "metadata": {},
   "outputs": [],
   "source": [
    "rm(poblacion)"
   ]
  },
  {
   "cell_type": "markdown",
   "metadata": {},
   "source": [
    "Como el objeto ``poblacion`` ya no existe, al mandarlo a llamar nos genera error."
   ]
  },
  {
   "cell_type": "code",
   "execution_count": null,
   "metadata": {},
   "outputs": [],
   "source": [
    "2*poblacion"
   ]
  },
  {
   "cell_type": "markdown",
   "metadata": {},
   "source": [
    "Construyamos de nuevo el vector ``poblacion``"
   ]
  },
  {
   "cell_type": "code",
   "execution_count": null,
   "metadata": {},
   "outputs": [],
   "source": [
    "poblacion <- c(10000,20000,4000,3000) \n",
    "poblacion"
   ]
  },
  {
   "cell_type": "markdown",
   "metadata": {},
   "source": [
    "Recordemos que todos los elementos de un vector deben ser del mismo tipo. Como todo número se puede representar como texto, pero no todo texto se puede representar como número, si un solo elemento del vector es de tipo texto entonces todos los elementos se convertirán automáticamente en textos."
   ]
  },
  {
   "cell_type": "code",
   "execution_count": null,
   "metadata": {},
   "outputs": [],
   "source": [
    "poblacion_texto  <- c(10000,20000,\"4000\",3000)\n",
    "poblacion_texto"
   ]
  },
  {
   "cell_type": "code",
   "execution_count": null,
   "metadata": {},
   "outputs": [],
   "source": [
    "# Observamos que como los elementos de poblacion_texto son de tipo texto, no tiene sentido aplicarle operaciones matemáticas\n",
    "2*poblacion_texto"
   ]
  },
  {
   "cell_type": "markdown",
   "metadata": {},
   "source": [
    "## Indexado de vectores\n",
    "\n",
    "Recordemos nuestro vector de pesos en kilogramos: ``mis_personas = c(71.4, 65.1, 63, 94.5)``"
   ]
  },
  {
   "cell_type": "code",
   "execution_count": null,
   "metadata": {},
   "outputs": [],
   "source": [
    "mis_personas  <-  c(71.4, 65.1, 63, 94.5)"
   ]
  },
  {
   "cell_type": "markdown",
   "metadata": {},
   "source": [
    "Ya sabemos cómo mandar a llamar un solo elemento del vector:"
   ]
  },
  {
   "cell_type": "code",
   "execution_count": null,
   "metadata": {},
   "outputs": [],
   "source": [
    "mis_personas[4]"
   ]
  },
  {
   "cell_type": "markdown",
   "metadata": {},
   "source": [
    "Pues bien, una propiedad muy importante y bonita que tienen los vectores **es que se pueden utilizar para indexar vectores**.\n",
    "\n",
    "Por ejemplo, ``c(1,3)`` es un vector numérico cuyos elementos son los números 1 y 3. Entonces, ``mis_personas[c(1,3)]`` nos devolverá los pesos de la primera y de la tercera personas."
   ]
  },
  {
   "cell_type": "code",
   "execution_count": null,
   "metadata": {},
   "outputs": [],
   "source": [
    "mis_personas[c(1,3)]"
   ]
  },
  {
   "cell_type": "markdown",
   "metadata": {},
   "source": [
    "Incluso, si hacemos ``per_1_3 <- c(1,3)``, entonces podemos utilizar el nombre ``per_1_3`` para indexar a ``mis_personas``:"
   ]
  },
  {
   "cell_type": "code",
   "execution_count": null,
   "metadata": {},
   "outputs": [],
   "source": [
    "per_1_3 <- c(1,3)\n",
    "mis_personas[per_1_3]"
   ]
  },
  {
   "cell_type": "markdown",
   "metadata": {},
   "source": [
    "Hay veces que queremos un vector formado por números consecutivos. Para esto, **R** nos brinda el comando ``:`` de esta manera: ``num_inicial:num_final``"
   ]
  },
  {
   "cell_type": "code",
   "execution_count": null,
   "metadata": {},
   "outputs": [],
   "source": [
    "2:4"
   ]
  },
  {
   "cell_type": "markdown",
   "metadata": {},
   "source": [
    "Incluso en el indexado, el uso de ``:`` se vuelve muy cómodo."
   ]
  },
  {
   "cell_type": "code",
   "execution_count": null,
   "metadata": {},
   "outputs": [],
   "source": [
    "mis_personas[2:4]"
   ]
  },
  {
   "cell_type": "markdown",
   "metadata": {},
   "source": [
    "Más aun, el comando ``:`` también funciona en reversa:"
   ]
  },
  {
   "cell_type": "code",
   "execution_count": null,
   "metadata": {},
   "outputs": [],
   "source": [
    "8:2"
   ]
  },
  {
   "cell_type": "markdown",
   "metadata": {},
   "source": [
    "**Ejemplo Importante**\n",
    "\n",
    "Supongamos que tienes un vector del cual quieres obtener desde el elemento 5 hasta el último. "
   ]
  },
  {
   "cell_type": "code",
   "execution_count": null,
   "metadata": {},
   "outputs": [],
   "source": [
    "mi_ejemplo  <- c(2,5,2,4,6,2,6,2,7,8,5,7,6,3,5,6,8,3,2)"
   ]
  },
  {
   "cell_type": "code",
   "execution_count": null,
   "metadata": {},
   "outputs": [],
   "source": [
    "mi_ejemplo[5:length(mi_ejemplo)]"
   ]
  },
  {
   "cell_type": "markdown",
   "metadata": {},
   "source": [
    "El comando ``:`` junto con la función ``c()`` se pueden componer de manera importante:"
   ]
  },
  {
   "cell_type": "code",
   "execution_count": null,
   "metadata": {},
   "outputs": [],
   "source": [
    "c(1,3,2:6,10)"
   ]
  },
  {
   "cell_type": "markdown",
   "metadata": {},
   "source": [
    "Así, supongamos que tenemos el vector ``mis_datos  <- c(\"L\",\"L\",\"H\",\"A\",\"A\",\"L\",\"M\",\"A\",\"B\",\"C\",\"L\")`` y queremos obtener los valores en las posiciones 1, 3, 6, 7, 8 y 10."
   ]
  },
  {
   "cell_type": "code",
   "execution_count": null,
   "metadata": {},
   "outputs": [],
   "source": [
    "mis_datos  <- c(\"L\",\"L\",\"H\",\"A\",\"A\",\"L\",\"M\",\"A\",\"B\",\"C\",\"L\")\n",
    "mis_datos[c(1,3,6:8,10)]"
   ]
  },
  {
   "cell_type": "markdown",
   "metadata": {},
   "source": [
    "Incluso en el indexado se puede utilizar el signo ``-`` como *complemento*."
   ]
  },
  {
   "cell_type": "code",
   "execution_count": null,
   "metadata": {},
   "outputs": [],
   "source": [
    "mis_datos[-c(1,3,6:8,10)]"
   ]
  },
  {
   "cell_type": "markdown",
   "metadata": {},
   "source": [
    "## Operaciones con vectores\n",
    "\n",
    "### Funciones de agregación\n",
    "\n",
    "Las funciones de agregación son la suma, la media aritmética, el máximo y el mínimo. "
   ]
  },
  {
   "cell_type": "markdown",
   "metadata": {},
   "source": [
    "Supongamos que queremos sumar los elementos de un vector numérico. **R** nos provee la función ``sum()`` para esto:"
   ]
  },
  {
   "cell_type": "code",
   "execution_count": null,
   "metadata": {},
   "outputs": [],
   "source": [
    "sum(mis_personas)"
   ]
  },
  {
   "cell_type": "markdown",
   "metadata": {},
   "source": [
    "Ahora bien, recordemos que los ``NaN`` tienen una aritmética muy particular. Por ejemplo:"
   ]
  },
  {
   "cell_type": "code",
   "execution_count": null,
   "metadata": {},
   "outputs": [],
   "source": [
    "2+NaN"
   ]
  },
  {
   "cell_type": "markdown",
   "metadata": {},
   "source": [
    "Es común que nuestros vectores tengan elementos faltantes (como las columnas de bases de datos)."
   ]
  },
  {
   "cell_type": "code",
   "execution_count": null,
   "metadata": {},
   "outputs": [],
   "source": [
    "faltante_NA <- c(1,2,3,NA,4,8)\n",
    "faltante_NA"
   ]
  },
  {
   "cell_type": "code",
   "execution_count": null,
   "metadata": {},
   "outputs": [],
   "source": [
    "faltante_NaN <- c(1,2,3,NaN,4,8)\n",
    "faltante_NaN"
   ]
  },
  {
   "cell_type": "code",
   "execution_count": null,
   "metadata": {},
   "outputs": [],
   "source": [
    "sum(faltante_NA)"
   ]
  },
  {
   "cell_type": "code",
   "execution_count": null,
   "metadata": {},
   "outputs": [],
   "source": [
    "sum(faltante_NaN)"
   ]
  },
  {
   "cell_type": "markdown",
   "metadata": {},
   "source": [
    "Así, supongamos que nos interesa la suma de los elementos que sí se pueden sumar. Para ello utilizamos el comando ``na.rm=TRUE`` dentro de nuestra función:"
   ]
  },
  {
   "cell_type": "code",
   "execution_count": null,
   "metadata": {},
   "outputs": [],
   "source": [
    "sum(faltante_NA,na.rm=TRUE)"
   ]
  },
  {
   "cell_type": "code",
   "execution_count": null,
   "metadata": {},
   "outputs": [],
   "source": [
    "sum(faltante_NaN,na.rm=TRUE)"
   ]
  },
  {
   "cell_type": "markdown",
   "metadata": {},
   "source": [
    "Las otras funciones de agregación son:\n",
    "\n",
    "- ``mean()`` para la media aritmética.\n",
    "- ``max()`` para el máximo.\n",
    "- ``min()`` para el mínimo.\n",
    "\n",
    "Su comportamiento es muy similar a la suma. Además es importante notar que si el argumento que se le dá a ``max()`` y a ``min()`` es un vector de textos, devolverán el elemento máximo y mínimo en el sentido de un diccionario."
   ]
  },
  {
   "cell_type": "code",
   "execution_count": null,
   "metadata": {},
   "outputs": [],
   "source": [
    "mean(faltante_NaN)"
   ]
  },
  {
   "cell_type": "code",
   "execution_count": null,
   "metadata": {},
   "outputs": [],
   "source": [
    "mean(faltante_NaN,na.rm=TRUE)"
   ]
  },
  {
   "cell_type": "code",
   "execution_count": null,
   "metadata": {},
   "outputs": [],
   "source": [
    "max(faltante_NA)"
   ]
  },
  {
   "cell_type": "code",
   "execution_count": null,
   "metadata": {},
   "outputs": [],
   "source": [
    "max(faltante_NA,na.rm=TRUE)"
   ]
  },
  {
   "cell_type": "code",
   "execution_count": null,
   "metadata": {},
   "outputs": [],
   "source": [
    "max(c(\"Adelante\",\"Ahora\"))"
   ]
  },
  {
   "cell_type": "code",
   "execution_count": null,
   "metadata": {},
   "outputs": [],
   "source": [
    "min(faltante_NA)"
   ]
  },
  {
   "cell_type": "code",
   "execution_count": null,
   "metadata": {},
   "outputs": [],
   "source": [
    "min(faltante_NA,na.rm=TRUE)"
   ]
  },
  {
   "cell_type": "code",
   "execution_count": null,
   "metadata": {},
   "outputs": [],
   "source": [
    "min(c(\"Adelante\",\"Ahora\"))"
   ]
  },
  {
   "cell_type": "markdown",
   "metadata": {},
   "source": [
    "Los resultados de estas operaciones son objetos, de modo que se les puede asignar un nombre."
   ]
  },
  {
   "cell_type": "code",
   "execution_count": null,
   "metadata": {},
   "outputs": [],
   "source": [
    "promedio  <- mean(faltante_NaN,na.rm=TRUE)\n",
    "promedio"
   ]
  },
  {
   "cell_type": "markdown",
   "metadata": {},
   "source": [
    "## Ordenaciones\n",
    "\n",
    "Los vectores también se pueden ordentar utilizando la función ``sort()``. El resultado es un nuevo vector con la misma longitud que el original pero con los datos ordenados de forma ascendente. Si lo que queremos es en orden decreciente, utilizamos el parámetro ``decreasing = TRUE``."
   ]
  },
  {
   "cell_type": "code",
   "execution_count": null,
   "metadata": {},
   "outputs": [],
   "source": [
    "sort(c(33,21,54,3,-7))"
   ]
  },
  {
   "cell_type": "code",
   "execution_count": null,
   "metadata": {},
   "outputs": [],
   "source": [
    "sort(faltante_NA)"
   ]
  },
  {
   "cell_type": "code",
   "execution_count": null,
   "metadata": {},
   "outputs": [],
   "source": [
    "sort(mis_datos)"
   ]
  },
  {
   "cell_type": "code",
   "execution_count": null,
   "metadata": {},
   "outputs": [],
   "source": [
    "sort(mis_datos,decreasing=TRUE)"
   ]
  }
 ],
 "metadata": {
  "kernelspec": {
   "display_name": "R",
   "language": "R",
   "name": "ir"
  },
  "language_info": {
   "codemirror_mode": "r",
   "file_extension": ".r",
   "mimetype": "text/x-r-source",
   "name": "R",
   "pygments_lexer": "r",
   "version": "3.6.1"
  }
 },
 "nbformat": 4,
 "nbformat_minor": 4
}
