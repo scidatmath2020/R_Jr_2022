{
 "cells": [
  {
   "cell_type": "markdown",
   "metadata": {},
   "source": [
    "<img src=\"logo.png\">"
   ]
  },
  {
   "cell_type": "markdown",
   "metadata": {},
   "source": [
    "# Ciclos con ```while```.\n",
    "\n",
    "Python cuenta con la palabra reservada ```while``` para ejecutar un bloque de código recursivamente mientras se cumpla una condición determinada. Cuando la expresión lógica evaluada por ```while``` sea ```False``` , el flujo de ejecución continuará sin ejecutar el bloque dentro de ```while```.\n",
    "\n",
    "``\n",
    "<flujo principal>\n",
    "...\n",
    "...\n",
    "while(expresión lógica){\n",
    "     <bloque inscrito a while>\n",
    "}\n",
    "<flujo principal>\n",
    "``\n",
    "\n",
    "A continuación se muestra un diagrama de flujo que ejemplifica al uso de ```while```:\n",
    "<img src=\"im10.png\">\n",
    "\n",
    "\n",
    "\n",
    "**Ejemplo:**"
   ]
  },
  {
   "cell_type": "code",
   "execution_count": null,
   "metadata": {},
   "outputs": [],
   "source": [
    "# Encontrar el primer número cuyo cuadrado exceda un número dado\n",
    "\n",
    "numero_dado  = 2022\n",
    "numero  <- 0\n",
    "while(numero^2 <= numero_dado){\n",
    "    numero = numero+1\n",
    "}\n",
    "\n",
    "numero"
   ]
  },
  {
   "cell_type": "code",
   "execution_count": null,
   "metadata": {},
   "outputs": [],
   "source": [
    "# Dado un vector numérico, sustituir cada uno de sus elementos por su duplicado hasta que encuentre un múltiplo de 5.\n",
    "# No debe duplicar a este múltiplo de 5 ni a todos los demás elementos\n",
    "\n",
    "(mi_vector  <- sample(1:100,20))\n",
    "\n"
   ]
  },
  {
   "cell_type": "code",
   "execution_count": null,
   "metadata": {},
   "outputs": [],
   "source": [
    "n=1\n",
    "while(mi_vector[n]%%5 != 0){\n",
    "    mi_vector[n] <- 2*mi_vector[n]\n",
    "    n=n+1\n",
    "}"
   ]
  },
  {
   "cell_type": "code",
   "execution_count": null,
   "metadata": {},
   "outputs": [],
   "source": [
    "# Dado un string, guardar en una lista el recorrido que se hace desde el inicio hasta cada letra junto con el número de \n",
    "#caracteres recorridos.\n",
    "# Por ejemplo: \"hola\" debe dar como salida una lista con los elementos \"h\", \"ho\",\"hol\", \"hola\"\n",
    "\n",
    "mi_frase = \"Hola a todos\"\n",
    "n = 1\n",
    "mi_lista = list()\n",
    "while(n<=nchar(mi_frase)){\n",
    "    mi_lista[[n]] = list(recorridos = substr(mi_frase,1,n), num_caracteres = n)\n",
    "    n = n+1\n",
    "}\n",
    "\n"
   ]
  },
  {
   "cell_type": "code",
   "execution_count": null,
   "metadata": {},
   "outputs": [],
   "source": [
    "# Dada una frase y un símbolo, imprimir letra por letra hasta que se llegue al símbolo. Si el símbolo no está, debe imprimir\n",
    "# también \"No se encontró el símbolo\"\n",
    "mi_frase = \"Hola a todos. ¿Cómo están?\"\n",
    "mi_simbolo = \".\"\n",
    "n=1\n",
    "\n",
    "while(n<=nchar(mi_frase) & substr(mi_frase,n,n)!=mi_simbolo){\n",
    "    letra = substr(mi_frase,n,n)\n",
    "    print(letra)\n",
    "    n = n+1\n",
    "}\n",
    "\n",
    "if(n-1 == nchar(mi_frase)){\n",
    "    print(paste(c(\"No se encontró el símbolo\",mi_simbolo),collapse=\" \"))\n",
    "}\n"
   ]
  },
  {
   "cell_type": "code",
   "execution_count": null,
   "metadata": {},
   "outputs": [],
   "source": [
    "# Dado un string, llenar una lista con cada una de sus palabras\n",
    "\n",
    "mi_frase <- \"Hola a todos. Buenos días.\"\n",
    "\n",
    "longitud = nchar(mi_frase)\n",
    "n=1\n",
    "pos_inicial = 1\n",
    "lista <- list()\n",
    "letra = ''\n",
    "while(n <= longitud){\n",
    "  letra  <- substr(mi_frase,n,n)\n",
    "  if(letra == \" \" & n < longitud){\n",
    "    posicion = n\n",
    "    lista = c(lista,list(substr(mi_frase,pos_inicial,posicion-1)))\n",
    "    pos_inicial = posicion + 1\n",
    "  } else if(n==longitud){\n",
    "    lista = c(lista,list(substr(mi_frase,pos_inicial,n)))\n",
    "  }\n",
    "  n = n+1    \n",
    "}\n",
    "\n",
    "lista"
   ]
  },
  {
   "cell_type": "code",
   "execution_count": null,
   "metadata": {},
   "outputs": [],
   "source": [
    "strsplit(\"Hola a todos. Buenos días\",\" \")"
   ]
  },
  {
   "cell_type": "code",
   "execution_count": null,
   "metadata": {},
   "outputs": [],
   "source": [
    "# Incluso los while, al igual que los if, pueden ir dentro de funciones.\n",
    "\n",
    "partir_frase <- function(mi_frase){\n",
    "    longitud = nchar(mi_frase)\n",
    "    n=1\n",
    "    pos_inicial = 1\n",
    "    lista <- list()\n",
    "    letra = ''\n",
    "    posicion <- vector()\n",
    "    while(n <= longitud){\n",
    "      letra  <- substr(mi_frase,n,n)\n",
    "      if(letra == \" \" & n < longitud){\n",
    "        posicion = n\n",
    "        lista = c(lista,list(substr(mi_frase,pos_inicial,posicion-1)))\n",
    "        pos_inicial = posicion + 1\n",
    "      } else if(n==longitud){\n",
    "        lista = c(lista,list(substr(mi_frase,pos_inicial,n)))\n",
    "      }\n",
    "      n = n+1    \n",
    "    }\n",
    "    \n",
    "    return(lista)\n",
    "}"
   ]
  },
  {
   "cell_type": "code",
   "execution_count": null,
   "metadata": {},
   "outputs": [],
   "source": [
    "partir_frase(\"Tengo mucho sueño\")"
   ]
  },
  {
   "cell_type": "markdown",
   "metadata": {},
   "source": [
    "###  La palabra reservada ```break``` .\n",
    "\n",
    "La palabra reservada *break* termina prematuramente la ejecución del bloque de código en el que se encuentra y restablece el flujo de ejecución al bloque de código que lo precede.\n",
    "\n",
    "A continuación se muestra un diagrama de flujo que ejemplifica al uso de *break* dentro de un ciclo con *while*:\n",
    "<img src=\"im11.png\">\n",
    "\n",
    "**NOTA:** *break* no sólo se puede aplicar a ciclos o iteraciones, sino también a funciones, métodos y a cualquier elemento que contenga bloques de código ejecutable. \n",
    "\n",
    "**Ejemplo:**"
   ]
  },
  {
   "cell_type": "code",
   "execution_count": null,
   "metadata": {},
   "outputs": [],
   "source": [
    "# Dados un vector numérico X y un número fijo N, obtener la suma de los elementos de X mientras sea menor que N\n",
    "\n",
    "X  <- c(1,2,23,16,76,16)\n",
    "N  = 10\n",
    "m = 1\n",
    "\n",
    "while(TRUE){\n",
    "    if(sum(X[1:m])<N & m<=length(X)){\n",
    "        suma <- sum(X[1:m])\n",
    "        m = m+1\n",
    "    } else{\n",
    "        break        \n",
    "    }\n",
    "}\n",
    "\n",
    "resultado = list(valores = X[1:m-1], suma_valores = suma)"
   ]
  },
  {
   "cell_type": "code",
   "execution_count": null,
   "metadata": {},
   "outputs": [],
   "source": [
    "resultado"
   ]
  },
  {
   "cell_type": "code",
   "execution_count": null,
   "metadata": {},
   "outputs": [],
   "source": [
    "# Dada una frase y un símbolo, imprimir letra por letra hasta que se llegue al símbolo. Si el símbolo no está, debe imprimir\n",
    "# también \"No se encontró el símbolo\"\n",
    "mi_frase = \"Hola a todos. ¿Cómo están?\"\n",
    "mi_simbolo = \".\"\n",
    "n=1\n",
    "\n",
    "while(n<=nchar(mi_frase)){\n",
    "    letra = substr(mi_frase,n,n)\n",
    "    if(letra == mi_simbolo){\n",
    "        break\n",
    "        }\n",
    "    print(letra)\n",
    "    n = n+1\n",
    "    }\n",
    "\n",
    "n"
   ]
  }
 ],
 "metadata": {
  "kernelspec": {
   "display_name": "R",
   "language": "R",
   "name": "ir"
  },
  "language_info": {
   "codemirror_mode": "r",
   "file_extension": ".r",
   "mimetype": "text/x-r-source",
   "name": "R",
   "pygments_lexer": "r",
   "version": "3.6.1"
  }
 },
 "nbformat": 4,
 "nbformat_minor": 4
}
