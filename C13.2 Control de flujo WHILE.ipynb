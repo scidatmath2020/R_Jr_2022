{
 "cells": [
  {
   "cell_type": "markdown",
   "metadata": {},
   "source": [
    "<img src=\"logo.png\">"
   ]
  },
  {
   "cell_type": "markdown",
   "metadata": {},
   "source": [
    "# Ciclos con ```while```.\n",
    "\n",
    "Python cuenta con la palabra reservada ```while``` para ejecutar un bloque de código recursivamente mientras se cumpla una condición determinada. Cuando la expresión lógica evaluada por ```while``` sea ```False``` , el flujo de ejecución continuará sin ejecutar el bloque dentro de ```while```.\n",
    "\n",
    "``<flujo principal>\n",
    "...\n",
    "...\n",
    "while(expresión lógica){\n",
    "     <bloque inscrito a while>\n",
    "}\n",
    "<flujo principal>``\n",
    "\n",
    "A continuación se muestra un diagrama de flujo que ejemplifica al uso de ```while```:\n",
    "<img src=\"im10.png\">\n",
    "\n",
    "\n",
    "\n",
    "**Ejemplo:**"
   ]
  },
  {
   "cell_type": "code",
   "execution_count": null,
   "metadata": {},
   "outputs": [],
   "source": [
    "# Encontrar el primer número cuyo cuadrado exceda un número dado\n",
    "\n",
    "numero_dado  <- as.numeric(readline(prompt=\"Ingresa número: \"))\n",
    "numero  <- 0\n",
    "while(numero^2 <= numero_dado){\n",
    "    numero = numero+1\n",
    "}\n",
    "\n",
    "numero"
   ]
  },
  {
   "cell_type": "code",
   "execution_count": null,
   "metadata": {},
   "outputs": [],
   "source": [
    "# Dado un string, llenar una lista con cada una de sus palabras\n",
    "\n",
    "mi_frase <- \"Hola a todos. Buenos días.\"\n",
    "\n",
    "longitud = nchar(mi_frase)\n",
    "n=1\n",
    "pos_inicial = 1\n",
    "lista <- list()\n",
    "letra = ''\n",
    "posicion <- vector()\n",
    "while(n <= longitud){\n",
    "  letra  <- substr(mi_frase,n,n)\n",
    "  if(letra == \" \" & n < longitud){\n",
    "    posicion = n\n",
    "    lista = c(lista,list(substr(mi_frase,pos_inicial,posicion-1)))\n",
    "    pos_inicial = posicion + 1\n",
    "  } else if(n==longitud){\n",
    "    lista = c(lista,list(substr(mi_frase,pos_inicial,n)))\n",
    "  }\n",
    "  n = n+1    \n",
    "}\n",
    "\n",
    "lista"
   ]
  },
  {
   "cell_type": "code",
   "execution_count": null,
   "metadata": {},
   "outputs": [],
   "source": [
    "# Incluso los while, al igual que los if, pueden ir dentro de funciones.\n",
    "\n",
    "partir_frase <- function(mi_frase){\n",
    "    longitud = nchar(mi_frase)\n",
    "    n=1\n",
    "    pos_inicial = 1\n",
    "    lista <- list()\n",
    "    letra = ''\n",
    "    posicion <- vector()\n",
    "    while(n <= longitud){\n",
    "      letra  <- substr(mi_frase,n,n)\n",
    "      if(letra == \" \" & n < longitud){\n",
    "        posicion = n\n",
    "        lista = c(lista,list(substr(mi_frase,pos_inicial,posicion-1)))\n",
    "        pos_inicial = posicion + 1\n",
    "      } else if(n==longitud){\n",
    "        lista = c(lista,list(substr(mi_frase,pos_inicial,n)))\n",
    "      }\n",
    "      n = n+1    \n",
    "    }\n",
    "    \n",
    "    return(lista)\n",
    "}"
   ]
  },
  {
   "cell_type": "code",
   "execution_count": null,
   "metadata": {},
   "outputs": [],
   "source": [
    "partir_frase(\"Tengo mucho sueño\")"
   ]
  },
  {
   "cell_type": "markdown",
   "metadata": {},
   "source": [
    "###  La palabra reservada ```break``` .\n",
    "\n",
    "La palabra reservada *break* termina prematuramente la ejecución del bloque de código en el que se encuentra y restablece el flujo de ejecución al bloque de código que lo precede.\n",
    "\n",
    "A continuación se muestra un diagrama de flujo que ejemplifica al uso de *break* dentro de un ciclo con *while*:\n",
    "<img src=\"im11.png\">\n",
    "\n",
    "**NOTA:** *break* no sólo se puede aplicar a ciclos o iteraciones, sino también a funciones, métodos y a cualquier elemento que contenga bloques de código ejecutable. \n",
    "\n",
    "**Ejemplo:**"
   ]
  },
  {
   "cell_type": "code",
   "execution_count": null,
   "metadata": {},
   "outputs": [],
   "source": [
    "# Dados un vector numérico X y un número fijo N, obtener la suma de los elementos de X mientras sea menor que N\n",
    "\n",
    "X  <- c(1,2,23,16,76,16)\n",
    "N  <- 1000\n",
    "m = 1\n",
    "\n",
    "while(TRUE){\n",
    "    if(sum(X[1:m])<N & m<=length(X)){\n",
    "        suma <- sum(X[1:m])\n",
    "        m = m+1\n",
    "    } else{\n",
    "        break        \n",
    "    }\n",
    "}\n",
    "\n",
    "resultado = list(valores = X[1:m-1], suma_valores = suma)"
   ]
  },
  {
   "cell_type": "code",
   "execution_count": null,
   "metadata": {},
   "outputs": [],
   "source": [
    "resultado"
   ]
  }
 ],
 "metadata": {
  "kernelspec": {
   "display_name": "R",
   "language": "R",
   "name": "ir"
  },
  "language_info": {
   "codemirror_mode": "r",
   "file_extension": ".r",
   "mimetype": "text/x-r-source",
   "name": "R",
   "pygments_lexer": "r",
   "version": "3.6.1"
  }
 },
 "nbformat": 4,
 "nbformat_minor": 4
}
