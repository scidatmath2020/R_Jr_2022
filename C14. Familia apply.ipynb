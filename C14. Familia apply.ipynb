{
 "cells": [
  {
   "cell_type": "markdown",
   "metadata": {},
   "source": [
    "<img src=\"logo.png\">"
   ]
  },
  {
   "cell_type": "markdown",
   "metadata": {},
   "source": [
    "# Familia apply\n",
    "\n",
    "Ya hemos visto que la gran mayoría de operaciones en **R** son vectorizadas. \n",
    "\n",
    "Los lenguajes de programación con operaciones vectorizadas ofrecen una gran capacidad para realizar tareas en menos tiempo que utilizado un ciclos for o while.\n",
    "\n",
    "Por ejemplo, considere dos vectores ``x`` y ``y`` de la misma longitud. Supongamos que queremos obtener un vector ``z`` formado por la suma de los elementos de ``x`` con los elementos de ``y`` de manera ordenada.\n",
    "\n",
    "``\n",
    "n = length(x)\n",
    "for(i in 1:n){\n",
    "   z[i] <- x[i]+y[i]\n",
    "}\n",
    "``"
   ]
  },
  {
   "cell_type": "markdown",
   "metadata": {},
   "source": [
    "Si $n$ es muy grande, la instrucción anterior podría tardar **muchísimo**, en tanto que la ventaja de la vectorización de la suma en **R** es que, aun para $n$ grande, ``z=x+y`` es relativamente más rápida que el uso de un ciclo."
   ]
  },
  {
   "cell_type": "markdown",
   "metadata": {},
   "source": [
    "Por su parte, **R** cuenta con una serie de funciones, la **familia apply**, tal que cada uno de sus elementos es una función vectorizada diseñada para sustituir ciclos for y while de manera eficiente para aplicar otras funciones.\n",
    "\n",
    "Esta familia está formada por ``apply()``, ``vapply()``,``lapply()``, ``tapply()``, ``sapply()``, ``mapply()`` y ``rapply()``\n",
    "\n",
    "En este capítulo estudiaremos las mas importantes."
   ]
  },
  {
   "cell_type": "markdown",
   "metadata": {},
   "source": [
    "## lapply( )\n",
    "\n",
    "La primer función a estudiar será ``lapply( )``. Su sintaxis es ``lapply(X,FUN)``. Aquí, ``X`` es un vector, una lista o un array, y ``FUN`` es una función que se aplicará a cada elemento de ``X``. El resultado será una lista con el mismo número de elementos de ``X``; se recomienda que ``X`` sea un vector o una lista."
   ]
  },
  {
   "cell_type": "code",
   "execution_count": null,
   "metadata": {},
   "outputs": [],
   "source": [
    "## Construir una lista de textos: textos = list(\"Texto 1\",\"Texto 2\",...,\"Texto n\")\n",
    "\n",
    "mi_funcion1 <- function(x){\n",
    "    paste(c(\"Texto_\",x),collapse=\"\")\n",
    "}\n",
    "\n",
    "lapply(1:100,mi_funcion1)"
   ]
  },
  {
   "cell_type": "code",
   "execution_count": null,
   "metadata": {},
   "outputs": [],
   "source": [
    "#Dada una lista de textos, convertir las vocales a mayúsculas\n",
    "\n",
    "cambio_vocales <- function(texto){\n",
    "  n = nchar(texto)\n",
    "  letras <- vector()\n",
    "  for(x in 1:n){\n",
    "    letras[x] <- substr(texto,x,x)\n",
    "    if(letras[x] %in% c(\"a\",\"e\",\"i\",\"o\",\"u\")){\n",
    "      letras[x] <- c(\"A\",\"E\",\"I\",\"O\",\"U\")[letras[x]==c(\"a\",\"e\",\"i\",\"o\",\"u\")]\n",
    "    }\n",
    "  }\n",
    "  return(paste(letras,collapse=\"\"))  \n",
    "}\n",
    "\n",
    "\n",
    "mis_frases <- c(\"La vida es una obra teatral que no importa cuánto haya durado, sino lo bien que haya sido representada\",\n",
    "                \"Elige un trabajo que ames, y no tendrás que trabajar un solo día de tu vida\",\n",
    "                \"Nuestra mayor gloria no es no caer nunca, sino levantarnos cada vez que caemos\")"
   ]
  },
  {
   "cell_type": "code",
   "execution_count": null,
   "metadata": {},
   "outputs": [],
   "source": [
    "# Lectura de archivos:\n",
    "\n",
    "archivos <- c(1,2,4)\n",
    "mis_archivos <- lapply(dir()[archivos],read.csv)\n",
    "names(mis_archivos) <- unlist(strsplit(dir(),split=\".csv\"))[archivos]\n",
    "\n"
   ]
  },
  {
   "cell_type": "code",
   "execution_count": null,
   "metadata": {},
   "outputs": [],
   "source": [
    "data(mtcars)"
   ]
  },
  {
   "cell_type": "code",
   "execution_count": null,
   "metadata": {},
   "outputs": [],
   "source": [
    "mtcars"
   ]
  },
  {
   "cell_type": "code",
   "execution_count": null,
   "metadata": {},
   "outputs": [],
   "source": [
    "# calcular el máximo y el promedio de cada de las columnas mpg, hp y wt\n",
    "\n",
    "mi_max_prom <- function(columna){\n",
    "    valores  <- c(max(columna),mean(columna))\n",
    "    names(valores) = c(\"Maximo\",\"Promedio\")\n",
    "    return(valores)\n",
    "}\n",
    "\n",
    "lapply(mtcars[,c(\"mpg\",\"hp\",\"wt\")],mi_max_prom)\n"
   ]
  },
  {
   "cell_type": "code",
   "execution_count": null,
   "metadata": {},
   "outputs": [],
   "source": [
    "categorias_carb <- sort(unique(mtcars$carb))"
   ]
  },
  {
   "cell_type": "code",
   "execution_count": null,
   "metadata": {},
   "outputs": [],
   "source": [
    "extraer <- function(x){\n",
    "    return(mtcars[mtcars$carb == x,])\n",
    "}"
   ]
  },
  {
   "cell_type": "code",
   "execution_count": null,
   "metadata": {},
   "outputs": [],
   "source": [
    "lista_carb <- lapply(categorias_carb,extraer)\n",
    "lista_carb"
   ]
  },
  {
   "cell_type": "markdown",
   "metadata": {},
   "source": [
    "## sapply( )\n",
    "\n",
    "La función ``sapply( )`` es muy parecida a ``lapply( )``, con la diferencia de que devuelve un vector, una matriz o un array:\n",
    "\n",
    "``sapply(x,FUN,simplify = TRUE,USE.NAMES=TRUE)``\n",
    "\n",
    "donde \n",
    "\n",
    "- ``simplify = TRUE`` devuelve una lista o una matriz. Si ``=\"array\"`` devuelve un array.\n",
    "- ``USE.NAMES = TRUE`` hace que, si `x` es un vector de caracteres, el resultado de aplicar ``FUN`` a cada elemento de ``x`` tendrá el mismo nombre. "
   ]
  },
  {
   "cell_type": "code",
   "execution_count": null,
   "metadata": {},
   "outputs": [],
   "source": [
    "sapply(mis_frases,cambio_vocales,simplify = \"array\",USE.NAMES = TRUE)"
   ]
  },
  {
   "cell_type": "code",
   "execution_count": null,
   "metadata": {},
   "outputs": [],
   "source": [
    "sapply(mtcars[,c(\"mpg\",\"hp\",\"wt\")],mi_max_prom,simplify=FALSE, USE.NAMES=FALSE)"
   ]
  },
  {
   "cell_type": "code",
   "execution_count": null,
   "metadata": {},
   "outputs": [],
   "source": [
    "sapply(dir()[archivos],read.csv,simplify = TRUE,USE.NAMES = FALSE)"
   ]
  },
  {
   "cell_type": "code",
   "execution_count": null,
   "metadata": {},
   "outputs": [],
   "source": [
    "lista_carb <- sapply(categorias_carb,extraer,simplify=FALSE,USE.NAMES=TRUE)"
   ]
  },
  {
   "cell_type": "code",
   "execution_count": null,
   "metadata": {},
   "outputs": [],
   "source": [
    "lista_carb"
   ]
  },
  {
   "cell_type": "code",
   "execution_count": null,
   "metadata": {},
   "outputs": [],
   "source": [
    "## Insertar una columna a mtcars con la marca del automovil\n",
    "\n",
    "nombres_partidos <- strsplit(row.names(mtcars),\" \")\n",
    "mtcars$marca <- sapply(nombres_partidos,function(x){x[1]})\n"
   ]
  },
  {
   "cell_type": "code",
   "execution_count": null,
   "metadata": {},
   "outputs": [],
   "source": [
    "mtcars"
   ]
  },
  {
   "cell_type": "code",
   "execution_count": null,
   "metadata": {},
   "outputs": [],
   "source": [
    "strsplit(row.names(mtcars),\" \")"
   ]
  },
  {
   "cell_type": "markdown",
   "metadata": {},
   "source": [
    "## mapply( )\n",
    "\n",
    "La función ``mapply( )`` es parecida a ``sapply( )`` pero con varias variables.\n",
    "\n",
    "\n",
    "``mapply(FUN,...,SIMPLIFY = TRUE,USE.NAMES=TRUE)``\n",
    "\n",
    "donde \n",
    "\n",
    "- ``...`` son los argumentos de la función ``FUN``. Pueden ser vectores, listas o arrays\n",
    "- ``simplify = TRUE`` devuelve una lista o una matriz. Si ``=\"array\"`` devuelve un array.\n",
    "- ``USE.NAMES = TRUE`` hace que, si `x` es un vector de caracteres, el resultado de aplicar ``FUN`` a cada elemento de ``x`` tendrá el mismo nombre. "
   ]
  },
  {
   "cell_type": "markdown",
   "metadata": {},
   "source": [
    "## tapply( )\n",
    "\n",
    "Esta función es diferente a las anteriores. Sirve para aplicar una función a cierta columna de un dataframe categorizando por otra(s) columna(s) del mismo dataframe:\n",
    "\n",
    "``tapply(col,list(col_cat1,col_cat2,...),FUN)``\n",
    "\n",
    "donde\n",
    "\n",
    "- ``col`` es la columna a la que se le aplicará la función ``FUN``\n",
    "- ``col_cat1``, ``col_cat2``,... son las columnas por las que se hará la segregación"
   ]
  },
  {
   "cell_type": "code",
   "execution_count": null,
   "metadata": {},
   "outputs": [],
   "source": [
    "# calcular el mpg promedio por marca\n",
    "\n",
    "tapply(mtcars$mpg,mtcars$marca,mean)"
   ]
  },
  {
   "cell_type": "code",
   "execution_count": null,
   "metadata": {},
   "outputs": [],
   "source": [
    "# calcular el mínimo de disp por cilindros y engranaje\n",
    "\n",
    "tapply(mtcars$disp,list(mtcars$cyl,mtcars$gear),min)"
   ]
  },
  {
   "cell_type": "code",
   "execution_count": null,
   "metadata": {},
   "outputs": [],
   "source": [
    "# calcular el promedio de disp por cilindros, engranaje y marca\n",
    "\n",
    "tapply(mtcars$disp,list(mtcars$cyl,mtcars$gear,mtcars$marca),min)[,,17]"
   ]
  },
  {
   "cell_type": "code",
   "execution_count": null,
   "metadata": {},
   "outputs": [],
   "source": [
    "mercedes <- mtcars[mtcars$marca==\"Merc\",]"
   ]
  },
  {
   "cell_type": "code",
   "execution_count": null,
   "metadata": {},
   "outputs": [],
   "source": [
    "tapply(mercedes$disp,list(mercedes$cyl,mercedes$gear),min)"
   ]
  },
  {
   "cell_type": "code",
   "execution_count": null,
   "metadata": {},
   "outputs": [],
   "source": [
    "tapply(mtcars$disp,list(mtcars$cyl,mtcars$gear,mtcars$marca==\"Merc\"),min)[,,2]"
   ]
  }
 ],
 "metadata": {
  "kernelspec": {
   "display_name": "R",
   "language": "R",
   "name": "ir"
  },
  "language_info": {
   "codemirror_mode": "r",
   "file_extension": ".r",
   "mimetype": "text/x-r-source",
   "name": "R",
   "pygments_lexer": "r",
   "version": "3.6.1"
  }
 },
 "nbformat": 4,
 "nbformat_minor": 4
}
