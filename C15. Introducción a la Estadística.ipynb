{
 "cells": [
  {
   "cell_type": "markdown",
   "metadata": {},
   "source": [
    "<img src=\"logo.png\">"
   ]
  },
  {
   "cell_type": "markdown",
   "metadata": {},
   "source": [
    "# Introducción a la Estadística\n",
    "\n",
    "En este capítulo haremos una breve introducción a la Estadística descriptiva de **R**.\n",
    "\n",
    "Comenzemos cargando el archivo csv ``vinos.csv``"
   ]
  },
  {
   "cell_type": "code",
   "execution_count": null,
   "metadata": {},
   "outputs": [],
   "source": [
    "vinos  <- read.csv(\"vinos.csv\")\n",
    "names(vinos)\n",
    "\n",
    "mex <- vinos[vinos$country == \"Mexico\",]\n",
    "por <- vinos[vinos$country == \"Portugal\",]"
   ]
  },
  {
   "cell_type": "markdown",
   "metadata": {},
   "source": [
    "## Visualización de distribuciones de datos\n",
    "\n",
    "Dada una variable continua (es decir, un vector de tipo numérico), en **ggplot2** de **R** existe una función que nos permite graficar su *función de densidad de probabilidad*. Es decir, un histograma suavizado: ``geom_density``\n"
   ]
  },
  {
   "cell_type": "code",
   "execution_count": null,
   "metadata": {},
   "outputs": [],
   "source": [
    "### Histograma suavizado de las calificaciones de los vinos en Portugal\n",
    "\n",
    "ggplot() +\n",
    "  geom_density(data=por,aes(x=as.numeric(points))) +\n",
    "  geom_histogram(data=por,aes(x=as.numeric(points),y=stat(density)),\n",
    "                 fill = \"yellow\",alpha=0.5,binwidth = 1)"
   ]
  },
  {
   "cell_type": "markdown",
   "metadata": {},
   "source": [
    "De ese gráfico podemos deducir, por ejemplo, que la probabilidad de elegir un vino portugués al azar y que tenga calificación menor a 82.5 es baja, así como de tener vinos con calificación mayor a 95.\n",
    "\n",
    "Observe además que hay 18 barras, cada una de ancho 1. Las nueve primeras quedan por atrás de 88.5. Como la cola izquierda es más ligera que la derecha, entonces en general hay mas vinos con calificación menor a 88.5 que mayor, lo cual podemos verificar."
   ]
  },
  {
   "cell_type": "code",
   "execution_count": null,
   "metadata": {},
   "outputs": [],
   "source": [
    "nrow(por[as.numeric(por$points)<88.5,])\n",
    "nrow(por[as.numeric(por$points)>=88.5,])"
   ]
  },
  {
   "cell_type": "markdown",
   "metadata": {},
   "source": [
    "## Media y mediana\n",
    "\n",
    "La media de una característica es simplemente el valor promedio de sus datos. Se trata de una medida de tendencia central y de localización de la distribución, pues nos dice en qué valor los datos se están agrupando y además nos ayuda a saber aproximadamente en qué lugar del eje horizontal se encuentra esa aglomeración de datos.\n",
    "\n",
    "Por su parte, la mediana de un característica es aquél número que nos divide a los datos en el 50%. En una distribución que tiene ambas colas (que son las más comunes), nos indica que si el lado derecho de la media es mas corto que el izquierdo, entonces tienes más valores superiores que inferiores (y por lo tanto, en los inferiores hay repeticiones).\n",
    "\n",
    "Por lo tanto, entre más parecidas son la media y la mediana, la distribución es más simétrica. "
   ]
  },
  {
   "cell_type": "code",
   "execution_count": null,
   "metadata": {},
   "outputs": [],
   "source": [
    "## Caso México\n",
    "\n",
    "median(as.numeric(mex$points))\n",
    "\n",
    "nrow(mex[as.numeric(mex$points)<84,])\n",
    "nrow(mex[as.numeric(mex$points)>=84,])\n",
    "\n",
    "table(mex[as.numeric(mex$points)<84,\"points\"])\n",
    "table(mex[as.numeric(mex$points)>=84,\"points\"])"
   ]
  },
  {
   "cell_type": "markdown",
   "metadata": {},
   "source": [
    "Compara ambas distribuciones"
   ]
  },
  {
   "cell_type": "code",
   "execution_count": null,
   "metadata": {},
   "outputs": [],
   "source": [
    "por1 <- data.frame(points = as.numeric(por$points),country = \"Portugal\")\n",
    "mex1 <- data.frame(points = as.numeric(mex$points),country = \"Mexico\")\n",
    "\n",
    "por_mex <- rbind(por1,mex1)\n",
    "\n",
    "ggplot(data = por_mex) +\n",
    "  geom_density(aes(points,color = country,fill=country),alpha=0.5)"
   ]
  },
  {
   "cell_type": "markdown",
   "metadata": {},
   "source": [
    "Veamos en qué paises la media y la mediana son aproximadamente iguales, y por lo tanto sus curvas deben ser casi simétricas"
   ]
  },
  {
   "cell_type": "code",
   "execution_count": null,
   "metadata": {},
   "outputs": [],
   "source": [
    "medias_medianas <- data.frame(medias = tapply(as.numeric(vinos$points),\n",
    "                                              vinos$country,\n",
    "                                              mean),\n",
    "                              medianas = tapply(as.numeric(vinos$points),\n",
    "                                                vinos$country,\n",
    "                                                median)\n",
    ")\n",
    "\n",
    "medias_medianas$simetria <- ifelse(abs(medias_medianas$medias-medias_medianas$medianas)<0.5\n",
    "  ,\"Si\",\"No\") "
   ]
  },
  {
   "cell_type": "markdown",
   "metadata": {},
   "source": [
    "## Moda\n",
    "\n",
    "Otra medida de tendencia central es la moda. Este valor es el que más se repite dentro de una característica. Cobra especial importancia cuando la caraterística es de tipo categórica.\n",
    "\n",
    "Sin embargo, **R no tiene una función para calcular la moda**."
   ]
  },
  {
   "cell_type": "code",
   "execution_count": 3,
   "metadata": {},
   "outputs": [],
   "source": [
    "# Función para calcular la moda\n",
    "\n",
    "moda <- function(vector){\n",
    "    tabla <- as.data.frame(table(vector))\n",
    "    tabla <- tabla[tabla$Freq == max(tabla$Freq),]\n",
    "    names(tabla) <- c(\"Moda\",\"Frecuencia\")\n",
    "    return(tabla)    \n",
    "}"
   ]
  },
  {
   "cell_type": "markdown",
   "metadata": {},
   "source": [
    "## Varianza y desviación estándar\n",
    "\n",
    "La varianza y la desviación estándar de una característica nos dicen qué tanto se alejan (o dispersan) los datos de su promedio. Es por ello que se consideran medidas de dispersión.\n",
    "\n",
    "Veamos un ejemplo. Compara los puntajes de los vinos en México, Chile y Portugal."
   ]
  },
  {
   "cell_type": "code",
   "execution_count": null,
   "metadata": {},
   "outputs": [],
   "source": [
    "# Tabla de los tres países\n",
    "mis_paises <- vinos[vinos$country %in% c(\"Mexico\",\"Portugal\",\"Chile\"),]\n",
    "\n",
    "# Valor promedio de la calidad en cada país\n",
    "medias = data.frame(puntaje_medio = tapply(mis_paises$points,\n",
    "                mis_paises$country,\n",
    "                function(x){mean(x,na.rm=TRUE)}))\n",
    "medias$country <- row.names(medias)\n",
    "\n",
    "# Graficas\n",
    "ggplot() +\n",
    "  geom_density(data = mis_paises,\n",
    "               aes(x=points,fill=country),\n",
    "               alpha = 0.5, \n",
    "               position = \"identity\") +\n",
    "  geom_vline(data = medias,\n",
    "             aes(xintercept = puntaje_medio,color=country)) +\n",
    "  xlim(0,100)"
   ]
  },
  {
   "cell_type": "markdown",
   "metadata": {},
   "source": [
    "Como dijimos, la desviación estándar mide qué tanto se alejan los valores, en promedio, de su propio promedio. Es decir, a menor desviación, mas \"delgada\" es la curva.\n",
    "\n",
    "En **R**, la desviación estándar se calcula con la función ``sd()``."
   ]
  },
  {
   "cell_type": "code",
   "execution_count": null,
   "metadata": {},
   "outputs": [],
   "source": [
    "tapply(mis_paises$points,\n",
    "       mis_paies$country,\n",
    "       function(x){sd(x,na.rm=TRUE)})"
   ]
  },
  {
   "cell_type": "markdown",
   "metadata": {},
   "source": [
    "Por lo tanto, a menor desviación, hay mas estabilidad de la característica de estudio. En este sentido, un país es productor de de vino con calidad estable (lo cual no significa que sea mejor) si su desviación es baja."
   ]
  },
  {
   "cell_type": "code",
   "execution_count": null,
   "metadata": {},
   "outputs": [],
   "source": [
    "## Buscaremos los países que tienen mas de 50 productos en la tabla\n",
    "vinos$FAC <- 1\n",
    "\n",
    "productos_paises <- data.frame(total = tapply(vinos$FAC,vinos$country,sum))\n",
    "productos_paises$country <- row.names(productos_paises)\n",
    "\n",
    "mayores <- productos_paises[productos_paises$total>50,]$country\n",
    "\n",
    "mas_productores <- vinos[vinos$country %in% mayores,]\n",
    "\n",
    "## Para cada uno de los países anteriores,\n",
    "## calculamos la media y la desviación\n",
    "\n",
    "calidad_estable <- data.frame(medias = tapply(mas_productores$points,\n",
    "                          mas_productores$country, function(x){mean(x,na.rm = TRUE)}),\n",
    "                              desviaciones = tapply(mas_productores$points,\n",
    "                          mas_productores$country, function(x){sd(x,na.rm = TRUE)})\n",
    "                              )\n",
    "## Ordenamos el dataframe para ir de mas estables a menos estables y \n",
    "## de mayor calidad promedio a menor calidad promedio\n",
    "\n",
    "calidad_estable$country  <- row.names(calidad_estable)\n",
    "calidad_estable <- calidad_estable[order(calidad_estable$desviacion,\n",
    "                                         calidad_estable$media,\n",
    "                                         decreasing = c(FALSE,TRUE)),]\n",
    "row.names(calidad_estable) <- 1:nrow(calidad_estable)\n",
    "\n",
    "View(calidad_estable)\n"
   ]
  }
 ],
 "metadata": {
  "kernelspec": {
   "display_name": "R",
   "language": "R",
   "name": "ir"
  },
  "language_info": {
   "codemirror_mode": "r",
   "file_extension": ".r",
   "mimetype": "text/x-r-source",
   "name": "R",
   "pygments_lexer": "r",
   "version": "3.6.1"
  }
 },
 "nbformat": 4,
 "nbformat_minor": 4
}
