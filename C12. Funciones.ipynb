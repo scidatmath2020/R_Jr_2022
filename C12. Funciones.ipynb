{
 "cells": [
  {
   "cell_type": "markdown",
   "metadata": {},
   "source": [
    "<img src=\"logo.png\">"
   ]
  },
  {
   "cell_type": "markdown",
   "metadata": {},
   "source": [
    "# Funciones\n",
    "\n",
    "A lo largo de todo el curso hemos utilizado funciones. Como vimos, se tratan de instrucciones que se alimentan con un parámetro y devuelven un resultado.\n",
    "\n",
    "En **R**, así como en todo lenguaje de programación, se pueden programar funciones propias para realizar acciones específicas que deseas. Y en general, las funciones son útiles cuando vas a realizar la misma acción varias veces.\n",
    "\n",
    "Por ejemplo, supongamos que para cada uno de los siguientes vectores, se debe hallar la suma de sus elementos exceptuando el máximo y el mínimo.\n",
    "\n",
    "``\n",
    "mi_vec1  <- c(1,5,27,5,187,34)\n",
    "mi_vec2  <- c(45,848,24,7)\n",
    "mi_vec3  <- c(87,8789,23)\n",
    "mi_vec4  <- c(1,32)\n",
    "mi_vec5  <- c(2022)\n",
    "mi_vec6  <- c(98,977,88,23,35,872)\n",
    "mi_vec7  <- c(83,97,9000)``\n",
    "\n",
    "Uno podría hacer:\n",
    "\n",
    "``sum(mi_vec1)-max(mi_vec1)-min(mi_vec1)\n",
    "sum(mi_vec2)-max(mi_vec2)-min(mi_vec2)\n",
    "sum(mi_vec3)-max(mi_vec3)-min(mi_vec3)\n",
    "sum(mi_vec4)-max(mi_vec4)-min(mi_vec4)\n",
    "sum(mi_vec5)-max(mi_vec5)-min(mi_vec5)\n",
    "sum(mi_vec6)-max(mi_vec6)-min(mi_vec6)\n",
    "sum(mi_vec7)-max(mi_vec7)-min(mi_vec7)``"
   ]
  },
  {
   "cell_type": "markdown",
   "metadata": {},
   "source": [
    "El objetivo de utilizar funciones es reducir trabajo y líneas de código.\n",
    "\n",
    "Para crear una función en **R** utilizamos la sintaxis:\n",
    "\n",
    "``nombre <- function(parámetros){\n",
    "    cuerpo\n",
    "    cuerpo\n",
    "    return(resultado)\n",
    "}``"
   ]
  },
  {
   "cell_type": "code",
   "execution_count": null,
   "metadata": {},
   "outputs": [],
   "source": [
    "mi_funcion1 <- function(x){\n",
    "    suma_total  <- sum(x)\n",
    "    maximo  <- max(x)\n",
    "    minimo <- min(x)\n",
    "    return(suma_total-maximo-minimo)\n",
    "}"
   ]
  },
  {
   "cell_type": "code",
   "execution_count": null,
   "metadata": {},
   "outputs": [],
   "source": [
    "mi_funcion1(c(1,2,3))"
   ]
  },
  {
   "cell_type": "code",
   "execution_count": null,
   "metadata": {},
   "outputs": [],
   "source": [
    "mi_funcion1(c(98,977,88,23,35,872))"
   ]
  },
  {
   "cell_type": "markdown",
   "metadata": {},
   "source": [
    "En general, no hay ninguna restricción para construir funciones. Pueden tener tantos argumentos como se desee; pueden ser de cualquier tipo y puede devolver cualquiera de los tipos de dato y objetos que hemos estudiado."
   ]
  },
  {
   "cell_type": "code",
   "execution_count": null,
   "metadata": {},
   "outputs": [],
   "source": [
    "## Una función que toma cualquier dataframe X con datos numéricos y nos devuelve el mismo dataframe con un renglón formado \n",
    "## por el promedio de cada una de las columnas\n",
    "\n",
    "mi_funcion2 <- function(X){\n",
    "    promedios  <- colMeans(X)\n",
    "    nvo_data  <- rbind(X,promedios)\n",
    "    row.names(nvo_data) = c(row.names(X),\"PROMEDIO\")\n",
    "    colnames(nvo_data) = colnames(X)\n",
    "    return(nvo_data)    \n",
    "}"
   ]
  },
  {
   "cell_type": "code",
   "execution_count": null,
   "metadata": {},
   "outputs": [],
   "source": [
    "mi_data <- data.frame(val1 = c(1,4,2,5),\n",
    "                      val2 = c(2,1,1,6),\n",
    "                      val3 = c(12,4,28,2))\n",
    "\n",
    "mi_funcion2(mi_data)"
   ]
  },
  {
   "cell_type": "code",
   "execution_count": null,
   "metadata": {},
   "outputs": [],
   "source": [
    "paste(c(\"1\",\"2\"),collapse = \" \")"
   ]
  },
  {
   "cell_type": "code",
   "execution_count": null,
   "metadata": {},
   "outputs": [],
   "source": [
    "# Crear una función que acepte un vector de characteres y forme una palabra con la primer letra de cada entrada\n",
    "mi_funcion3 <- function(palabras){\n",
    "    primera <- substr(palabras,1,1)\n",
    "    palabra <- paste(primera, collapse = \"\")\n",
    "    return(palabra)\n",
    "}"
   ]
  },
  {
   "cell_type": "code",
   "execution_count": null,
   "metadata": {},
   "outputs": [],
   "source": [
    "mi_funcion3(c(\"Hola\",\"cuanto\",\"adiós\",\"SciData\"))"
   ]
  },
  {
   "cell_type": "code",
   "execution_count": null,
   "metadata": {},
   "outputs": [],
   "source": [
    "# Una función que resuelve cualquier ecuación de segundo grado\n",
    "mi_funcion4 <- function(a,b,c){\n",
    "    discriminante  <- b^2-4*a*c+0i\n",
    "    resp1 <- (-b + sqrt(discriminante))/(2*a)\n",
    "    resp2 <- (-b - sqrt(discriminante))/(2*a)\n",
    "    return(c(resp1,resp2))\n",
    "}"
   ]
  },
  {
   "cell_type": "code",
   "execution_count": null,
   "metadata": {},
   "outputs": [],
   "source": [
    "# Resolver x^2+(4-2i)x-8i=0\n",
    "mi_funcion4(1,4-2i,-8i)"
   ]
  },
  {
   "cell_type": "code",
   "execution_count": null,
   "metadata": {},
   "outputs": [],
   "source": [
    "# Una función que, dado un vector de strings, te devuelve los elementos que tienen una cantidad par de letras\n",
    "# y, en dado caso, te diga cuántas letras tiene. Además también el total de palabras que cumplen la condición\n",
    "\n",
    "mi_funcion5 <- function(palabras){\n",
    "    cantidades  = nchar(palabras)\n",
    "    pares = cantidades %% 2 == 0\n",
    "    palabras_pares = palabras[pares]\n",
    "    lista = list(palabras_pares,\n",
    "                cantidades[cantidades %% 2 == 0])\n",
    "    n = length(lista[[1]])\n",
    "    lista = c(lista,n)\n",
    "    names(lista) = c(\"Palabras\",\"Cantidades\",\"Total\")\n",
    "    return(lista)    \n",
    "}"
   ]
  },
  {
   "cell_type": "code",
   "execution_count": null,
   "metadata": {},
   "outputs": [],
   "source": [
    "mi_vector  <- c(\"123\",\"hola\",\"1\",\"ab\",\"cd\")\n",
    "mi_funcion5(mi_vector)"
   ]
  },
  {
   "cell_type": "code",
   "execution_count": null,
   "metadata": {},
   "outputs": [],
   "source": [
    "# Una función que nos diga si un número entero tiene raíz cuadrada entera\n",
    "\n",
    "mi_funcion6 <- function(x){\n",
    "    raiz = sqrt(x)\n",
    "    salida = as.logical(as.integer(raiz)-raiz)\n",
    "    return(!salida)\n",
    "}"
   ]
  },
  {
   "cell_type": "code",
   "execution_count": null,
   "metadata": {},
   "outputs": [],
   "source": [
    "mi_funcion6(4)"
   ]
  },
  {
   "cell_type": "code",
   "execution_count": null,
   "metadata": {},
   "outputs": [],
   "source": [
    "# Una función que nos dice qué palabras de un vector de strings comienzan o no con una vocal.\n",
    "\n",
    "mi_funcion7 <- function(mis_palabras){\n",
    "    vocal_si <- mis_palabras[substr(mis_palabras,1,1) %in% c(\"A\",\"E\",\"I\",\"O\",\"U\",\"a\",\"e\",\"i\",\"o\",\"u\")]\n",
    "    vocal_no <- mis_palabras[! substr(mis_palabras,1,1) %in% c(\"A\",\"E\",\"I\",\"O\",\"U\",\"a\",\"e\",\"i\",\"o\",\"u\")]\n",
    "    return(list(con_vocal=vocal_si, sin_vocal = vocal_no))\n",
    "}"
   ]
  },
  {
   "cell_type": "code",
   "execution_count": null,
   "metadata": {},
   "outputs": [],
   "source": [
    "mi_funcion7(c(\"Esta\",\"ha\",\"sido\",\"una\",\"gran\",\"clase\"))"
   ]
  }
 ],
 "metadata": {
  "kernelspec": {
   "display_name": "R",
   "language": "R",
   "name": "ir"
  },
  "language_info": {
   "codemirror_mode": "r",
   "file_extension": ".r",
   "mimetype": "text/x-r-source",
   "name": "R",
   "pygments_lexer": "r",
   "version": "3.6.1"
  }
 },
 "nbformat": 4,
 "nbformat_minor": 4
}
