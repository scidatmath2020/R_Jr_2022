{
 "cells": [
  {
   "cell_type": "markdown",
   "metadata": {},
   "source": [
    "<img src=\"logo.png\">"
   ]
  },
  {
   "cell_type": "markdown",
   "metadata": {},
   "source": [
    "# Tipos de datos\n",
    "\n",
    "En este capítulo estudiaremos los tipos de datos básicos de **R**: strings (textos), "
   ]
  },
  {
   "cell_type": "markdown",
   "metadata": {},
   "source": [
    "## Strings\n",
    "\n",
    "El primer tipo de dato que estudiaremos el de tipo string. Se trata de valores de texto, palabras y letras. \n",
    "\n",
    "**Características**\n",
    "\n",
    "- No pueden aplicárseles funciones matemáticas.\n",
    "- Se utilizan para manejar textos.\n",
    "- Se definen entre comillas. Pueden ser comillas simples o dobles.\n",
    "- Todo lo que escribas entre comillas será interpretado en **R** como string."
   ]
  },
  {
   "cell_type": "markdown",
   "metadata": {},
   "source": [
    "## Numéricos\n",
    "\n",
    "Son datos que, como su nombre lo establece, indican números. Los números enteros no se guardan como enteros en **R** a menos que se especifique. \n",
    "\n",
    "``1`` es un dato de tipo numérico, al igual que ``1.0``.\n",
    "\n",
    "En caso de querer gestionar valores interos, se definen a través de la letra ``L`` o *convirtiendo* el valor a numérico."
   ]
  },
  {
   "cell_type": "code",
   "execution_count": null,
   "metadata": {},
   "outputs": [],
   "source": [
    "Num = 1L\n",
    "Num = as.integer(1)"
   ]
  },
  {
   "cell_type": "markdown",
   "metadata": {},
   "source": [
    "**Características**\n",
    "\n",
    "- Puedes hacer operaciones matemáticas con este tipo de datos.\n",
    "- Convertir a entero trunca los decimales."
   ]
  },
  {
   "cell_type": "markdown",
   "metadata": {},
   "source": [
    "## Lógicos (booleanos)\n",
    "\n",
    "**R** puede gestionar valores de tipo Verdadero o Falso. Este tipo de datos se conocen como datos booleanos: ``TRUE`` y ``FALSE``.\n",
    "\n",
    "**Características**\n",
    "\n",
    "- Los operadores de comparación siempre devuelven valores booleanos\n",
    "- Se pueden transformar en numéricos utilizando las funciones ``as.numeric()`` o ``as.integer()``\n",
    "\n"
   ]
  },
  {
   "cell_type": "markdown",
   "metadata": {},
   "source": [
    "## Funciones importantes relacionadas con el tipo de datos\n",
    "\n",
    "**R** cuenta con una familia de funciones para convertir, siempre que se pueda, de un tipo de dato a otro. Estas funciones son:\n",
    "\n",
    "- ``as.numeric()``\n",
    "- ``as.integer()``\n",
    "- ``as.character()``\n",
    "- ``as.logical()``\n",
    "\n",
    "Si quieres saber si un dato es de tipo x, siendo x= numeric, integer, character o logical, utilizas ``is.x()``\n"
   ]
  },
  {
   "cell_type": "markdown",
   "metadata": {},
   "source": [
    "### Funciones para saber tipo de datos\n",
    "\n",
    "En **R** existen tres funciones fundamentales para conocer el tipo de dato de una variable. A saber: ``class()``, ``typeof()`` y ``mode()``. La tercera es bastante técnica y no la comentaremos aquí.\n",
    "\n",
    "El concepto de clase está relacionado con el paradigma de *programación orientada a objetos*, y tiene que ver con el tipo de funciones o métodos que se pueden aplicar a un objeto; en tanto el concepto de tipo está más relacionado con la manera en que un objeto se guarda en la memoria.\n",
    "\n",
    "Sin entrar en tantos detalles, en **R** la función ``class()`` es la más importante para conocer el *tipo* de un objeto, ya que nos da la información, al menos intuitivamente, sobre qué podemos hacer con el objeto.\n",
    "\n",
    "\n",
    "\n"
   ]
  },
  {
   "cell_type": "code",
   "execution_count": null,
   "metadata": {},
   "outputs": [],
   "source": [
    "numero = 1\n",
    "class(numero)"
   ]
  },
  {
   "cell_type": "code",
   "execution_count": null,
   "metadata": {},
   "outputs": [],
   "source": [
    "typeof(1)"
   ]
  },
  {
   "cell_type": "code",
   "execution_count": null,
   "metadata": {},
   "outputs": [],
   "source": [
    "palabra = \"perico\"\n",
    "class(palabra)"
   ]
  },
  {
   "cell_type": "code",
   "execution_count": null,
   "metadata": {},
   "outputs": [],
   "source": [
    "typeof(palabra)"
   ]
  },
  {
   "cell_type": "code",
   "execution_count": null,
   "metadata": {},
   "outputs": [],
   "source": [
    "entero = 1L"
   ]
  },
  {
   "cell_type": "code",
   "execution_count": null,
   "metadata": {},
   "outputs": [],
   "source": [
    "class(entero)"
   ]
  },
  {
   "cell_type": "code",
   "execution_count": null,
   "metadata": {},
   "outputs": [],
   "source": [
    "typeof(entero)"
   ]
  },
  {
   "cell_type": "code",
   "execution_count": null,
   "metadata": {},
   "outputs": [],
   "source": [
    "class(TRUE)"
   ]
  },
  {
   "cell_type": "code",
   "execution_count": null,
   "metadata": {},
   "outputs": [],
   "source": [
    "typeof(TRUE)"
   ]
  },
  {
   "cell_type": "markdown",
   "metadata": {},
   "source": [
    "Es importante notar que estas funciones también pueden aplicarse a vectores."
   ]
  },
  {
   "cell_type": "code",
   "execution_count": null,
   "metadata": {},
   "outputs": [],
   "source": [
    "mi_vector = c(1,2,3)\n",
    "class(mi_vector)"
   ]
  },
  {
   "cell_type": "code",
   "execution_count": null,
   "metadata": {},
   "outputs": [],
   "source": [
    "typeof(mi_vector)"
   ]
  },
  {
   "cell_type": "markdown",
   "metadata": {},
   "source": [
    "### Funciones para testear clase de datos\n",
    "\n",
    "Como dijimos, **R** tiene toda una familia para preguntar si un dato es de una clase en específico: ``is.x()`` donde x puede ser numeric, character, logical (y otros)."
   ]
  },
  {
   "cell_type": "code",
   "execution_count": null,
   "metadata": {},
   "outputs": [],
   "source": [
    "is.numeric(1)"
   ]
  },
  {
   "cell_type": "code",
   "execution_count": null,
   "metadata": {},
   "outputs": [],
   "source": [
    "is.logical(FALSE)"
   ]
  },
  {
   "cell_type": "code",
   "execution_count": null,
   "metadata": {},
   "outputs": [],
   "source": [
    "is.character(\"1\")"
   ]
  },
  {
   "cell_type": "code",
   "execution_count": null,
   "metadata": {},
   "outputs": [],
   "source": [
    "is.numeric(mi_vector)"
   ]
  },
  {
   "cell_type": "code",
   "execution_count": null,
   "metadata": {},
   "outputs": [],
   "source": [
    "is.character(mi_vector)"
   ]
  },
  {
   "cell_type": "markdown",
   "metadata": {},
   "source": [
    "### Conversiones entre clases de datos\n",
    "\n",
    "A su vez, **R** cuenta con una familia de funciones para convertir de una clase de dato a otra: ``as.x()`` donde x puede ser character, numeric o logical (y otras)."
   ]
  },
  {
   "cell_type": "code",
   "execution_count": null,
   "metadata": {},
   "outputs": [],
   "source": [
    "mi_vector  <-  c(1,2,3)\n",
    "mi_vector_caracteres  <- as.character(mi_vector)"
   ]
  },
  {
   "cell_type": "code",
   "execution_count": null,
   "metadata": {},
   "outputs": [],
   "source": [
    "class(mi_vector_caracteres)"
   ]
  },
  {
   "cell_type": "markdown",
   "metadata": {},
   "source": [
    "Por supuesto, no todas la palabras se pueden convertir a números."
   ]
  },
  {
   "cell_type": "code",
   "execution_count": null,
   "metadata": {},
   "outputs": [],
   "source": [
    "as.numeric(\"2022\")"
   ]
  },
  {
   "cell_type": "code",
   "execution_count": null,
   "metadata": {},
   "outputs": [],
   "source": [
    "as.numeric(\"perico\")"
   ]
  },
  {
   "cell_type": "code",
   "execution_count": null,
   "metadata": {},
   "outputs": [],
   "source": [
    "as.logical(\"FALSE\")"
   ]
  },
  {
   "cell_type": "markdown",
   "metadata": {},
   "source": [
    "De nuevo, las funciones de conversión se pueden aplicar a vectores."
   ]
  },
  {
   "cell_type": "code",
   "execution_count": null,
   "metadata": {},
   "outputs": [],
   "source": [
    "(mi_vector_char  <- as.character(mi_vector))"
   ]
  },
  {
   "cell_type": "code",
   "execution_count": null,
   "metadata": {},
   "outputs": [],
   "source": [
    "(mis_pesos  <- c(71.2,78.5,\"No es un peso\",73.2))"
   ]
  },
  {
   "cell_type": "code",
   "execution_count": null,
   "metadata": {},
   "outputs": [],
   "source": [
    "(mis_pesos_num  <- as.numeric(mis_pesos))"
   ]
  },
  {
   "cell_type": "code",
   "execution_count": null,
   "metadata": {},
   "outputs": [],
   "source": [
    "mi_vector_logico  <- c(TRUE,TRUE,FALSE,TRUE,FALSE)\n",
    "as.numeric(mi_vector_logico)"
   ]
  },
  {
   "cell_type": "markdown",
   "metadata": {},
   "source": [
    "## Introducción a los factores\n",
    "\n",
    "Ya hemos estudiado datos de clase numérica, caracter y lógicos. Vamos a introducir otra clase llamada **factores**.\n",
    "\n",
    "Una variable de este tipo permite representar clasificaciones. Por ejemplo, los países se pueden clasificar por continentes; las personas por su sexo; etc.\n",
    "\n",
    "En general, los factores representan *variables ordinales*. Los diferentes niveles en que un factor se puede clasificar se conocen como *levels*."
   ]
  },
  {
   "cell_type": "code",
   "execution_count": null,
   "metadata": {},
   "outputs": [],
   "source": [
    "clasificaciones  <- c(\"América\",\"Europa\",\"Asia\",\"Africa\",\"Oceania\",\"Antartida\",\"América\",\"Asia\")"
   ]
  },
  {
   "cell_type": "markdown",
   "metadata": {},
   "source": [
    "Nota que hay repeticiones."
   ]
  },
  {
   "cell_type": "code",
   "execution_count": null,
   "metadata": {},
   "outputs": [],
   "source": [
    "factor(clasificaciones)"
   ]
  },
  {
   "cell_type": "code",
   "execution_count": null,
   "metadata": {},
   "outputs": [],
   "source": [
    "clasificaciones_factor  <- factor(clasificaciones)"
   ]
  },
  {
   "cell_type": "code",
   "execution_count": null,
   "metadata": {},
   "outputs": [],
   "source": [
    "class(clasificaciones_factor)"
   ]
  },
  {
   "cell_type": "code",
   "execution_count": null,
   "metadata": {},
   "outputs": [],
   "source": [
    "typeof(clasificaciones_factor)"
   ]
  },
  {
   "cell_type": "code",
   "execution_count": null,
   "metadata": {},
   "outputs": [],
   "source": [
    "as.numeric(clasificaciones_factor)"
   ]
  },
  {
   "cell_type": "markdown",
   "metadata": {},
   "source": [
    "Para conocer los diferentes niveles de una variable factor utilizamos ``levels()``."
   ]
  },
  {
   "cell_type": "code",
   "execution_count": null,
   "metadata": {},
   "outputs": [],
   "source": [
    "levels(clasificaciones_factor)"
   ]
  },
  {
   "cell_type": "markdown",
   "metadata": {},
   "source": [
    "Para conocer cuántos niveles diferentes tiene una variable factor utilizamos ``nlevels()``"
   ]
  },
  {
   "cell_type": "code",
   "execution_count": null,
   "metadata": {},
   "outputs": [],
   "source": [
    "nlevels(clasificaciones_factor)"
   ]
  },
  {
   "cell_type": "markdown",
   "metadata": {},
   "source": [
    "Como dijimos, las variables de tipo factor se pueden utilizar para realizar clasificaciones ordinales. En este sentido, debes saber que, por default, el orden que se toma es el orden alfabético."
   ]
  },
  {
   "cell_type": "code",
   "execution_count": null,
   "metadata": {},
   "outputs": [],
   "source": [
    "altitudes  <- c(\"media\",\"alta\",\"baja\",\"alta\",\"media\")\n",
    "factor(altitudes)"
   ]
  },
  {
   "cell_type": "markdown",
   "metadata": {},
   "source": [
    "No obstante, este orden puede ser cambiado utilizando los parámetros ``order`` y ``levels``"
   ]
  },
  {
   "cell_type": "code",
   "execution_count": null,
   "metadata": {},
   "outputs": [],
   "source": [
    "factor(altitudes, order = TRUE, levels = c(\"baja\",\"media\",\"alta\"))"
   ]
  },
  {
   "cell_type": "code",
   "execution_count": null,
   "metadata": {},
   "outputs": [],
   "source": [
    "altitudes_factor  <- factor(altitudes, order = TRUE, levels = c(\"baja\",\"media\",\"alta\"))\n",
    "as.numeric(altitudes_factor)"
   ]
  }
 ],
 "metadata": {
  "kernelspec": {
   "display_name": "R",
   "language": "R",
   "name": "ir"
  },
  "language_info": {
   "codemirror_mode": "r",
   "file_extension": ".r",
   "mimetype": "text/x-r-source",
   "name": "R",
   "pygments_lexer": "r",
   "version": "3.6.1"
  }
 },
 "nbformat": 4,
 "nbformat_minor": 4
}
