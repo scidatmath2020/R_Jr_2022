{
 "cells": [
  {
   "cell_type": "markdown",
   "metadata": {},
   "source": [
    "<img src=\"logo.png\">"
   ]
  },
  {
   "cell_type": "markdown",
   "metadata": {},
   "source": [
    "# Control de flujo FOR\n",
    "\n",
    "En **R** contamos con la función ``for( )`` para realizar una bloque de código tantas veces como se indique en su argumento. Los objetos de tipo iterable (es decir, que se pueden recorrer) son los vectores y las listas. Como regla general, un ``for() `` se aplica cuando sabes cuántas veces quieres que se ejecute una instrucción. \n",
    "\n",
    "La sintaxis es la siguiente:\n",
    "\n",
    "``\n",
    "<flujo principal>\n",
    "for(i in objeto iterable){\n",
    "    bloque de código\n",
    "    bloque de código\n",
    "    ...\n",
    "}\n",
    "<flujo principal>\n",
    "``"
   ]
  },
  {
   "cell_type": "code",
   "execution_count": null,
   "metadata": {},
   "outputs": [],
   "source": [
    "# Se define el factorial de n como 1 si n=0 y 1*2*3*...*n si n>=1.\n",
    "# Programar el factorial de n\n",
    "\n",
    "n = 1\n",
    "fact = 1\n",
    "if(n>0){\n",
    "    for(i in c(1:n)){\n",
    "        fact = fact * i\n",
    "    }\n",
    "}\n",
    "\n",
    "fact\n"
   ]
  },
  {
   "cell_type": "code",
   "execution_count": null,
   "metadata": {},
   "outputs": [],
   "source": [
    "# Un entero positivo es primo si tiene exactamente 2 divisores positivos.\n",
    "# Hacer una función que reciba un entero positivo y diga cuáles son sus divisores y si es primo o no.\n",
    "\n",
    "es_primo  <- function(n){\n",
    "    divisores = c()\n",
    "    for(i in c(1:n)){\n",
    "        if(n%%i == 0){\n",
    "            divisores = c(divisores, i)\n",
    "        }\n",
    "    }\n",
    "    cantidad_divisores = length(divisores)\n",
    "    if(cantidad_divisores == 2){\n",
    "        primo = TRUE\n",
    "    } else{\n",
    "        primo = FALSE\n",
    "    }\n",
    "    return(list(divisores,primo))\n",
    "}\n"
   ]
  },
  {
   "cell_type": "code",
   "execution_count": null,
   "metadata": {},
   "outputs": [],
   "source": [
    "es_primo(1)"
   ]
  },
  {
   "cell_type": "code",
   "execution_count": null,
   "metadata": {},
   "outputs": [],
   "source": [
    "# Una función que reciba un dataframe con columnas numéricas; calcule la suma de los elementos de cada columna y devuelva\n",
    "# el valor porcentual de cada dato respecto de la suma de la columna a la que pertenece. los nombres de las nuevas columnas\n",
    "# deben ser iguales a los de las antiguas con el sufijo \"relativo\"; el orden de aparición de las columnas debe ser intercalando\n",
    "# cada columna de valores con su columna relativa y dejar una columna vacía\n",
    "set.seed(2022)\n",
    "mi_data  <- data.frame(Absoluto_1 = sample(40:80,8,replace = FALSE),\n",
    "                      Absoluto_2 = sample(40:80,8,replace = FALSE),\n",
    "                      Absoluto_3 = sample(40:80,8,replace = FALSE),\n",
    "                      Absoluto_4 = sample(40:80,8,replace = FALSE))\n",
    "\n",
    "mi_data"
   ]
  },
  {
   "cell_type": "code",
   "execution_count": null,
   "metadata": {},
   "outputs": [],
   "source": [
    "nuevo_data  <- function(mi_data){\n",
    "    totals <- colSums(mi_data)\n",
    "    mi_data <- rbind(mi_data,totals)\n",
    "    n_col  <- ncol(mi_data)\n",
    "    for(i in 1:n_col){\n",
    "        mi_data[,i+n_col] = mi_data[,i]*100/mi_data[nrow(mi_data),i]\n",
    "    }\n",
    "    \n",
    "    colnames(mi_data)[(n_col+1):(2*n_col)] <- paste0(\"Relativo_\",c(1:n_col))\n",
    "    mis_columnas <- list()\n",
    "    \n",
    "    for(i in 1:n_col){\n",
    "        mis_columnas[[i]] <- cbind(mi_data[,c(i,n_col+i)],NA)        \n",
    "    }\n",
    "    resultado  <- do.call(cbind,mis_columnas)\n",
    "    return(resultado[,-ncol(resultado)])    \n",
    "}\n",
    "\n",
    "nuevo_data(mi_data)"
   ]
  }
 ],
 "metadata": {
  "kernelspec": {
   "display_name": "R",
   "language": "R",
   "name": "ir"
  },
  "language_info": {
   "codemirror_mode": "r",
   "file_extension": ".r",
   "mimetype": "text/x-r-source",
   "name": "R",
   "pygments_lexer": "r",
   "version": "3.6.1"
  }
 },
 "nbformat": 4,
 "nbformat_minor": 4
}
