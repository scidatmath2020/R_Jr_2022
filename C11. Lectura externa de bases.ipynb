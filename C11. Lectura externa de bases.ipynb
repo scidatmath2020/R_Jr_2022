{
 "cells": [
  {
   "cell_type": "markdown",
   "metadata": {},
   "source": [
    "<img src=\"logo.png\">"
   ]
  },
  {
   "cell_type": "markdown",
   "metadata": {},
   "source": [
    "# Lectura externa.\n",
    "\n",
    "Hasta ahora hemos trabajado únicamente con un dataframe que venía instalado en el propio **R**. Obviamente este no es el caso general. Necesitamos aprender una manera para leer archivos foráneos de **R**.\n",
    "\n",
    "En este capítulo veremos cómo leer archivos de tipo csv y de Excel.\n",
    "\n",
    "## El directorio de trabajo\n",
    "\n",
    "El *directorio de trabajo* se refiere a dónde está situada tu sesión actual de **R**. \n",
    "\n",
    "Para conocer dónde estás situada tu sesión en este momento, simplemente escribimos ``getwd()``"
   ]
  },
  {
   "cell_type": "code",
   "execution_count": null,
   "metadata": {},
   "outputs": [],
   "source": [
    "getwd()"
   ]
  },
  {
   "cell_type": "markdown",
   "metadata": {},
   "source": [
    "Para situarnos en un directorio en particular, utilizamos ``setwd()`` donde el argumento de esta función es la dirección del directorio donde te quieres situar. Es importante que sepas que la diagonal \\ debe escribirse siempre como diagonal doble o como diagonal invertida. Todo el argumento se debe escribir entre comillas"
   ]
  },
  {
   "cell_type": "code",
   "execution_count": null,
   "metadata": {},
   "outputs": [],
   "source": [
    "setwd(\"C:\\\\Users\\\\hp master\\\\OneDrive\\\\Escritorio\\\\r_jr_2022\")"
   ]
  },
  {
   "cell_type": "code",
   "execution_count": null,
   "metadata": {},
   "outputs": [],
   "source": [
    "getwd()"
   ]
  },
  {
   "cell_type": "markdown",
   "metadata": {},
   "source": [
    "La función ``dir()`` nos indica qué archivos (de cualquier tipo) se encuentran en el actual directorio de trabajo."
   ]
  },
  {
   "cell_type": "code",
   "execution_count": null,
   "metadata": {},
   "outputs": [],
   "source": [
    "dir()"
   ]
  },
  {
   "cell_type": "markdown",
   "metadata": {},
   "source": [
    "### Rutas relativas\n",
    "\n",
    "El comando ``setwd()`` permite, mediante argumentos especiales, movernos entre niveles de los directorios de trabajo."
   ]
  },
  {
   "cell_type": "code",
   "execution_count": null,
   "metadata": {},
   "outputs": [],
   "source": [
    "getwd()"
   ]
  },
  {
   "cell_type": "code",
   "execution_count": null,
   "metadata": {},
   "outputs": [],
   "source": [
    "# Sube un nivel\n",
    "setwd(\"../\")\n",
    "getwd()"
   ]
  },
  {
   "cell_type": "code",
   "execution_count": null,
   "metadata": {},
   "outputs": [],
   "source": [
    "# Baja al nivel indicado\n",
    "setwd(\"./r_jr_2022\")\n",
    "getwd()"
   ]
  },
  {
   "cell_type": "markdown",
   "metadata": {},
   "source": [
    "## Guardado de objetos\n",
    "\n",
    "En **R**, el guardado de objetos se refiere a guardar objetos que creaste/modificaste durante tu sesión. Dicho de otra manera, permite guardar los objetos que tienes en ese momento en el environment.\n",
    "\n",
    "``save(list = c(\"nombre del objeto 1\", \"nombre del objeto 2\",...),\n",
    "     file = \"como quieres que se llame.RData\")\n",
    "``\n",
    "\n",
    "Aquí, en ``file`` puedes poner el nombre con el que se guardará el \"paquete de objetos\" e incluso el directorio de trabajo donde quieres guardar el paquete.\n",
    "\n",
    "incluso con ``save.image()``, sin ningún argumento, guardas todos los objetos del environment en el directorio de trabajo actual."
   ]
  },
  {
   "cell_type": "markdown",
   "metadata": {},
   "source": [
    "## Cargado de objetos \n",
    "\n",
    "Como pudiste ver, cuando guardas objetos de **R** en tu carpeta de trabajo, se guardan como archivos con extensión **.RData**. Para leer este tipo de archivos simplemente utilizamos ``load()``.\n",
    "\n",
    "``load(file = \"nombre del archivo.RData\")``\n",
    "\n",
    "donde ``file`` puede contener incluso el nombre de un directorio de trabajo."
   ]
  },
  {
   "cell_type": "markdown",
   "metadata": {},
   "source": [
    "## Archivos csv (valores separados por coma)\n",
    "\n",
    "El formato csv es un formato para tablas universal, en el sentido de que cualquier sistema operativo lo puede leer. Se trata de un formato especial para guardar documentos que ofrece la ventaja de ser muy ligero, por lo cual es generalmente el preferido para guardar tablas y poder ser leídas por cualquier lenguaje de programación usual: Excel, SQL, R y Python.\n",
    "\n",
    "En **R**, la lectura, de manera básica, se realiza con el comando ``read.csv()``, en tanto que el guardado de dataframes como csv se realiza con ``write.csv()``"
   ]
  },
  {
   "cell_type": "markdown",
   "metadata": {},
   "source": [
    "``\n",
    "read.csv(file = \"nombre del archivo (puede incluir ubicación).csv\",\n",
    "header = TRUE,\n",
    "sep = \",\")``\n",
    "\n",
    "donde ``header`` indica si las columnas del archivo tienen nombre y ``sep`` es cómo se separan los datos en cada registro. Si ``sep=\"\"`` se toma como separador los espacios en blanco."
   ]
  },
  {
   "cell_type": "code",
   "execution_count": null,
   "metadata": {},
   "outputs": [],
   "source": [
    "# Es importante asignar un nombre a la tabla leída. El resultado es un dataframe\n",
    "\n",
    "temperaturas  <- read.csv(\"C:\\\\Users\\\\hp master\\\\OneDrive\\\\Escritorio\\\\r_jr_2022\\\\NYC temperature data.csv\")"
   ]
  },
  {
   "cell_type": "code",
   "execution_count": null,
   "metadata": {},
   "outputs": [],
   "source": [
    "class(temperaturas)"
   ]
  },
  {
   "cell_type": "markdown",
   "metadata": {},
   "source": [
    "Inversamente, supongamos que tienes un dataframe llamado ``mi_data`` y lo quieres guardar como un archivo csv. \n",
    "\n",
    "``write.csv(mi_data,\"nombre con el que lo quieres guardar.csv\", row.names = TRUE, col.names = TRUE)``\n",
    "\n",
    "donde ``row.names`` y ``col.names`` controlan si quieres o no que se guarden los nombres de filas y columnas.\n"
   ]
  },
  {
   "cell_type": "code",
   "execution_count": null,
   "metadata": {},
   "outputs": [],
   "source": [
    "mi_data  <- data.frame(colores = c(\"Azul\",\"Rojo\",\"Verde\"), cantidad = c(1,NA,2))\n",
    "write.csv(mi_data,\"mis_colores.csv\")"
   ]
  },
  {
   "cell_type": "markdown",
   "metadata": {},
   "source": [
    "## Archivos de Excel\n",
    "\n",
    "Adicionalmente, también podemos trabajar con archivos creados en Excel. \n",
    "\n",
    "Para ello, se requiere la paquetería ``readxl`` y la función ``read_excel``. Así, supongamos que tienes el archivo **mi_excel.xlsx** y lo quieres leer. Entonces, por ejemplo \n",
    "\n",
    "``mi_excel <- read_excel(\"mi_excel.xlsx\",sheet = 2)``\n",
    "\n",
    "leerá la segunda página del archivo. El número de página se controla con el parámetro ``sheet``.\n",
    "\n",
    "El objeto leído será, entre otras cosas, un dataframe."
   ]
  }
 ],
 "metadata": {
  "kernelspec": {
   "display_name": "R",
   "language": "R",
   "name": "ir"
  },
  "language_info": {
   "codemirror_mode": "r",
   "file_extension": ".r",
   "mimetype": "text/x-r-source",
   "name": "R",
   "pygments_lexer": "r",
   "version": "3.6.1"
  }
 },
 "nbformat": 4,
 "nbformat_minor": 4
}
