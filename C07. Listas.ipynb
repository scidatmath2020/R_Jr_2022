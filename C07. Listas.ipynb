{
 "cells": [
  {
   "cell_type": "markdown",
   "metadata": {},
   "source": [
    "<img src=\"logo.png\">"
   ]
  },
  {
   "cell_type": "markdown",
   "metadata": {},
   "source": [
    "# Listas\n",
    "\n",
    "Las listas en **R** son objetos con una gran flexibilidad. Se trata de *conjuntos ordenados* (es decir, hay un primer elemento, un segundo elemento, etcétera) de una sola dimensión (es decir, tienen longitud) con la particularidad de que sus elementos pueden ser cualquier tipo de objetos; incluso, otras listas."
   ]
  },
  {
   "cell_type": "markdown",
   "metadata": {},
   "source": [
    "## Creación de listas\n",
    "\n",
    "Para crear listas en **R**, utilizamos la función ``list()``. Es muy parecido a crear vectores, pero con la gran diferencia de que los elementos de la lista pueden ser de cualquier tipo."
   ]
  },
  {
   "cell_type": "code",
   "execution_count": null,
   "metadata": {},
   "outputs": [],
   "source": [
    "lista_ejemplo  <- list(1,2,\"3\")"
   ]
  },
  {
   "cell_type": "code",
   "execution_count": null,
   "metadata": {},
   "outputs": [],
   "source": [
    "class(lista_ejemplo)"
   ]
  },
  {
   "cell_type": "code",
   "execution_count": null,
   "metadata": {},
   "outputs": [],
   "source": [
    "typeof(lista_ejemplo)"
   ]
  },
  {
   "cell_type": "markdown",
   "metadata": {},
   "source": [
    "Así, puedes pensar que una lista es una caja muy grande donde vas a guardar tus objetos de manera ordenada."
   ]
  },
  {
   "cell_type": "code",
   "execution_count": null,
   "metadata": {},
   "outputs": [],
   "source": [
    "mi_lista  <- list(c(1,2,3),\n",
    "                 array(data = 1:4, dim = c(2,2)),\n",
    "                 TRUE)"
   ]
  },
  {
   "cell_type": "markdown",
   "metadata": {},
   "source": [
    "De manera similar a los vectores, las listas tienen propiedad de nombres. Para accesar a los nombres (o modificarlos) lo podemos hacer desde la creación de la lista o con la función ``names()``."
   ]
  },
  {
   "cell_type": "code",
   "execution_count": null,
   "metadata": {},
   "outputs": [],
   "source": [
    "mi_lista <- list(mi_vector = c(1,2,3),\n",
    "                 mi_array = array(data = 1:4, dim = c(2,2)),\n",
    "                 mi_booleano = TRUE)"
   ]
  },
  {
   "cell_type": "code",
   "execution_count": null,
   "metadata": {},
   "outputs": [],
   "source": [
    "names(mi_lista)"
   ]
  },
  {
   "cell_type": "code",
   "execution_count": null,
   "metadata": {},
   "outputs": [],
   "source": [
    "names(mi_lista)[3] = \"mi_logico\""
   ]
  },
  {
   "cell_type": "code",
   "execution_count": null,
   "metadata": {},
   "outputs": [],
   "source": [
    "names(mi_lista)"
   ]
  },
  {
   "cell_type": "markdown",
   "metadata": {},
   "source": [
    "Es interesante notar que no todos los elementos de las listas deben tener nombre."
   ]
  },
  {
   "cell_type": "code",
   "execution_count": null,
   "metadata": {},
   "outputs": [],
   "source": [
    "lista_nombres <- list(c(1,2,3), letra_a = \"a\", TRUE )"
   ]
  },
  {
   "cell_type": "code",
   "execution_count": null,
   "metadata": {},
   "outputs": [],
   "source": [
    "lista_nombres"
   ]
  },
  {
   "cell_type": "code",
   "execution_count": null,
   "metadata": {},
   "outputs": [],
   "source": [
    "names(lista_nombres)"
   ]
  },
  {
   "cell_type": "markdown",
   "metadata": {},
   "source": [
    "Como las listas son unidimensionales (aunque puede tener elementos multidimensionales), se les puede aplicar la función ``length()`` para saber cuántos elementos tiene."
   ]
  },
  {
   "cell_type": "code",
   "execution_count": null,
   "metadata": {},
   "outputs": [],
   "source": [
    "length(mi_lista)"
   ]
  },
  {
   "cell_type": "markdown",
   "metadata": {},
   "source": [
    "También podemos ver su estructura con ``str()``"
   ]
  },
  {
   "cell_type": "code",
   "execution_count": null,
   "metadata": {},
   "outputs": [],
   "source": [
    "str(mi_lista)"
   ]
  },
  {
   "cell_type": "markdown",
   "metadata": {},
   "source": [
    "## Indexado de listas\n",
    "\n",
    "Como las listas son objetos unidimensionales, el indexado solo requiere un parámetro.\n",
    "\n",
    "Hasta este momento, hemos trabajado con *corchetes simples* para hacer los indexados numéricos. Por ejemplo, ``mi_vector[1]`` me da el valor de la primer posición del objeto ``mi_vector``; ``mi_array[1,3,2]`` de la el elemento de la primer fila, tercer columna y segunda capa del objeto ``mi_array``; ``mi_dataframe[2,3]`` me da el elemento de la segunda fila y tercera columna del objeto ``mi_dataframe``.\n",
    "\n",
    "En las listas tenemos *dos niveles* de indexado, llamados **nivel del objeto subyacente** y **nivel de lista**.\n",
    "\n",
    "El nivel del objeto subyacente se refiere al indexado que nos permite **entrar al objeto al cual hace referencia el índice**. Este nivel se especifica con corchetes dobles ``[[  ]]``.\n",
    "\n",
    "El nivel de lista se refiere al indexado que nos permite **saber qué hay en la posición, a la cual hace referencia el índice, dentro de la lista**. Este nivel se especifica con corchetes simples ``[  ]``.\n",
    "\n"
   ]
  },
  {
   "cell_type": "code",
   "execution_count": null,
   "metadata": {},
   "outputs": [],
   "source": [
    "mi_lista[[2]]"
   ]
  },
  {
   "cell_type": "code",
   "execution_count": null,
   "metadata": {},
   "outputs": [],
   "source": [
    "class(mi_lista[[2]])"
   ]
  },
  {
   "cell_type": "code",
   "execution_count": null,
   "metadata": {},
   "outputs": [],
   "source": [
    "mi_lista[2]"
   ]
  },
  {
   "cell_type": "code",
   "execution_count": null,
   "metadata": {},
   "outputs": [],
   "source": [
    "class(mi_lista[2])"
   ]
  },
  {
   "cell_type": "markdown",
   "metadata": {},
   "source": [
    "Te preguntarás por qué existen dos niveles de indexado en las listas. Esto se debe a que las listas aceptan diferentes tipos de objetos en sus entradas.\n",
    "\n",
    "De esta manera, por ejemplo, si quieres obtener los elementos 2 y 3 de una lista, entonces estás en el nivel de lista y por lo tanto indexas con corchetes simples: ``mi_lista[c(2,3)]``.\n",
    "\n",
    "En cambio, si quieres entrar al segundo objeto de una lista por cualquier razón, debes usar doble corchete. Por ejemplo, el segundo elemento de ``mi_lista`` es un array de dos filas y dos columnas, así que para mostrar la segunda fila de este array hacemos ``mi_lista[[2]][2,]``\n",
    "\n",
    "De hecho, técnicamente ``mi_lista[2]`` vuelve a ser una lista (aquella formada por un solo elemento) en tanto que ``mi_lista[[2]]`` es un array."
   ]
  },
  {
   "cell_type": "markdown",
   "metadata": {},
   "source": [
    "Por otra parte, al igual que con los dataframes, podemos utilizar los nombres de los elementos de la lista para accesar a ellos, ya sea con ``[ ]`` para el nivel de listas, o ``[[ ]]`` o con ``$`` para el nivel de objeto subyacente."
   ]
  },
  {
   "cell_type": "code",
   "execution_count": null,
   "metadata": {},
   "outputs": [],
   "source": [
    "mi_lista[\"mi_vector\"]"
   ]
  },
  {
   "cell_type": "code",
   "execution_count": null,
   "metadata": {},
   "outputs": [],
   "source": [
    "mi_lista[[\"mi_vector\"]]"
   ]
  },
  {
   "cell_type": "code",
   "execution_count": null,
   "metadata": {},
   "outputs": [],
   "source": [
    "mi_lista$mi_vector"
   ]
  },
  {
   "cell_type": "markdown",
   "metadata": {},
   "source": [
    "## Modificación de listas\n",
    "\n",
    "Tomemos la siguiente lista: ``ejemplo_lista  <- list(c(\"a\",\"b\",\"c\"),array(1:10,dim=c(2,5)))``"
   ]
  },
  {
   "cell_type": "code",
   "execution_count": null,
   "metadata": {},
   "outputs": [],
   "source": [
    "ejemplo_lista  <- list(c(\"a\",\"b\",\"c\"),array(1:10,dim=c(2,5)))"
   ]
  },
  {
   "cell_type": "markdown",
   "metadata": {},
   "source": [
    "Para añadir elementos a una lista, utilizamos el nivel de objeto subyacente simplemente indexando por la posición que queremos aumentar."
   ]
  },
  {
   "cell_type": "code",
   "execution_count": null,
   "metadata": {},
   "outputs": [],
   "source": [
    "ejemplo_lista[[5]]  <- c(1,2,3)"
   ]
  },
  {
   "cell_type": "code",
   "execution_count": null,
   "metadata": {},
   "outputs": [],
   "source": [
    "ejemplo_lista"
   ]
  },
  {
   "cell_type": "markdown",
   "metadata": {},
   "source": [
    "Para cambiar todo un elemento de la lista, nuevamente utilizamos el nivel de objeto subyacente"
   ]
  },
  {
   "cell_type": "code",
   "execution_count": null,
   "metadata": {},
   "outputs": [],
   "source": [
    "# Cambiar el elemento 5 de la lista ejemplo_lista por un FALSE\n",
    "ejemplo_lista[[5]] <- TRUE\n",
    "ejemplo_lista"
   ]
  },
  {
   "cell_type": "markdown",
   "metadata": {},
   "source": [
    "## Eliminado de elementos de una lista\n",
    "\n",
    "El eliminado de elementos de una lista se puede hacer, por ejemplo con ``NULL``. Una de las ventajas de este método es que no hace diferencia entre el uso de ``[ ]``, ``[[ ]]`` y ``$``."
   ]
  },
  {
   "cell_type": "code",
   "execution_count": null,
   "metadata": {},
   "outputs": [],
   "source": [
    "ejemplo_lista  <- list(c(\"a\",\"b\",\"c\"),array(1:10,dim=c(2,5)),TRUE)\n",
    "ejemplo_lista"
   ]
  },
  {
   "cell_type": "code",
   "execution_count": null,
   "metadata": {},
   "outputs": [],
   "source": [
    "ejemplo_lista[2] <- NULL\n",
    "ejemplo_lista"
   ]
  },
  {
   "cell_type": "code",
   "execution_count": null,
   "metadata": {},
   "outputs": [],
   "source": [
    "ejemplo_lista[[2]]  <- NULL\n",
    "ejemplo_lista"
   ]
  },
  {
   "cell_type": "code",
   "execution_count": null,
   "metadata": {},
   "outputs": [],
   "source": [
    "mi_lista <- list(mi_vector = c(1,2,3),\n",
    "                 mi_array = array(data = 1:4, dim = c(2,2)),\n",
    "                 mi_booleano = TRUE)"
   ]
  },
  {
   "cell_type": "code",
   "execution_count": null,
   "metadata": {},
   "outputs": [],
   "source": [
    "mi_lista[[\"mi_array\"]] <- NULL\n",
    "mi_lista"
   ]
  },
  {
   "cell_type": "code",
   "execution_count": null,
   "metadata": {},
   "outputs": [],
   "source": [
    "mi_lista[\"mi_array\"]  <- NULL\n",
    "mi_lista"
   ]
  },
  {
   "cell_type": "code",
   "execution_count": null,
   "metadata": {},
   "outputs": [],
   "source": [
    "mi_lista$mi_array <- NULL\n",
    "mi_lista"
   ]
  },
  {
   "cell_type": "code",
   "execution_count": null,
   "metadata": {},
   "outputs": [],
   "source": [
    "mi_lista[c(1,3)]  <- NULL\n",
    "mi_lista"
   ]
  },
  {
   "cell_type": "code",
   "execution_count": null,
   "metadata": {},
   "outputs": [],
   "source": [
    "mi_lista[-c(1,3)]"
   ]
  },
  {
   "cell_type": "markdown",
   "metadata": {},
   "source": [
    "## Combinación de listas\n",
    "\n",
    "Tomemos dos listas: ``lista1 <- list(c(1,2),\"A\")`` y ``lista2 <- list(c(10,11),matrix(1:10,nrow=5,ncol=2))``"
   ]
  },
  {
   "cell_type": "code",
   "execution_count": null,
   "metadata": {},
   "outputs": [],
   "source": [
    "lista1 <- list(c(1,2),\"A\")\n",
    "lista2 <- list(\"l1\" = c(10,11),matrix(1:10,nrow=5,ncol=2))"
   ]
  },
  {
   "cell_type": "code",
   "execution_count": null,
   "metadata": {},
   "outputs": [],
   "source": [
    "lista1"
   ]
  },
  {
   "cell_type": "code",
   "execution_count": null,
   "metadata": {},
   "outputs": [],
   "source": [
    "lista2"
   ]
  },
  {
   "cell_type": "markdown",
   "metadata": {},
   "source": [
    "Para combinarlas y obtener una lista de 4 elementos, utilizamos el operador de concatenación: ``c()``"
   ]
  },
  {
   "cell_type": "code",
   "execution_count": null,
   "metadata": {},
   "outputs": [],
   "source": [
    "c(lista1,lista2)"
   ]
  },
  {
   "cell_type": "code",
   "execution_count": null,
   "metadata": {},
   "outputs": [],
   "source": [
    "class(c(lista1,lista2))"
   ]
  }
 ],
 "metadata": {
  "kernelspec": {
   "display_name": "R",
   "language": "R",
   "name": "ir"
  },
  "language_info": {
   "codemirror_mode": "r",
   "file_extension": ".r",
   "mimetype": "text/x-r-source",
   "name": "R",
   "pygments_lexer": "r",
   "version": "3.6.1"
  }
 },
 "nbformat": 4,
 "nbformat_minor": 4
}
