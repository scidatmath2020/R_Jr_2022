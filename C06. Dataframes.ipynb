{
 "cells": [
  {
   "cell_type": "markdown",
   "metadata": {},
   "source": [
    "<img src=\"logo.png\">"
   ]
  },
  {
   "cell_type": "markdown",
   "metadata": {},
   "source": [
    "# Dataframes\n",
    "\n",
    "Pasamos ahora a estudiar los objetos, probablemente, mas importantes de todo **R**. Los dataframes (cuadros de datos). Un data frame es, como su nombre lo indica, un arreglo rectangular de datos. Sirven para concentrar información de fenómenos naturales, encuestas, experimentos, etc.\n",
    "\n",
    "Hasta ahora, ya sabemos que todos los elementos de un vector y de un array (en particular, todos los elementos de una matriz) deben ser del mismo tipo. Como los dataframes deben almacenar información muy variada en sus columnas, su principal diferencia respecto de las matrices **es que cada columna del data frame debe tener el mismo tipo de datos, pero el tipo de datos puede variar de columna a columna**.\n",
    "\n"
   ]
  },
  {
   "cell_type": "markdown",
   "metadata": {},
   "source": [
    "## Creación de dataframes\n",
    "\n",
    "Para crear un dataframe, utilizamos la función ``data.frame()``. Esta función tiene una sintaxis muy diferente a los arrays. En los dataframes, uno da explícitamente cada columna con su nombre (ojo: **nunca uses espacios en los nombres de las columnas de un dataframe**)"
   ]
  },
  {
   "cell_type": "code",
   "execution_count": null,
   "metadata": {},
   "outputs": [],
   "source": [
    "mi_dataframe  <- data.frame(pais = c(\"Portugal\",\"Luxemburgo\",\"España\"),\n",
    "                            poblacion = c(1029898,716122,878971),\n",
    "                            playa = c(TRUE,FALSE,TRUE))"
   ]
  },
  {
   "cell_type": "code",
   "execution_count": null,
   "metadata": {},
   "outputs": [],
   "source": [
    "mi_dataframe"
   ]
  },
  {
   "cell_type": "markdown",
   "metadata": {},
   "source": [
    "Por la manera en que los dataframes se construyen, es necesario que todas las columnas tengan la misma longitud."
   ]
  },
  {
   "cell_type": "markdown",
   "metadata": {},
   "source": [
    "La función ``str()`` nos permite ver cómo está estructurado un dataframe"
   ]
  },
  {
   "cell_type": "code",
   "execution_count": null,
   "metadata": {},
   "outputs": [],
   "source": [
    "str(mi_dataframe)"
   ]
  },
  {
   "cell_type": "markdown",
   "metadata": {},
   "source": [
    "Como puedes observar, la columna **pais** es un vector de tipo factor. Los dataframes en **R** convierten las variables de tipo caracter a factores. Si no quieres que haga eso, añade el parámetro ``stringsAsFactors = FALSE`` en la definición del dataframe."
   ]
  },
  {
   "cell_type": "code",
   "execution_count": null,
   "metadata": {},
   "outputs": [],
   "source": [
    "mi_dataframe  <- data.frame(pais = c(\"Portugal\",\"Luxemburgo\",\"España\"),\n",
    "                            poblacion = c(1029898,716122,878971),\n",
    "                            playa = c(TRUE,FALSE,TRUE),\n",
    "                           stringsAsFactors = FALSE)"
   ]
  },
  {
   "cell_type": "code",
   "execution_count": null,
   "metadata": {},
   "outputs": [],
   "source": [
    "str(mi_dataframe)"
   ]
  },
  {
   "cell_type": "markdown",
   "metadata": {},
   "source": [
    "Otra propiedad importante que tienen los dataframes es que las filas también pueden tener un nombre. Para dar nombres a las filas podemos hacerlo desde la creación del dataframe con el comando ``row.names()``, o con la función ``row.names()``"
   ]
  },
  {
   "cell_type": "code",
   "execution_count": null,
   "metadata": {},
   "outputs": [],
   "source": [
    "row.names(mi_dataframe)"
   ]
  },
  {
   "cell_type": "code",
   "execution_count": null,
   "metadata": {},
   "outputs": [],
   "source": [
    "row.names(mi_dataframe) <- c(\"A\",\"B\",\"C\")"
   ]
  },
  {
   "cell_type": "code",
   "execution_count": null,
   "metadata": {},
   "outputs": [],
   "source": [
    "mi_dataframe"
   ]
  },
  {
   "cell_type": "code",
   "execution_count": null,
   "metadata": {},
   "outputs": [],
   "source": [
    "mi_dataframe  <- data.frame(pais = c(\"Portugal\",\"Luxemburgo\",\"España\"),\n",
    "                            poblacion = c(1029898,716122,878971),\n",
    "                            playa = c(TRUE,FALSE,TRUE),\n",
    "                            row.names = c(\"U\",\"V\",\"W\"),\n",
    "                            stringsAsFactors = FALSE)"
   ]
  },
  {
   "cell_type": "code",
   "execution_count": null,
   "metadata": {},
   "outputs": [],
   "source": [
    "mi_dataframe"
   ]
  },
  {
   "cell_type": "markdown",
   "metadata": {},
   "source": [
    "## Indexado y modificado de un dataframe\n",
    "\n",
    "El indexado de un dataframe es muy parecido al de matrices. No obstante, también se puede utilizar el operador ``$`` para mandar a llamar sus columnas (una a la vez)"
   ]
  },
  {
   "cell_type": "code",
   "execution_count": null,
   "metadata": {},
   "outputs": [],
   "source": [
    "mi_dataframe$pais"
   ]
  },
  {
   "cell_type": "code",
   "execution_count": null,
   "metadata": {},
   "outputs": [],
   "source": [
    "mi_dataframe[,1]"
   ]
  },
  {
   "cell_type": "code",
   "execution_count": null,
   "metadata": {},
   "outputs": [],
   "source": [
    "mi_dataframe[c(\"U\",\"W\"),]"
   ]
  },
  {
   "cell_type": "code",
   "execution_count": null,
   "metadata": {},
   "outputs": [],
   "source": [
    "# Cambiar la población de Portugal a 100000\n",
    "mi_dataframe[1,2]  <- 100000"
   ]
  },
  {
   "cell_type": "code",
   "execution_count": null,
   "metadata": {},
   "outputs": [],
   "source": [
    "mi_dataframe"
   ]
  },
  {
   "cell_type": "markdown",
   "metadata": {},
   "source": [
    "## Expansión de dataframes\n",
    "\n",
    "Hemos visto que con las matrices podemos utilizar las funciones ``cbind`` y ``rbind`` para combinarlas horizontal y verticalmente. Con dataframes también se pueden utilizar **con las debidas precauciones**. \n",
    "\n"
   ]
  },
  {
   "cell_type": "code",
   "execution_count": null,
   "metadata": {},
   "outputs": [],
   "source": [
    "otro_dataframe <- data.frame(c(\"Francia\",\"Alemania\"),c(231213,87623),c(TRUE,TRUE))"
   ]
  },
  {
   "cell_type": "code",
   "execution_count": null,
   "metadata": {},
   "outputs": [],
   "source": [
    "otro_dataframe"
   ]
  },
  {
   "cell_type": "code",
   "execution_count": null,
   "metadata": {},
   "outputs": [],
   "source": [
    "rbind(mi_dataframe,otro_dataframe)"
   ]
  },
  {
   "cell_type": "markdown",
   "metadata": {},
   "source": [
    "Como pudo observarse, al utilizar ``rbind`` es importante que ambos dataframes tengan los mismos nombres de columnas. Una manera de asegurarse de esto es cambiando los nombres del segundo dataframe."
   ]
  },
  {
   "cell_type": "code",
   "execution_count": null,
   "metadata": {},
   "outputs": [],
   "source": [
    "colnames(otro_dataframe)"
   ]
  },
  {
   "cell_type": "code",
   "execution_count": null,
   "metadata": {},
   "outputs": [],
   "source": [
    "colnames(otro_dataframe) <- colnames(mi_dataframe)"
   ]
  },
  {
   "cell_type": "code",
   "execution_count": null,
   "metadata": {},
   "outputs": [],
   "source": [
    "colnames(otro_dataframe)"
   ]
  },
  {
   "cell_type": "code",
   "execution_count": null,
   "metadata": {},
   "outputs": [],
   "source": [
    "rbind(mi_dataframe,otro_dataframe)"
   ]
  },
  {
   "cell_type": "markdown",
   "metadata": {},
   "source": [
    "Con ``cbind`` este problema no se presenta."
   ]
  },
  {
   "cell_type": "code",
   "execution_count": null,
   "metadata": {},
   "outputs": [],
   "source": [
    "extra  <- data.frame(capital = c(\"Lisboa\",\"Luxemburgo\",\"Madrid\"),mundial = c(TRUE,FALSE,NA))\n",
    "extra"
   ]
  },
  {
   "cell_type": "code",
   "execution_count": null,
   "metadata": {},
   "outputs": [],
   "source": [
    "cbind(mi_dataframe,extra)"
   ]
  },
  {
   "cell_type": "markdown",
   "metadata": {},
   "source": [
    "Para aumentar columnas a un dataframe, la notación ``$`` es útil."
   ]
  },
  {
   "cell_type": "code",
   "execution_count": null,
   "metadata": {},
   "outputs": [],
   "source": [
    "mi_dataframe"
   ]
  },
  {
   "cell_type": "code",
   "execution_count": null,
   "metadata": {},
   "outputs": [],
   "source": [
    "mi_dataframe$capital  <- c(\"Lisboa\",\"Luxemburgo\",\"Madrid\")"
   ]
  },
  {
   "cell_type": "code",
   "execution_count": null,
   "metadata": {},
   "outputs": [],
   "source": [
    "mi_dataframe"
   ]
  },
  {
   "cell_type": "markdown",
   "metadata": {},
   "source": [
    "## Eliminado de elementos\n",
    "\n",
    "Para eliminar filas o columnas de un dataframe, se utiliza el operador ``-``, no obstante también se cuenta con otra estrategia con el operador ``$``"
   ]
  },
  {
   "cell_type": "code",
   "execution_count": null,
   "metadata": {},
   "outputs": [],
   "source": [
    "mi_dataframe"
   ]
  },
  {
   "cell_type": "code",
   "execution_count": null,
   "metadata": {},
   "outputs": [],
   "source": [
    "mi_dataframe$poblacion  <- NULL"
   ]
  },
  {
   "cell_type": "code",
   "execution_count": null,
   "metadata": {},
   "outputs": [],
   "source": [
    "mi_dataframe"
   ]
  }
 ],
 "metadata": {
  "kernelspec": {
   "display_name": "R",
   "language": "R",
   "name": "ir"
  },
  "language_info": {
   "codemirror_mode": "r",
   "file_extension": ".r",
   "mimetype": "text/x-r-source",
   "name": "R",
   "pygments_lexer": "r",
   "version": "3.6.1"
  }
 },
 "nbformat": 4,
 "nbformat_minor": 4
}
