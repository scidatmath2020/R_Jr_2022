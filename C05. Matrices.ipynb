{
 "cells": [
  {
   "cell_type": "markdown",
   "metadata": {},
   "source": [
    "<img src=\"logo.png\">"
   ]
  },
  {
   "cell_type": "markdown",
   "metadata": {},
   "source": [
    "# Matrices\n",
    "\n",
    "Las matrices en **R** son un tipo especial de arrays; se trata de arreglos de filas y columnas, por lo cual solo tienen 2 dimensiones. \n",
    "\n",
    "De esta manera, heredan todas las propiedades de los arrays, pero además tienen sus propios métodos."
   ]
  },
  {
   "cell_type": "markdown",
   "metadata": {},
   "source": [
    "## Creación de matrices\n",
    "\n",
    "Para crear una matriz podemos utilizar la función ``array()`` de la siguiente manera: ``array(data,dim = c(a,b))`` donde ``data`` es el vector del cual se toman los datos y ``a`` y ``b`` son el número de filas y columnas, respectivamente.\n",
    "\n",
    "No obstante, también contamos con una función especial para creación de matrices: ``matrix(data, otros parámetros)``, donde ``otros parámetros`` se refiere a número de filas, número de columnas y *orden de llenado*."
   ]
  },
  {
   "cell_type": "code",
   "execution_count": null,
   "metadata": {},
   "outputs": [],
   "source": [
    "matrix(data = c(1,4,2,7,9,10), nrow = 4, ncol = 5)"
   ]
  },
  {
   "cell_type": "code",
   "execution_count": null,
   "metadata": {},
   "outputs": [],
   "source": [
    "matrix(data = c(1,4,2,7,9,10), nrow = 4, ncol = 5, byrow = TRUE)"
   ]
  },
  {
   "cell_type": "markdown",
   "metadata": {},
   "source": [
    "## Operaciones de matrices\n",
    "\n",
    "Dado que las matrices son arrays especiales con dos dimensiones, todo lo aprendido en el capítulo anterior sigue siendo válido: propiedad de nombres, modificación de elementos, indexado, etcétera.\n",
    "\n",
    "Sin embargo, tienen operaciones especiales extra."
   ]
  },
  {
   "cell_type": "code",
   "execution_count": null,
   "metadata": {},
   "outputs": [],
   "source": [
    "matriz_1  <- matrix(1:4,nrow=2,ncol=3)\n",
    "matriz_2  <- matrix(200:203,nrow=2,ncol=3)"
   ]
  },
  {
   "cell_type": "markdown",
   "metadata": {},
   "source": [
    "### Multiplicación puntual (producto de Hadamard)\n",
    "\n",
    "Se refiere a multiplicar dos matrices elemento por elemento en la misma posición. Solo se puede realizar si ambas matrices tienen el mismo número de filas y el mismo número de columnas"
   ]
  },
  {
   "cell_type": "code",
   "execution_count": null,
   "metadata": {},
   "outputs": [],
   "source": [
    "matriz_1 * matriz_2"
   ]
  },
  {
   "cell_type": "markdown",
   "metadata": {},
   "source": [
    "### Suma y resta de matrices\n",
    "\n",
    "Se refiere a sumar o restar dos matrices elemento por elemento en la misma posición. Solo se puede realizar si ambas matrices tienen el mismo número de filas y el mismo número de columnas."
   ]
  },
  {
   "cell_type": "code",
   "execution_count": null,
   "metadata": {},
   "outputs": [],
   "source": [
    "matriz_1 - matriz_2"
   ]
  },
  {
   "cell_type": "code",
   "execution_count": null,
   "metadata": {},
   "outputs": [],
   "source": [
    "matriz_1 + matriz_2"
   ]
  },
  {
   "cell_type": "markdown",
   "metadata": {},
   "source": [
    "### Multiplicación algebraica de matrices\n",
    "\n",
    "Es la multiplicación usual de matrices. Solo se puede realizar si el número de columnas de la primera es igual al número de filas de la segunda, y se obtiene como resultado otra matriz con la misma cantidad de filas de la primera y la cantidad de columnas de la segunda."
   ]
  },
  {
   "cell_type": "code",
   "execution_count": null,
   "metadata": {},
   "outputs": [],
   "source": [
    "matriz_1 %*% matriz_2"
   ]
  },
  {
   "cell_type": "code",
   "execution_count": null,
   "metadata": {},
   "outputs": [],
   "source": [
    "matriz_3  <- matrix(c(10:13),nrow = 3, ncol =20)"
   ]
  },
  {
   "cell_type": "code",
   "execution_count": null,
   "metadata": {},
   "outputs": [],
   "source": [
    "matriz_3"
   ]
  },
  {
   "cell_type": "code",
   "execution_count": null,
   "metadata": {},
   "outputs": [],
   "source": [
    "matriz_1 %*% matriz_3"
   ]
  },
  {
   "cell_type": "markdown",
   "metadata": {},
   "source": [
    "### Trasposición de matrices\n",
    "\n",
    "Es la operación usual de trasponer una matriz; es decir, convertir las filas en columnas y las columnas en filas."
   ]
  },
  {
   "cell_type": "code",
   "execution_count": null,
   "metadata": {},
   "outputs": [],
   "source": [
    "matriz_1"
   ]
  },
  {
   "cell_type": "code",
   "execution_count": null,
   "metadata": {},
   "outputs": [],
   "source": [
    "t(matriz_1)"
   ]
  },
  {
   "cell_type": "markdown",
   "metadata": {},
   "source": [
    "### Otras operaciones\n",
    "\n",
    "Las matrices numéricas son objetos matemáticos muy ricos debido a que se puede realizar una basta cantidad de operaciones con ellas. Si estás interesado en conocer todo lo que se les puede hacer (desde el punto de vista del Álgebra Lineal), puedes revisar por aquí [https://r-coder.com/matrix-operations-r/#:~:text=There%20are%20multiple%20matrix%20operations,the%20matrix%20by%20different%20methods.]"
   ]
  }
 ],
 "metadata": {
  "kernelspec": {
   "display_name": "R",
   "language": "R",
   "name": "ir"
  },
  "language_info": {
   "codemirror_mode": "r",
   "file_extension": ".r",
   "mimetype": "text/x-r-source",
   "name": "R",
   "pygments_lexer": "r",
   "version": "3.6.1"
  }
 },
 "nbformat": 4,
 "nbformat_minor": 4
}
