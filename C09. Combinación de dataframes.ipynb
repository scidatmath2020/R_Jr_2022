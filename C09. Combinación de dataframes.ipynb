{
 "cells": [
  {
   "cell_type": "markdown",
   "metadata": {},
   "source": [
    "<img src=\"logo.png\">"
   ]
  },
  {
   "cell_type": "markdown",
   "metadata": {},
   "source": [
    "# Combinación de data frames\n",
    "\n",
    "Una base de datos es un conjunto de una o más tablas (dataframes). Por lo general, estas tablas están relacionadas entre sí (base de datos relacional). \n",
    "\n",
    "A veces, la razón para dispersar la información de una base en varias tablas es simplemente para no tener tablas tan grandes. En este capítulo aprenderemos a pasar la información de una tabla a otra mediante **R**."
   ]
  },
  {
   "cell_type": "markdown",
   "metadata": {},
   "source": [
    "## Tipos de *joins*\n",
    "\n",
    "En bases de datos, la operación de llevar la información desde una tabla a otra se conoce como *join*. Existen diversos tipos, pero en esta sección únicamente analizaremos el interno, el izquierdo, el derecho y el total.\n",
    "\n",
    "<img src=\"joins.png\" width=\"400\">"
   ]
  },
  {
   "cell_type": "markdown",
   "metadata": {},
   "source": [
    "Hacer un join de un dataframe $A$ en otro dataframe $B$ consiste en llevar parte (o toda) la información desde $A$ hasta $B$. Por ejemplo, consideremos los dos dataframes siguientes:\n",
    "\n",
    "<img src=\"im02.png\">"
   ]
  },
  {
   "cell_type": "markdown",
   "metadata": {},
   "source": [
    "Como puede observarse, el dataframe de la *izquierda* no contiene la información del país ni el tipo al que pertenece la marca (brand), en tanto que el de la *derecha* no contiene ni mpg, cyl, disp, ni hp. Esto puede deberse a que la información de la tabla izquierda es información puntual sobre cada carro dependiendo de su modelo, en tanto que la derecha es información sobre la marca.\n",
    "\n",
    "\n",
    "De esta manera, si queremos llevar la información desde la tabla derecha a la izquierda, o desde la tabla izquierda a la derecha, requerimos hacer un join. Notemos que ambas tablas comparte una columna a través de la cual se relacionan: brand y car_brand. Estas columnas mediante las cuales realizamos el join se conocen como *columnas join*. \n"
   ]
  },
  {
   "cell_type": "code",
   "execution_count": null,
   "metadata": {},
   "outputs": [],
   "source": [
    "data(mtcars)\n",
    "\n",
    "# Agregramos la columna brand a mtcars\n",
    "mtcars$brand  <- c(\"Mazda\",\"Mazda\",\"Datsun\",\"Hornet\",\"Hornet\",\"Valiant\",\"Duster\",\"Merc\",\n",
    "                   \"Merc\",\"Merc\",\"Merc\",\"Merc\",\"Merc\",\"Merc\",\"Cadillac\",\"Lincoln\",\n",
    "                   \"Chrysler\",\"Fiat\",\"Honda\",\"Toyota\",\"Toyota\",\"Dodge\",\"AMC\",\"Camaro\",\n",
    "                   \"Pontiac\",\"Fiat\",\"Porsche\",\"Lotus\",\"Ford\",\"Ferrari\",\"Maserati\",\"Volvo\")\n",
    "\n",
    "mtcars$model  <- row.names(mtcars)\n",
    "\n",
    "# creamos el dataframe de marcas\n",
    "brands_origin <- data.frame(\n",
    "  car_brand = c(\"Mazda\",\"Toyota\",\"Fiat\",\"Volvo\",\"Skoda\"),\n",
    "  country = c(\"Japan\",\"Japan\",\"Italy\",\"Sweden\",\"Checa\"),\n",
    "  type = c(\"A\",\"B\",\"C\",\"D\",\"E\")\n",
    ")"
   ]
  },
  {
   "cell_type": "markdown",
   "metadata": {},
   "source": [
    "La función básica para realizar joins en **R** es ``merge()``. "
   ]
  },
  {
   "cell_type": "markdown",
   "metadata": {},
   "source": [
    "### Join interno (inner join)\n",
    "\n",
    "Se refiere a formar una nueva tabla de la siguiente manera: se intersectan las columnas join de ambas tablas y se observan los elementos en común. Cada nuevo renglón se crea utilizando la información de la tabla izquierda y la información de la tabla derecha de esos elementos que se tienen en común.\n",
    "\n",
    "<img src=\"im03.png\">"
   ]
  },
  {
   "cell_type": "code",
   "execution_count": null,
   "metadata": {},
   "outputs": [],
   "source": [
    "merge(mtcars,brands_origin,   \n",
    "      by.x=\"brand\",by.y=\"car_brand\")"
   ]
  },
  {
   "cell_type": "markdown",
   "metadata": {},
   "source": [
    "### Join izquierdo (left join)\n",
    "\n",
    "Este sirve para jalar la información de la segunda tabla hacia la primera (es decir, de derecha a izquierda). Cuando no hay coincidencia, coloca ``NA``.\n",
    "\n",
    "<img src=\"im04.png\">"
   ]
  },
  {
   "cell_type": "code",
   "execution_count": null,
   "metadata": {},
   "outputs": [],
   "source": [
    "merge(mtcars,brands_origin,\n",
    "      by.x = \"brand\", by.y = \"car_brand\",\n",
    "      all.x = TRUE\n",
    "     )"
   ]
  },
  {
   "cell_type": "markdown",
   "metadata": {},
   "source": [
    "### Join derecho (right join)\n",
    "\n",
    "Este sirve para jalar la información de la primera tabla hacia la segunda (es decir, de izquerda a derecha). Cuando no hay coincidencia, coloca ``NA``.\n",
    "\n",
    "<img src=\"im05.png\">"
   ]
  },
  {
   "cell_type": "code",
   "execution_count": null,
   "metadata": {},
   "outputs": [],
   "source": [
    "merge(mtcars,brands_origin,\n",
    "      by.x = \"brand\", by.y = \"car_brand\",\n",
    "      all.y = TRUE\n",
    "     )"
   ]
  },
  {
   "cell_type": "markdown",
   "metadata": {},
   "source": [
    "### join total (full join)\n",
    "\n",
    "Este se refiere a hacer una nueva tabla formada por todos los renglones de ambas y rellenando con ``NA`` donde no hay coincidencia.\n",
    "\n",
    "<img src=\"im06.png\">"
   ]
  },
  {
   "cell_type": "code",
   "execution_count": null,
   "metadata": {},
   "outputs": [],
   "source": [
    "merge(mtcars,brands_origin,\n",
    "      by.x = \"brand\", by.y = \"car_brand\",\n",
    "      all= TRUE\n",
    "     )"
   ]
  }
 ],
 "metadata": {
  "kernelspec": {
   "display_name": "R",
   "language": "R",
   "name": "ir"
  },
  "language_info": {
   "codemirror_mode": "r",
   "file_extension": ".r",
   "mimetype": "text/x-r-source",
   "name": "R",
   "pygments_lexer": "r",
   "version": "3.6.1"
  }
 },
 "nbformat": 4,
 "nbformat_minor": 4
}
