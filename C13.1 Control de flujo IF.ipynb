{
 "cells": [
  {
   "cell_type": "markdown",
   "metadata": {},
   "source": [
    "<img src=\"logo.png\">"
   ]
  },
  {
   "cell_type": "markdown",
   "metadata": {},
   "source": [
    "# Control de flujo\n",
    "\n",
    "El control de flujo en un lenguaje de programación se refiere a cómo hacemos que un algoritmo tome algún camino dependiendo de condiciones y realice ciclos (repeticiones).\n",
    "\n",
    "Se trata de elementos fundamentales de cualquier lenguaje de programación."
   ]
  },
  {
   "cell_type": "markdown",
   "metadata": {},
   "source": [
    "## Control condicional\n",
    "\n",
    "En los primeros años del cómputo, los programas consistían en una secuencia lineal de instrucciones que eran ejecutadas por una máquina, tal como lo hace una pianola o una caja de música. Sin embargo conforme el cómputo fue evolucionando, se volvió imperativo que el flujo de un programa de cómputo dejara de ser lineal.\n",
    "\n",
    "Mediante las estructuras derivadas de ```if```, **R** puede evaluar ciertas expresiones lógicas que resultarían finalmente en un valor booleano, el cual ejecutaría el código correspondiente.\n",
    "\n",
    "### Declaraciones con ``if`` simple \n",
    "\n",
    "La palabra clave ```if``` siempre evalúa una expresión lógica y en caso de que dicha expresión de por resultado el valor ```True```, se ejecutará el código indicado a continuación del ```if``` entre llaves. En caso de que la declaración resulte en el valor ```False```, el intérprete ignorará el bloque de código entre llaves y éste continuará con la instrucción siguiente.\n",
    "\n",
    "```<flujo principal>\n",
    "...\n",
    "...\n",
    "if(expresión lógica){\n",
    "     <bloque inscrito a if>\n",
    "}\n",
    "<flujo principal>```"
   ]
  },
  {
   "cell_type": "markdown",
   "metadata": {},
   "source": [
    "A continuación se muestra un diagrama de flujo que ejemplifica al uso del condicional if en su modo más simple:\n",
    "<img src=\"im07.png\">\n"
   ]
  },
  {
   "cell_type": "code",
   "execution_count": null,
   "metadata": {},
   "outputs": [],
   "source": [
    "mi_animal <- readline(prompt=\"¿Qué animal eres?: \")\n",
    "\n",
    "if(mi_animal == \"gato\"){\n",
    "    print(\"Este animal hace 'miau'\")    \n",
    "}"
   ]
  },
  {
   "cell_type": "markdown",
   "metadata": {},
   "source": [
    "### Estructura ```if``` ... ```else```.\n",
    "\n",
    "Si el resultado de la expresión lógica evaluada por ```if``` da por resultado ```False```, se puede utilizar ```else``` para ejecutar el bloque de código inmediato encerrado entre llaves.\n",
    "\n",
    "\n",
    "``<flujo principal>\n",
    "...\n",
    "...\n",
    "if(expresión lógica){\n",
    "     <bloque inscrito a if>\n",
    "} else{\n",
    "    <bloque inscrito a else>\n",
    "}\n",
    "<flujo principal>``\n",
    "\n",
    "\n",
    "A continuación se muestra un diagrama de flujo que ejemplifica al uso del condicional ```if``` y ```else```:\n",
    "\n",
    "<img src=\"im08.png\">"
   ]
  },
  {
   "cell_type": "code",
   "execution_count": null,
   "metadata": {},
   "outputs": [],
   "source": [
    "mi_guerrero <- readline(prompt=\"Nombre del guerrero: \")\n",
    "\n",
    "if(mi_guerrero == \"Yamcha\" | mi_guerrero == \"Krilin\"){\n",
    "    print(\"Seguro se va a morir\")\n",
    "} else{\n",
    "    print(\"Tenemos oportunidad de que nos salve\")\n",
    "}\n",
    "print(\"Así pasa en DBZ\")"
   ]
  },
  {
   "cell_type": "markdown",
   "metadata": {},
   "source": [
    "### Estructura ```if```...```else if```...```else```.\n",
    "\n",
    "Es posible evaluar más de una expresión lógica mediante el uso de ``else if``. En el caso de que exista más de una expresión lógica que de por resultado ```TRUE```, **R** ejecutará solamente el código delimitado por la primera que ocurra.\n",
    "\n",
    "En caso de que ninguna de las condiciones de por resultado ```TRUE```  se puede utilizar ```else``` al final de la estructura.\n",
    "\n",
    "``<flujo principal>\n",
    "...\n",
    "...\n",
    "if(expresión lógica 1){\n",
    "     bloque inscrito a if\n",
    "} else if(expresión lógica 2){\n",
    "     bloque inscrito a else if\n",
    "} else if(expresión lógica 3){\n",
    "     bloque inscrito a else if\n",
    "}\n",
    "...\n",
    "...\n",
    "} else if(expresión lógica n){\n",
    "     bloque inscrito a else if\n",
    "} else{\n",
    "    bloque inscrito a else\n",
    "}\n",
    "<flujo principal>``"
   ]
  },
  {
   "cell_type": "markdown",
   "metadata": {},
   "source": [
    "A continuación se muestra un diagrama de flujo que ejemplifica al uso del condicional ``if``, ``else if`` y ``else``:\n",
    "\n",
    "<img src=\"im09.png\">"
   ]
  },
  {
   "cell_type": "code",
   "execution_count": null,
   "metadata": {},
   "outputs": [],
   "source": [
    "mi_guerrero <- readline(prompt=\"Nombre del guerrero: \")\n",
    "\n",
    "if(mi_guerrero == \"Yamcha\" | mi_guerrero == \"Krilin\"){\n",
    "    print(\"Es un humano\")\n",
    "} else if(mi_guerrero == \"Gokú\" | mi_guerrero == \"Vegueta\"){\n",
    "    print(\"Es un saijajín\")\n",
    "} else if(mi_guerrero == \"18\" | mi_guerrero == \"17\"){\n",
    "    print(\"Es un androide\")\n",
    "} else if(mi_guerrero == \"Pikoro\"){\n",
    "    print(\"Es un namekuseí\")\n",
    "} else{\n",
    "    print(\"No es un personaje importante\")\n",
    "}\n",
    "print(\"Esas son razas de DBZ\")\n"
   ]
  },
  {
   "cell_type": "markdown",
   "metadata": {},
   "source": [
    "### If anidados\n",
    "\n",
    "También es posible utilizar controles ``if`` dentro de otro control ``if``"
   ]
  },
  {
   "cell_type": "code",
   "execution_count": null,
   "metadata": {},
   "outputs": [],
   "source": [
    "dato_texto = readline(prompt=\"ingrese un número: \")\n",
    "dato  <- as.numeric(dato_texto)\n",
    "if(is.na(dato) == FALSE){\n",
    "    print('Es un número.')\n",
    "    if(dato < 0){\n",
    "        print('Es negativo.')\n",
    "    } else if(dato > 0){\n",
    "        print('Es positivo.')\n",
    "    } else{\n",
    "        print('Es cero')\n",
    "    }\n",
    "} else{\n",
    "    print('No es un número.')\n",
    "}"
   ]
  },
  {
   "cell_type": "markdown",
   "metadata": {},
   "source": [
    "No obstante, observe que este mismo programa se pudo hacer sin utilizar el comando ``if`` anidado."
   ]
  },
  {
   "cell_type": "code",
   "execution_count": null,
   "metadata": {},
   "outputs": [],
   "source": [
    "dato_texto = readline(prompt=\"ingrese un número: \")\n",
    "dato  <- as.numeric(dato_texto)\n",
    "\n",
    "if(is.na(dato) == FALSE & dato<0){\n",
    "    print(\"Es un número\")\n",
    "    print(\"Es un negativo\")\n",
    "} else if(is.na(dato) == FALSE & dato>0){\n",
    "    print(\"Es un número\")\n",
    "    print(\"Es un positivo\")\n",
    "} else if(is.na(dato) == FALSE & dato==0){\n",
    "    print(\"Es un número\")\n",
    "    print(\"Es cero\")\n",
    "} else{\n",
    "    print(\"No es un número\")\n",
    "}"
   ]
  },
  {
   "cell_type": "markdown",
   "metadata": {},
   "source": [
    "## Funciones con if\n",
    "\n",
    "El control de tipo if puede estar dentro de las funciones sin ningún problema."
   ]
  },
  {
   "cell_type": "code",
   "execution_count": null,
   "metadata": {},
   "outputs": [],
   "source": [
    "# función que nos dice si un número es primo o no.\n",
    "# El 1 no es primo\n",
    "# Un número es primo si y solo si ((n-1)! %% n) == n-1. Es decir, si el producto 1*2*3*...*(n-1) deja residuo n-1 cuando\n",
    "# se divide entre n\n",
    "\n",
    "primalidad  <- function(n){\n",
    "    if(n>1 & (factorial(n-1) %% n) == n-1){\n",
    "        return(TRUE)\n",
    "    } else{\n",
    "        return(FALSE)\n",
    "    }   \n",
    "}"
   ]
  },
  {
   "cell_type": "markdown",
   "metadata": {},
   "source": [
    "## If vectorizado\n",
    "\n",
    "Adicionalmente, **R** cuenta con una función vectorizada propia que sirve para ejecutar un test lógico a los elementos de un vector. Esta es la función ``ifelse`` cuya sintaxis es \n",
    "\n",
    "``ifelse(prueba lógica,yes,no)``"
   ]
  },
  {
   "cell_type": "code",
   "execution_count": null,
   "metadata": {},
   "outputs": [],
   "source": [
    "mi_vector  <- c(1,5,27,5,187,34,45,848,24,7)\n",
    "mean(mi_vector)"
   ]
  },
  {
   "cell_type": "code",
   "execution_count": null,
   "metadata": {},
   "outputs": [],
   "source": [
    "ifelse(mi_vector < mean(mi_vector),\"Es menor que la media\",\"No es menor\")"
   ]
  },
  {
   "cell_type": "code",
   "execution_count": null,
   "metadata": {},
   "outputs": [],
   "source": [
    "ifelse(mi_vector < mean(mi_vector),\"Es menor que la media\",\n",
    "       ifelse(mi_vector<500,\"Es menor que 500\",\"No es menor que media ni 100\"))"
   ]
  }
 ],
 "metadata": {
  "kernelspec": {
   "display_name": "R",
   "language": "R",
   "name": "ir"
  },
  "language_info": {
   "codemirror_mode": "r",
   "file_extension": ".r",
   "mimetype": "text/x-r-source",
   "name": "R",
   "pygments_lexer": "r",
   "version": "3.6.1"
  }
 },
 "nbformat": 4,
 "nbformat_minor": 4
}
