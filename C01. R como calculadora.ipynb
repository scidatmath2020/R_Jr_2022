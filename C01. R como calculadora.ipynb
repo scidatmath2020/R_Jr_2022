{
 "cells": [
  {
   "cell_type": "markdown",
   "metadata": {},
   "source": [
    "<img src=\"logo.png\">"
   ]
  },
  {
   "cell_type": "markdown",
   "metadata": {},
   "source": [
    "# El Lenguaje R\n",
    "\n",
    "**R** es un lenguaje cuyo propósito es el análisis estadístico, el cómputo estadístico, gráficos y procesamiento de bases de datos. Para ello viene implementado con una gran variedad de técnicas estadísticas y de graficación. \n",
    "\n",
    "En este sentido, puedes utilizar **R** como \n",
    "\n",
    "* Calculadora.\n",
    "* Aplicación de técnicas estadísticas clásicas.\n",
    "* Graficación.\n",
    "* Desarrollo de técnicas estadísticas modernas (como el Machine y el Deep Learning).\n",
    "\n"
   ]
  },
  {
   "cell_type": "markdown",
   "metadata": {},
   "source": [
    "# R como calculadora\n",
    "\n",
    "En esta sección aprenderemos los comandos básicos para hacer trabajar a **R** como una calculadora. \n",
    "\n",
    "## Los cálculos en R\n",
    "\n",
    "**R** permite realizar la gran mayoría de operaciones matemáticas que te puedes imaginar.\n",
    "\n",
    "Por ejemplo sumas, restas, divisiones, multiplicaciones, raíces cuadradas, exponenciales o logarítmicas. Incluso permite trabajar con números complejos."
   ]
  },
  {
   "cell_type": "markdown",
   "metadata": {},
   "source": [
    "## Los objetos de R\n",
    "\n",
    "La mayoría de las *cosas* en **R** son objetos. Estos objetos tienen cada uno sus propias características (como tamaño, dimensinoes, longitud o tipo) y sus propios métodos (es decir, sus propias funciones).\n",
    "\n",
    "Algunos ejemplos de objetos en **R** son:\n",
    "* Vectores.\n",
    "* Matrices.\n",
    "* Listas.\n",
    "* Dataframes"
   ]
  },
  {
   "cell_type": "markdown",
   "metadata": {},
   "source": [
    "### Vectores en R\n",
    "\n",
    "Uno de los objetos más simples, pero mas poderosos, de **R** son los **vectores**.\n",
    "\n",
    "Los vectores son *listas ordenadas* de datos. Por ejemplo ``mi_vector = c(\"a\",\"hola\",\"tengo hambre\",\"2\")``.  Sus elementos tienen un orden (primero va la *palabra* \"a\", luego la *palabra* \"hola\", luego la frase \"tengo hambre\" y luego la grafía \"2\"); además todos los datos son del mismo tipo: texto (que a partir de ahora llamaremos strings).\n",
    "\n",
    "Los vectores en **R** tienen la propiedad de poseer una longitud: cuántos datos lo forman."
   ]
  },
  {
   "cell_type": "code",
   "execution_count": null,
   "metadata": {},
   "outputs": [],
   "source": [
    "mi_vector = c(\"a\",\"hola\",\"tengo hambre\",\"2\")"
   ]
  },
  {
   "cell_type": "code",
   "execution_count": null,
   "metadata": {},
   "outputs": [],
   "source": [
    "length(mi_vector)"
   ]
  },
  {
   "cell_type": "markdown",
   "metadata": {},
   "source": [
    "Como los datos de un vector tienen un orden, sus elementos pueden ser *llamados* a través de *índices*. Aquí es importante saber que **R** siempre indexa desde 1 (a diferencia de Python que indexa desde 0). Para mandar a llamar al n-ésimo dato de un vector simplemente escribimos ``nombre_del_vector[n]``"
   ]
  },
  {
   "cell_type": "markdown",
   "metadata": {},
   "source": [
    "**Ejemplo.**"
   ]
  },
  {
   "cell_type": "code",
   "execution_count": null,
   "metadata": {},
   "outputs": [],
   "source": [
    "## Llamar el segundo dato de mi_vector\n",
    "mi_vector[2]"
   ]
  },
  {
   "cell_type": "markdown",
   "metadata": {},
   "source": [
    "Mas adelante veremos que de hecho podemos mandar a llamar varios elementos de un vector."
   ]
  },
  {
   "cell_type": "markdown",
   "metadata": {},
   "source": [
    "#### Creación de vectores\n",
    "\n",
    "Puedes utilizar la sintaxis ``c(dato_1,dato_2,...,dato_l)`` para crear vectores. Los datos deben ir dentro de los paréntesis separados por una coma, y recuerda que todos los datos deben ser del mismo tipo; es decir, o todos son textos, o todos son números.\n",
    "\n",
    "Por ejemplo, supongamos que tengo cuatro personas y voy a guardar sus pesos en kilogramos. Si estos pesos son 71.4, 65.1, 63 y 94.5, entonces el comando ``mis_personas = c(71.4, 65.1, 63, 94.5)`` me creará un vector con esos pesos."
   ]
  },
  {
   "cell_type": "code",
   "execution_count": null,
   "metadata": {},
   "outputs": [],
   "source": [
    "mis_personas = c(71.4, 65.1, 63, 94.5)\n",
    "mis_personas"
   ]
  },
  {
   "cell_type": "code",
   "execution_count": null,
   "metadata": {},
   "outputs": [],
   "source": [
    "# La persona 3 pesa\n",
    "mis_personas[3]"
   ]
  },
  {
   "cell_type": "markdown",
   "metadata": {},
   "source": [
    "#### Las asignaciones de objetos\n",
    "\n",
    "En **R**, para asignarle un nombre a los objetos que vayamos trabajando hay dos maneras de hacerlo: ``nombre <- objeto`` o ``nombre = objeto``. \n",
    "\n",
    "Por ejemplo, observa que cuando creamos el vector de pesos de las personas, le asignamos un nombre a ese vector. Esto también lo pudimos hacer con ``mis_personas <- c(71.4, 65.1, 63, 94.5)``"
   ]
  },
  {
   "cell_type": "code",
   "execution_count": null,
   "metadata": {},
   "outputs": [],
   "source": [
    "# Este código crea un vector pero al no asignarle ningún numbre, lo destruye inmediatemente después de crearlo\n",
    "c(71.4, 65.1, 63, 94.5)"
   ]
  },
  {
   "cell_type": "code",
   "execution_count": null,
   "metadata": {},
   "outputs": [],
   "source": [
    "# Este código crea un vector y le asigna un nombre, de modo que cuando queramos mandar a llamar al vector lo podemos hacer a \n",
    "# través de su nombre\n",
    "\n",
    "mis_personas <- c(71.4, 65.1, 63, 94.5)"
   ]
  },
  {
   "cell_type": "code",
   "execution_count": null,
   "metadata": {},
   "outputs": [],
   "source": [
    "mis_personas"
   ]
  },
  {
   "cell_type": "markdown",
   "metadata": {},
   "source": [
    "Así, si tienes a cuatro personas en tu casa, esas personas ocuparán un espacio en tu casa. En **R**, si tienes un objeto y le asignas un nombre, ese objeto ocupará un espacio en tu computadora.\n",
    "\n",
    "En RStudio, los objetos que tienen un nombre asignado se pueden ver en la zona de *Environment* (ambiente)."
   ]
  },
  {
   "cell_type": "markdown",
   "metadata": {},
   "source": [
    "### Operaciones vectorizadas\n",
    "\n",
    "El concepto de operaciones vectorizadas es muy importante en Programación. Una operación es vectorizada si se puede aplicar a cada elemento de un vector.\n",
    "\n",
    "Por ejemplo, si ``mi_vector`` es un vector formado únicamente por números en un lenguaje de programación , entonces *la multiplicación está vectorizada en ese lenguaje* si, sin importar quién es el número x, tienes que ``x*mi_vector`` es un vector donde cada uno de sus elementos es x mutiplicado por el respectivo elemento del vector original."
   ]
  },
  {
   "cell_type": "code",
   "execution_count": null,
   "metadata": {},
   "outputs": [],
   "source": [
    "# El peso de cada una de las personas está en kilogramos. Un kilogramo equivale a 2.2 libras. \n",
    "# Si queremos el peso de las personas en libras hacemos lo siguiente\n",
    "\n",
    "mis_personas_libras = 2.02 * mis_personas\n",
    "mis_personas_libras"
   ]
  },
  {
   "cell_type": "markdown",
   "metadata": {},
   "source": [
    "En **R**, la gran mayoría de operaciones matemáticas importantes están vectorizadas, como son la multiplicación, las divisiones, las raíces cuadradas, los logaritmos o las exponenciales (a diferencia de Python, donde las operaciones vectorizadas están en la paquetería Numpy)."
   ]
  },
  {
   "cell_type": "code",
   "execution_count": null,
   "metadata": {},
   "outputs": [],
   "source": [
    "c(5,2,0)/2"
   ]
  },
  {
   "cell_type": "code",
   "execution_count": null,
   "metadata": {},
   "outputs": [],
   "source": [
    "c(5,2,0)^2"
   ]
  },
  {
   "cell_type": "code",
   "execution_count": null,
   "metadata": {},
   "outputs": [],
   "source": [
    "exp(c(5,2,0))"
   ]
  },
  {
   "cell_type": "code",
   "execution_count": null,
   "metadata": {},
   "outputs": [],
   "source": [
    "log(c(5,2,0))"
   ]
  },
  {
   "cell_type": "code",
   "execution_count": null,
   "metadata": {},
   "outputs": [],
   "source": [
    "sqrt(c(5,2,0))"
   ]
  },
  {
   "cell_type": "markdown",
   "metadata": {},
   "source": [
    "**Ejemplo.**"
   ]
  },
  {
   "cell_type": "code",
   "execution_count": null,
   "metadata": {},
   "outputs": [],
   "source": [
    "#DIVISIÓN: Si queremos saber la mitad del peso de cada persona\n",
    "mis_personas / 2"
   ]
  },
  {
   "cell_type": "markdown",
   "metadata": {},
   "source": [
    "Se pueden combinar operaciones vectorizadas e índices"
   ]
  },
  {
   "cell_type": "code",
   "execution_count": null,
   "metadata": {},
   "outputs": [],
   "source": [
    "#¿Cuanto pesa en libras la segunda persona?\n",
    "(2.2 * mis_personas)[2]"
   ]
  },
  {
   "cell_type": "code",
   "execution_count": null,
   "metadata": {},
   "outputs": [],
   "source": [
    "2.2 * (mis_personas[2])"
   ]
  },
  {
   "cell_type": "markdown",
   "metadata": {},
   "source": [
    "Las sumas (y restas) tienen un comportamiento especial con los vectores. \n",
    "\n",
    "Si tomas dos vectores de la misma longitud, su suma es un vector de la misma longitud pero donde cada elemento es la suma de los elementos correspondientes en sus mismas posiciones."
   ]
  },
  {
   "cell_type": "code",
   "execution_count": null,
   "metadata": {},
   "outputs": [],
   "source": [
    "# Por alguna razón la balanza estaba mal calibrada y se a cada persona se le dió un peso menor al verdadero.\n",
    "# En la primer persona falló por 0.4; en la segunda por 0.2; en la tercera por 0.4 y en la cuarta por 0.3\n",
    "\n",
    "mis_personas_corregido  <- mis_personas + c(0.4,0.2,0.4,0.3)\n",
    "mis_personas_corregido"
   ]
  },
  {
   "cell_type": "code",
   "execution_count": null,
   "metadata": {},
   "outputs": [],
   "source": [
    "mis_personas"
   ]
  },
  {
   "cell_type": "markdown",
   "metadata": {},
   "source": [
    "Incluso, podemos sumar vectores simplemente mandando a llamar a sus nombres"
   ]
  },
  {
   "cell_type": "code",
   "execution_count": null,
   "metadata": {},
   "outputs": [],
   "source": [
    "correcciones  <- c(0.4,0.2,0.4,0.3) #Guardamos el vector de errores con el nombre de correcciones\n",
    "mis_personas + correcciones #Hacemos la corrección"
   ]
  },
  {
   "cell_type": "markdown",
   "metadata": {},
   "source": [
    "Sin embargo, **R** es capaz de sumar vectores con diferente longitud sin ningún problema aplicando una especie de ciclado"
   ]
  },
  {
   "cell_type": "code",
   "execution_count": null,
   "metadata": {},
   "outputs": [],
   "source": [
    "c(1,2,3)+c(10,20)"
   ]
  },
  {
   "cell_type": "code",
   "execution_count": null,
   "metadata": {},
   "outputs": [],
   "source": [
    "c(10,20) + c(1,2,3)"
   ]
  },
  {
   "cell_type": "markdown",
   "metadata": {},
   "source": [
    "Siempre ten cuidado con esta propiedad que tiene la suma de vectores en **R**. En otros lenguajes, como Python, esta suma no tendría sentido.\n",
    "\n",
    "En **R** es útil porque **la suma y la resta son operaciones vectorizadas**"
   ]
  },
  {
   "cell_type": "code",
   "execution_count": null,
   "metadata": {},
   "outputs": [],
   "source": [
    "# La balanza falló y pesó 0.5kg de más a cada persona\n",
    "mis_personas - 0.5"
   ]
  },
  {
   "cell_type": "code",
   "execution_count": null,
   "metadata": {},
   "outputs": [],
   "source": [
    "mis_personas"
   ]
  },
  {
   "cell_type": "markdown",
   "metadata": {},
   "source": [
    "Otras operaciones vectorizadas importantes en **R** son las comparaciones. \n",
    "\n",
    "Por ejemplo, la sintaxis ``mi_vector > x`` devuelve un nuevo vector de la misma longitud que ``mi_vector`` pero formado por datos de tipo *booleano*: Verdadero cuando el dato cumpla que es más grande que el número x, y Falso en caso contrario."
   ]
  },
  {
   "cell_type": "code",
   "execution_count": null,
   "metadata": {},
   "outputs": [],
   "source": [
    "# Encuentra las personas cuyo peso es mayor a 64 kg\n",
    "mis_personas > 64"
   ]
  },
  {
   "cell_type": "markdown",
   "metadata": {},
   "source": [
    "Los operadores de comparación que puedes usar en **R** son:\n",
    "* ``==`` para ver igualdad\n",
    "* ``!=`` para ver diferencia\n",
    "* ``>=`` para ver si el lado izquierdo es mayor o igual que el derecho\n",
    "* ``<=`` para ver si el lado izquierdo es menor o igual que el derecho\n",
    "* ``>`` para ver si el lado izquierdo es mayor que el derecho\n",
    "* ``<`` para ver si el lado izquierdo es menor que el derecho\n",
    "\n",
    "Es muy importante que recuerdes que estas comparaciones son funciones vectorizadas."
   ]
  },
  {
   "cell_type": "code",
   "execution_count": null,
   "metadata": {},
   "outputs": [],
   "source": [
    "# Uso del ==\n",
    "c(1,2,5) == c(2,2,5)"
   ]
  },
  {
   "cell_type": "code",
   "execution_count": null,
   "metadata": {},
   "outputs": [],
   "source": [
    "c(1,2,3) == c(1,2,4,1,2,4)"
   ]
  },
  {
   "cell_type": "markdown",
   "metadata": {},
   "source": [
    "### Volviendo al tema de las calculadoras\n",
    "\n",
    "Como habrás visto, en **R** las operaciones aritméticas básicas se escriben con los comandos ``+, -, *,/`` y ``^``.\n",
    "\n",
    "Es importante que sepas que **R** sigue la jerarquía de las operaciones usuales. Si no la recuerdas, puedes ver este video [https://www.youtube.com/watch?v=XV5PiV2-91U]\n",
    "\n",
    "Si te es muy difícil aprenderlas, recuerda que hay una regla fundamental: siempre se hacen primero las cosas entre paréntesis, así que intenta usarlos."
   ]
  },
  {
   "cell_type": "code",
   "execution_count": null,
   "metadata": {},
   "outputs": [],
   "source": [
    "(2+3)*5"
   ]
  },
  {
   "cell_type": "code",
   "execution_count": null,
   "metadata": {},
   "outputs": [],
   "source": [
    "2+(3*5)"
   ]
  },
  {
   "cell_type": "code",
   "execution_count": null,
   "metadata": {},
   "outputs": [],
   "source": [
    "sqrt(4)+12"
   ]
  },
  {
   "cell_type": "code",
   "execution_count": null,
   "metadata": {},
   "outputs": [],
   "source": [
    "sqrt(4+12)"
   ]
  },
  {
   "cell_type": "code",
   "execution_count": null,
   "metadata": {},
   "outputs": [],
   "source": [
    "10/(sqrt(9)*8)"
   ]
  },
  {
   "cell_type": "markdown",
   "metadata": {},
   "source": [
    "Recuerda que la funciones exponencial es ``exp( )``. Así, por ejemplo, $e^2$ se calcula como ``exp(2)``.\n",
    "\n",
    "La función logaritmo es más delicada: la sintaxis es ``log(número o vector,base)``. Si omites el valor de ``base``, entonces calculará el logaritmo natural o neperiano (es decir, la función inversa de ``exp()``)\n",
    "\n"
   ]
  },
  {
   "cell_type": "code",
   "execution_count": null,
   "metadata": {},
   "outputs": [],
   "source": [
    "log(100)"
   ]
  },
  {
   "cell_type": "code",
   "execution_count": null,
   "metadata": {},
   "outputs": [],
   "source": [
    "# logaritmo en base 10 de 100 es 2 porque 10^2=100\n",
    "\n",
    "log(100,base=10)"
   ]
  },
  {
   "cell_type": "markdown",
   "metadata": {},
   "source": [
    "Otra cosa **muy importante** a recordar es que nunca puedes dividir entre 0. En **R**, cuando hay presencia de división entre 0, nos devuelve como resultado ``Inf`` o ``-Inf``, dependiendo del signo del numerador, o ``NaN`` cuando el numerador es 0."
   ]
  },
  {
   "cell_type": "code",
   "execution_count": null,
   "metadata": {},
   "outputs": [],
   "source": [
    "(1-3)*8/0"
   ]
  },
  {
   "cell_type": "code",
   "execution_count": null,
   "metadata": {},
   "outputs": [],
   "source": [
    "(1+3)*8/0"
   ]
  },
  {
   "cell_type": "code",
   "execution_count": null,
   "metadata": {},
   "outputs": [],
   "source": [
    "exp(0)/(1-1)"
   ]
  },
  {
   "cell_type": "code",
   "execution_count": null,
   "metadata": {},
   "outputs": [],
   "source": [
    "0/0"
   ]
  },
  {
   "cell_type": "code",
   "execution_count": null,
   "metadata": {},
   "outputs": [],
   "source": [
    "(exp(0)-1)/0"
   ]
  },
  {
   "cell_type": "markdown",
   "metadata": {},
   "source": [
    "El ``NaN`` también aparece cuando haces raíces cuadradas de números negativos.\n",
    "\n",
    "Por ejemplo, sabemos que en los números reales no existe $\\sqrt{-4}$"
   ]
  },
  {
   "cell_type": "code",
   "execution_count": null,
   "metadata": {},
   "outputs": [],
   "source": [
    "sqrt(-4)"
   ]
  },
  {
   "cell_type": "markdown",
   "metadata": {},
   "source": [
    "Sin embargo, como dijimos anteriormente, **R** es capaz de trabajar con números complejos con la sintaxis ``numero_a+numero_bi``"
   ]
  },
  {
   "cell_type": "code",
   "execution_count": null,
   "metadata": {},
   "outputs": [],
   "source": [
    "sqrt(-4+0i)"
   ]
  },
  {
   "cell_type": "markdown",
   "metadata": {},
   "source": [
    "Mas aun, los ``NaN`` tienen *su propia aritmética*. Prácticamente operar un ``NaN`` con otra cosa nos devuelve un ``NaN``"
   ]
  },
  {
   "cell_type": "code",
   "execution_count": null,
   "metadata": {},
   "outputs": [],
   "source": [
    "NaN / 0"
   ]
  },
  {
   "cell_type": "code",
   "execution_count": null,
   "metadata": {},
   "outputs": [],
   "source": [
    "NaN + 2"
   ]
  },
  {
   "cell_type": "code",
   "execution_count": null,
   "metadata": {},
   "outputs": [],
   "source": [
    "0 * NaN "
   ]
  },
  {
   "cell_type": "code",
   "execution_count": null,
   "metadata": {},
   "outputs": [],
   "source": [
    "Inf + NaN"
   ]
  },
  {
   "cell_type": "code",
   "execution_count": null,
   "metadata": {},
   "outputs": [],
   "source": [
    "NaN / Inf"
   ]
  },
  {
   "cell_type": "markdown",
   "metadata": {},
   "source": [
    "Finalmente, te platico que otras funciones matemáticas (que también están vectorizadas) son el seno, coseno, tangente y sus inversas: `sin()`, `cos()`, ``tan()``, `asin()`, `acos()` y `atan()`"
   ]
  },
  {
   "cell_type": "markdown",
   "metadata": {},
   "source": [
    "Si quieres saber qué hace o para qué sirve algo en **R**, utiliza el comando ``?funcion``"
   ]
  },
  {
   "cell_type": "code",
   "execution_count": null,
   "metadata": {},
   "outputs": [],
   "source": [
    "?sin()"
   ]
  }
 ],
 "metadata": {
  "kernelspec": {
   "display_name": "R",
   "language": "R",
   "name": "ir"
  },
  "language_info": {
   "codemirror_mode": "r",
   "file_extension": ".r",
   "mimetype": "text/x-r-source",
   "name": "R",
   "pygments_lexer": "r",
   "version": "3.6.1"
  }
 },
 "nbformat": 4,
 "nbformat_minor": 4
}
